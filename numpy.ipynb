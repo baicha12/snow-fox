{
 "cells": [
  {
   "cell_type": "markdown",
   "metadata": {},
   "source": [
    "# Numpy\n",
    "\n",
    "http://www.numpy.org/\n",
    "\n",
    "NumPy是用Python进行科学计算的基础软件包。它包含以下内容：\n",
    "\n",
    "- 一个强大的N维数组对象\n",
    "- 复杂的（广播）功能\n",
    "- 用于集成C / C ++和Fortran代码的工具\n",
    "- 有用的线性代数，傅里叶变换和随机数能力\n",
    "- 除了明显的科学用途外，NumPy还可以用作通用数据的高效多维容器。可以定义任意数据类型。这使得NumPy能够与各种数据库无缝并快速地整合。"
   ]
  },
  {
   "cell_type": "code",
   "execution_count": 58,
   "metadata": {},
   "outputs": [],
   "source": [
    "import numpy as np"
   ]
  },
  {
   "cell_type": "markdown",
   "metadata": {},
   "source": [
    "## 一、创建ndarray"
   ]
  },
  {
   "cell_type": "code",
   "execution_count": 7,
   "metadata": {},
   "outputs": [
    {
     "data": {
      "text/plain": [
       "array([1, 2, 3])"
      ]
     },
     "metadata": {},
     "output_type": "display_data"
    }
   ],
   "source": [
    "a = [1,2,3]\n",
    "a1 = np.array(a)\n",
    "display(a1)"
   ]
  },
  {
   "cell_type": "markdown",
   "metadata": {},
   "source": [
    "### 1. 使用np.array()"
   ]
  },
  {
   "cell_type": "markdown",
   "metadata": {},
   "source": [
    "> 注意：\n",
    "- numpy默认ndarray的所有元素的类型是相同的\n",
    "- 如果传进来的列表中包含不同的类型，则统一为同一类型，优先级：str>float>int"
   ]
  },
  {
   "cell_type": "code",
   "execution_count": 8,
   "metadata": {},
   "outputs": [
    {
     "data": {
      "text/plain": [
       "array(['1', '1.0', '1'], dtype='<U32')"
      ]
     },
     "metadata": {},
     "output_type": "display_data"
    }
   ],
   "source": [
    "b = [1,1.0,'1']\n",
    "b1= np.array(b)\n",
    "display(b1)"
   ]
  },
  {
   "cell_type": "markdown",
   "metadata": {},
   "source": [
    "### 2.二维array"
   ]
  },
  {
   "cell_type": "code",
   "execution_count": 11,
   "metadata": {},
   "outputs": [
    {
     "data": {
      "text/plain": [
       "array([[1, 2],\n",
       "       [3, 4]])"
      ]
     },
     "metadata": {},
     "output_type": "display_data"
    }
   ],
   "source": [
    "c = [[1,2],[3,4]]\n",
    "c1 = np.array(c)\n",
    "display(c1)"
   ]
  },
  {
   "cell_type": "code",
   "execution_count": 12,
   "metadata": {},
   "outputs": [
    {
     "data": {
      "text/plain": [
       "matrix([[1, 2],\n",
       "        [3, 4]])"
      ]
     },
     "execution_count": 12,
     "metadata": {},
     "output_type": "execute_result"
    }
   ],
   "source": [
    "np.matrix(c)"
   ]
  },
  {
   "cell_type": "markdown",
   "metadata": {},
   "source": [
    "## 二、ndarray的属性"
   ]
  },
  {
   "cell_type": "markdown",
   "metadata": {},
   "source": [
    "### 4个必记参数： ndim：维度 ;  shape：形状(各维度的长度);  size：总长度;  dtype：元素类型"
   ]
  },
  {
   "cell_type": "code",
   "execution_count": 16,
   "metadata": {},
   "outputs": [
    {
     "data": {
      "text/plain": [
       "array([[1, 2],\n",
       "       [3, 4]])"
      ]
     },
     "execution_count": 16,
     "metadata": {},
     "output_type": "execute_result"
    }
   ],
   "source": [
    "c1"
   ]
  },
  {
   "cell_type": "code",
   "execution_count": 14,
   "metadata": {},
   "outputs": [
    {
     "data": {
      "text/plain": [
       "2"
      ]
     },
     "execution_count": 14,
     "metadata": {},
     "output_type": "execute_result"
    }
   ],
   "source": [
    "c1.ndim"
   ]
  },
  {
   "cell_type": "code",
   "execution_count": 15,
   "metadata": {},
   "outputs": [
    {
     "data": {
      "text/plain": [
       "(2, 2)"
      ]
     },
     "execution_count": 15,
     "metadata": {},
     "output_type": "execute_result"
    }
   ],
   "source": [
    "c1.shape"
   ]
  },
  {
   "cell_type": "code",
   "execution_count": 17,
   "metadata": {},
   "outputs": [
    {
     "data": {
      "text/plain": [
       "4"
      ]
     },
     "execution_count": 17,
     "metadata": {},
     "output_type": "execute_result"
    }
   ],
   "source": [
    "c1.size"
   ]
  },
  {
   "cell_type": "code",
   "execution_count": 18,
   "metadata": {},
   "outputs": [
    {
     "data": {
      "text/plain": [
       "dtype('int64')"
      ]
     },
     "execution_count": 18,
     "metadata": {},
     "output_type": "execute_result"
    }
   ],
   "source": [
    "c1.dtype"
   ]
  },
  {
   "cell_type": "markdown",
   "metadata": {},
   "source": [
    "### 其他\n",
    "- array.flatten() # 化为一维\n",
    "- np.ravel() #  化为一维\n",
    "- np.save('p.npy', p)  # 保存到文件\n",
    "- np.load('p.npy')  # 从文件读取\n"
   ]
  },
  {
   "cell_type": "code",
   "execution_count": 19,
   "metadata": {},
   "outputs": [
    {
     "data": {
      "text/plain": [
       "array([[1, 2],\n",
       "       [3, 4]])"
      ]
     },
     "execution_count": 19,
     "metadata": {},
     "output_type": "execute_result"
    }
   ],
   "source": [
    "c1"
   ]
  },
  {
   "cell_type": "code",
   "execution_count": 20,
   "metadata": {},
   "outputs": [
    {
     "data": {
      "text/plain": [
       "array([1, 2, 3, 4])"
      ]
     },
     "execution_count": 20,
     "metadata": {},
     "output_type": "execute_result"
    }
   ],
   "source": [
    "c1.flatten()"
   ]
  },
  {
   "cell_type": "code",
   "execution_count": 21,
   "metadata": {},
   "outputs": [
    {
     "data": {
      "text/plain": [
       "array([1, 2, 3, 4])"
      ]
     },
     "execution_count": 21,
     "metadata": {},
     "output_type": "execute_result"
    }
   ],
   "source": [
    "c1.ravel()"
   ]
  },
  {
   "cell_type": "code",
   "execution_count": 22,
   "metadata": {},
   "outputs": [
    {
     "data": {
      "text/plain": [
       "array([[1, 2],\n",
       "       [3, 4]])"
      ]
     },
     "execution_count": 22,
     "metadata": {},
     "output_type": "execute_result"
    }
   ],
   "source": [
    "c1"
   ]
  },
  {
   "cell_type": "code",
   "execution_count": 23,
   "metadata": {},
   "outputs": [],
   "source": [
    "np.save('/Users/huwang/Desktop/p.npy',c1)"
   ]
  },
  {
   "cell_type": "code",
   "execution_count": 24,
   "metadata": {},
   "outputs": [
    {
     "data": {
      "text/plain": [
       "array([[1, 2],\n",
       "       [3, 4]])"
      ]
     },
     "execution_count": 24,
     "metadata": {},
     "output_type": "execute_result"
    }
   ],
   "source": [
    "np.load('/Users/huwang/Desktop/p.npy')"
   ]
  },
  {
   "cell_type": "markdown",
   "metadata": {},
   "source": [
    "## 维度 axis选择\n",
    "> - axis就表示维度的方向，1为列之间操作（也就是沿着横轴进行运算），0为行之间操作（也就是沿着纵轴进行运算）\n",
    "- 维数超过3，则无行列概念，axis就代表对应的维数"
   ]
  },
  {
   "cell_type": "markdown",
   "metadata": {},
   "source": [
    "## 三、ndarray的聚合操作"
   ]
  },
  {
   "cell_type": "markdown",
   "metadata": {},
   "source": [
    "    Function Name\tNaN-safe Version\tDescription\n",
    "    np.sum\tnp.nansum\tCompute sum of elements\n",
    "    np.prod\tnp.nanprod\tCompute product of elements  乘法\n",
    "    np.mean\tnp.nanmean\tCompute mean of elements\n",
    "    np.std\tnp.nanstd\tCompute standard deviation\n",
    "    np.var\tnp.nanvar\tCompute variance\n",
    "    np.min\tnp.nanmin\tFind minimum value\n",
    "    np.max\tnp.nanmax\tFind maximum value\n",
    "    np.argmin\tnp.nanargmin\tFind index of minimum value\n",
    "    np.argmax\tnp.nanargmax\tFind index of maximum value\n",
    "    np.median\tnp.nanmedian\tCompute median of elements\n",
    "    np.percentile\tnp.nanpercentile\tCompute rank-based statistics of elements\n",
    "    np.any\tN/A\tEvaluate whether any elements are true\n",
    "    np.all\tN/A\tEvaluate whether all elements are true\n",
    "    np.power 幂运算"
   ]
  },
  {
   "cell_type": "code",
   "execution_count": 27,
   "metadata": {},
   "outputs": [
    {
     "data": {
      "text/plain": [
       "array([[1, 2],\n",
       "       [3, 4]])"
      ]
     },
     "execution_count": 27,
     "metadata": {},
     "output_type": "execute_result"
    }
   ],
   "source": [
    "c1"
   ]
  },
  {
   "cell_type": "code",
   "execution_count": 26,
   "metadata": {
    "scrolled": true
   },
   "outputs": [
    {
     "data": {
      "text/plain": [
       "array([3, 7])"
      ]
     },
     "execution_count": 26,
     "metadata": {},
     "output_type": "execute_result"
    }
   ],
   "source": [
    "c1.sum(axis=1)"
   ]
  },
  {
   "cell_type": "code",
   "execution_count": 28,
   "metadata": {},
   "outputs": [
    {
     "data": {
      "text/plain": [
       "array([4, 6])"
      ]
     },
     "execution_count": 28,
     "metadata": {},
     "output_type": "execute_result"
    }
   ],
   "source": [
    "c1.sum(axis=0)"
   ]
  },
  {
   "cell_type": "code",
   "execution_count": 29,
   "metadata": {},
   "outputs": [
    {
     "data": {
      "text/plain": [
       "10"
      ]
     },
     "execution_count": 29,
     "metadata": {},
     "output_type": "execute_result"
    }
   ],
   "source": [
    "c1.sum()"
   ]
  },
  {
   "cell_type": "markdown",
   "metadata": {},
   "source": [
    "np.sum 和 np.nansum 的区别\n",
    "nan not a number"
   ]
  },
  {
   "cell_type": "markdown",
   "metadata": {},
   "source": [
    "# 四、 函数创建"
   ]
  },
  {
   "cell_type": "markdown",
   "metadata": {},
   "source": [
    "1) np.ones(shape, dtype=None, order='C')"
   ]
  },
  {
   "cell_type": "code",
   "execution_count": 33,
   "metadata": {},
   "outputs": [
    {
     "data": {
      "text/plain": [
       "array([[1., 1.],\n",
       "       [1., 1.]])"
      ]
     },
     "execution_count": 33,
     "metadata": {},
     "output_type": "execute_result"
    }
   ],
   "source": [
    "np.ones(shape=(2,2),dtype='float')"
   ]
  },
  {
   "cell_type": "markdown",
   "metadata": {},
   "source": [
    "2) np.zeros(shape, dtype=float, order='C')"
   ]
  },
  {
   "cell_type": "code",
   "execution_count": 40,
   "metadata": {},
   "outputs": [
    {
     "data": {
      "text/plain": [
       "array([[[0., 0., 0.],\n",
       "        [0., 0., 0.],\n",
       "        [0., 0., 0.]],\n",
       "\n",
       "       [[0., 0., 0.],\n",
       "        [0., 0., 0.],\n",
       "        [0., 0., 0.]],\n",
       "\n",
       "       [[0., 0., 0.],\n",
       "        [0., 0., 0.],\n",
       "        [0., 0., 0.]]])"
      ]
     },
     "execution_count": 40,
     "metadata": {},
     "output_type": "execute_result"
    }
   ],
   "source": [
    "np.zeros(shape=(3,3,3))\n"
   ]
  },
  {
   "cell_type": "markdown",
   "metadata": {},
   "source": [
    "3) np.full(shape, fill_value, dtype=None, order='C')"
   ]
  },
  {
   "cell_type": "code",
   "execution_count": 41,
   "metadata": {},
   "outputs": [
    {
     "data": {
      "text/plain": [
       "array([[[100, 100],\n",
       "        [100, 100],\n",
       "        [100, 100]],\n",
       "\n",
       "       [[100, 100],\n",
       "        [100, 100],\n",
       "        [100, 100]],\n",
       "\n",
       "       [[100, 100],\n",
       "        [100, 100],\n",
       "        [100, 100]]])"
      ]
     },
     "execution_count": 41,
     "metadata": {},
     "output_type": "execute_result"
    }
   ],
   "source": [
    "np.full(shape=(3,3,2),fill_value=100)"
   ]
  },
  {
   "cell_type": "markdown",
   "metadata": {},
   "source": [
    " 4)np.eye(N, M=None, k=0, dtype=float) # 单位矩阵 N行M列  K：偏移量"
   ]
  },
  {
   "cell_type": "code",
   "execution_count": 43,
   "metadata": {
    "scrolled": true
   },
   "outputs": [
    {
     "data": {
      "text/plain": [
       "array([[1., 0., 0., 0., 0., 0., 0., 0., 0., 0.],\n",
       "       [0., 1., 0., 0., 0., 0., 0., 0., 0., 0.],\n",
       "       [0., 0., 1., 0., 0., 0., 0., 0., 0., 0.],\n",
       "       [0., 0., 0., 1., 0., 0., 0., 0., 0., 0.],\n",
       "       [0., 0., 0., 0., 1., 0., 0., 0., 0., 0.],\n",
       "       [0., 0., 0., 0., 0., 1., 0., 0., 0., 0.],\n",
       "       [0., 0., 0., 0., 0., 0., 1., 0., 0., 0.],\n",
       "       [0., 0., 0., 0., 0., 0., 0., 1., 0., 0.],\n",
       "       [0., 0., 0., 0., 0., 0., 0., 0., 1., 0.],\n",
       "       [0., 0., 0., 0., 0., 0., 0., 0., 0., 1.]])"
      ]
     },
     "execution_count": 43,
     "metadata": {},
     "output_type": "execute_result"
    }
   ],
   "source": [
    "np.eye(10,10,k=0)"
   ]
  },
  {
   "cell_type": "code",
   "execution_count": 44,
   "metadata": {},
   "outputs": [
    {
     "data": {
      "text/plain": [
       "array([[0., 0., 1., 0., 0., 0., 0., 0., 0., 0.],\n",
       "       [0., 0., 0., 1., 0., 0., 0., 0., 0., 0.],\n",
       "       [0., 0., 0., 0., 1., 0., 0., 0., 0., 0.],\n",
       "       [0., 0., 0., 0., 0., 1., 0., 0., 0., 0.],\n",
       "       [0., 0., 0., 0., 0., 0., 1., 0., 0., 0.],\n",
       "       [0., 0., 0., 0., 0., 0., 0., 1., 0., 0.],\n",
       "       [0., 0., 0., 0., 0., 0., 0., 0., 1., 0.],\n",
       "       [0., 0., 0., 0., 0., 0., 0., 0., 0., 1.],\n",
       "       [0., 0., 0., 0., 0., 0., 0., 0., 0., 0.],\n",
       "       [0., 0., 0., 0., 0., 0., 0., 0., 0., 0.]])"
      ]
     },
     "execution_count": 44,
     "metadata": {},
     "output_type": "execute_result"
    }
   ],
   "source": [
    "np.eye(10,10,k=2)"
   ]
  },
  {
   "cell_type": "markdown",
   "metadata": {},
   "source": [
    "5) np.linspace(start, stop, num=50, endpoint=True, retstep=False, dtype=None)\n",
    "- endpoint 是否包括stop\n",
    "- retstep 是否显示步长"
   ]
  },
  {
   "cell_type": "code",
   "execution_count": 51,
   "metadata": {},
   "outputs": [
    {
     "data": {
      "text/plain": [
       "(array([0., 2., 4., 6., 8.]), 2.0)"
      ]
     },
     "execution_count": 51,
     "metadata": {},
     "output_type": "execute_result"
    }
   ],
   "source": [
    "np.linspace(0,10,num=5,retstep=True,endpoint=False)"
   ]
  },
  {
   "cell_type": "markdown",
   "metadata": {},
   "source": [
    "6) np.arange([start, ]stop, [step, ]dtype=None)"
   ]
  },
  {
   "cell_type": "code",
   "execution_count": 52,
   "metadata": {},
   "outputs": [
    {
     "data": {
      "text/plain": [
       "array([0, 2, 4, 6, 8])"
      ]
     },
     "execution_count": 52,
     "metadata": {},
     "output_type": "execute_result"
    }
   ],
   "source": [
    "np.arange(0,10,step=2)"
   ]
  },
  {
   "cell_type": "code",
   "execution_count": 53,
   "metadata": {},
   "outputs": [
    {
     "data": {
      "text/plain": [
       "array([0, 2, 4, 6, 8])"
      ]
     },
     "execution_count": 53,
     "metadata": {},
     "output_type": "execute_result"
    }
   ],
   "source": [
    "np.arange(10,step=2)"
   ]
  },
  {
   "cell_type": "code",
   "execution_count": 54,
   "metadata": {},
   "outputs": [
    {
     "data": {
      "text/plain": [
       "array([0, 1, 2, 3, 4, 5, 6, 7, 8, 9])"
      ]
     },
     "execution_count": 54,
     "metadata": {},
     "output_type": "execute_result"
    }
   ],
   "source": [
    "np.arange(10)"
   ]
  },
  {
   "cell_type": "markdown",
   "metadata": {},
   "source": [
    "7) np.random.randint(low, high=None, size=None, dtype='l')\n",
    "- np.random为Numpy中的随机类\n",
    "- randint 为整数型\n",
    "- 'l' 代表int"
   ]
  },
  {
   "cell_type": "code",
   "execution_count": 55,
   "metadata": {},
   "outputs": [
    {
     "data": {
      "text/plain": [
       "array([[1, 7],\n",
       "       [8, 6]])"
      ]
     },
     "execution_count": 55,
     "metadata": {},
     "output_type": "execute_result"
    }
   ],
   "source": [
    "np.random.randint(0,10,size=(2,2))"
   ]
  },
  {
   "cell_type": "markdown",
   "metadata": {},
   "source": [
    "8) numpy.random.randn(d0, d1, …, dn)是从标准正态分布中返回一个或多个样本值。\n",
    "\n",
    "numpy.random.rand(d0, d1, …, dn)的随机样本位于[0, 1)中\n",
    "d_[]为维度"
   ]
  },
  {
   "cell_type": "code",
   "execution_count": 58,
   "metadata": {
    "collapsed": true
   },
   "outputs": [
    {
     "data": {
      "text/plain": [
       "array([[[[[[-1.31572289e+00, -8.87129763e-01,  1.87130858e-01,\n",
       "            -1.39095120e+00, -1.79273750e-01, -9.99343512e-01],\n",
       "           [ 2.17187477e+00,  1.17238692e+00,  1.40942121e+00,\n",
       "            -4.46722954e-01,  1.37665720e-01,  1.67459698e+00],\n",
       "           [ 2.97903488e-01, -2.94130497e-01, -6.14039763e-01,\n",
       "             6.89979864e-01, -1.10787026e+00, -1.89965470e-01],\n",
       "           [-7.23478269e-02, -7.28254653e-01, -6.61928422e-01,\n",
       "             4.54261279e-01, -5.15008654e-01, -9.52744879e-01],\n",
       "           [ 5.14999672e-01,  2.27527173e-01,  1.41223766e+00,\n",
       "             1.06608339e+00,  2.43262447e-02,  1.20357305e+00]],\n",
       "\n",
       "          [[ 4.26156129e-02, -8.38516983e-01,  6.53531163e-01,\n",
       "            -3.07092544e-02,  1.67813232e-01,  1.38933060e-01],\n",
       "           [-3.26648081e-01, -6.66997776e-01, -1.05926362e+00,\n",
       "            -1.40401906e+00, -1.27461871e-01,  1.07695357e+00],\n",
       "           [ 3.94991491e-01,  3.11672129e-01,  2.14660320e+00,\n",
       "             1.76504302e-01,  1.48124900e-01, -3.88234827e-01],\n",
       "           [ 4.77461940e-01,  1.24586220e+00, -6.97030033e-01,\n",
       "             2.65345211e-01,  4.08490364e-01, -5.40604812e-01],\n",
       "           [-1.97836982e+00, -1.43947902e-02, -1.45692384e+00,\n",
       "            -4.20122675e-01,  6.32349517e-01,  1.47073861e+00]],\n",
       "\n",
       "          [[ 4.22819090e-01,  3.56881126e-01, -7.32949989e-01,\n",
       "            -2.58084960e-01, -5.23775113e-01,  1.15963719e+00],\n",
       "           [-6.73249060e-01, -1.30820729e+00,  2.62012788e-01,\n",
       "            -1.29464950e+00,  3.07349569e-01, -1.86199491e+00],\n",
       "           [ 2.31427978e+00, -7.11138883e-01,  1.41766315e+00,\n",
       "             4.64778067e-01, -1.15132303e+00,  9.45653205e-01],\n",
       "           [-2.75604643e-01,  1.41777775e+00, -1.06151389e+00,\n",
       "            -5.91713169e-01, -1.28941727e+00, -2.09581431e+00],\n",
       "           [ 1.06283118e+00, -1.08772487e+00,  1.36616897e-01,\n",
       "            -1.93576405e+00, -3.24425560e-01,  1.46345204e+00]],\n",
       "\n",
       "          [[ 5.83462383e-01, -5.85556060e-01,  3.86388277e-01,\n",
       "             4.41658037e-01,  3.86805552e-01,  1.42016294e+00],\n",
       "           [-8.44822767e-01, -4.69561154e-01, -4.35318697e-01,\n",
       "             3.87266098e-01,  3.16746194e-01, -4.07048761e-02],\n",
       "           [-1.02107807e+00, -1.05466298e+00, -3.33889435e-01,\n",
       "             8.43578631e-01,  1.50206177e-01,  4.69477634e-01],\n",
       "           [ 4.18028400e-01,  6.00215353e-01, -1.76736261e+00,\n",
       "             4.22412455e-01, -3.76211837e-01, -1.90256836e-01],\n",
       "           [-6.86479288e-01,  3.48730708e-01,  1.34422507e+00,\n",
       "             8.53108134e-01,  4.51515612e-01, -2.03065939e-01]]],\n",
       "\n",
       "\n",
       "         [[[-1.31843306e+00,  1.04352658e+00,  1.18788413e+00,\n",
       "             1.68291662e-02, -3.23823626e-01,  1.31276028e+00],\n",
       "           [ 1.74655109e+00,  4.11953842e-01, -8.47614223e-01,\n",
       "             9.58804645e-01,  3.85284035e-01, -3.72207307e-01],\n",
       "           [-2.24497769e+00, -3.07897841e-02, -1.20537117e+00,\n",
       "            -1.45638692e+00, -3.55687623e-01, -1.34100495e+00],\n",
       "           [ 4.14974934e-01, -5.33835355e-01,  8.88015485e-01,\n",
       "            -1.26347249e-01, -1.56905678e+00, -4.32446603e-02],\n",
       "           [ 4.92472869e-01,  1.09816526e+00, -3.35256672e-01,\n",
       "             1.12169298e+00, -6.65724210e-01, -8.72010224e-01]],\n",
       "\n",
       "          [[ 1.38393627e+00,  1.15840362e+00, -3.64164670e-01,\n",
       "             5.33026506e-01, -3.30622940e-01, -1.37630123e+00],\n",
       "           [-1.30873604e-01,  8.73122411e-01, -6.34562481e-01,\n",
       "             7.13451669e-01, -6.50890695e-02,  1.69540262e+00],\n",
       "           [-3.37345857e-01,  1.58333217e+00, -1.31714643e+00,\n",
       "             6.60186612e-01, -1.53222471e+00,  3.63176288e-01],\n",
       "           [ 4.76285832e-01,  2.56698146e+00,  4.97225703e-01,\n",
       "             1.34162423e+00, -2.71785495e+00, -8.96662356e-01],\n",
       "           [ 1.28360477e+00, -4.78142141e-02, -2.03897985e+00,\n",
       "            -2.68516546e+00,  2.58603547e-01,  1.87815697e-02]],\n",
       "\n",
       "          [[-4.07069914e-01, -5.05773386e-01, -6.93981056e-01,\n",
       "             1.83597512e-01, -1.37142990e+00,  5.73042921e-01],\n",
       "           [ 9.73169515e-04, -5.41494148e-02, -2.94658205e-01,\n",
       "            -7.33944548e-01,  7.14323954e-01, -1.53185385e+00],\n",
       "           [ 3.61965230e-01,  2.43872815e-01,  1.06793896e+00,\n",
       "            -7.64990739e-01, -5.36445624e-01, -1.06842422e+00],\n",
       "           [ 5.49048956e-01,  5.21366908e-01, -1.56029264e+00,\n",
       "             4.28389013e-01, -1.16596061e+00, -1.17183925e+00],\n",
       "           [ 8.03206275e-01, -7.06887367e-02, -1.08278288e-01,\n",
       "            -1.09374176e-01,  1.93194877e-01,  5.48038534e-03]],\n",
       "\n",
       "          [[-1.85525178e+00, -7.05487555e-01,  4.32210150e-01,\n",
       "             7.64455018e-01, -5.95662210e-01,  1.57251039e-01],\n",
       "           [ 7.33066111e-01,  1.92826431e+00, -5.25452093e-02,\n",
       "             2.64230003e+00,  2.03910038e+00, -5.98568849e-01],\n",
       "           [ 8.64755470e-02,  7.35691762e-01,  1.68549997e+00,\n",
       "            -9.73571853e-02,  2.35762491e+00, -1.52377489e+00],\n",
       "           [-6.28490711e-01, -7.80225852e-01, -1.06309891e-01,\n",
       "             6.57779593e-01,  1.15404414e-01,  1.01086758e+00],\n",
       "           [-5.30122519e-01,  3.89991867e-01,  1.28417805e+00,\n",
       "             1.13322631e+00, -5.68309216e-01, -2.78283333e-02]]],\n",
       "\n",
       "\n",
       "         [[[ 1.03178069e+00, -1.67298943e+00, -5.85294649e-01,\n",
       "             8.79428843e-01,  6.83454354e-01, -4.84592476e-01],\n",
       "           [ 2.37025097e+00, -3.54994259e-02,  1.00248025e-01,\n",
       "             1.44845945e+00, -9.50955967e-02,  3.09080114e-01],\n",
       "           [-1.10668391e+00, -4.60690521e-01, -1.89228712e+00,\n",
       "            -4.10717766e-01,  3.22722149e-01, -9.18226316e-01],\n",
       "           [-5.32356196e-01,  1.51910133e-01,  7.73399247e-01,\n",
       "             5.43601061e-01,  7.48176326e-01, -1.41944841e+00],\n",
       "           [ 4.96878153e-01,  9.83850197e-01,  2.20504203e-01,\n",
       "             2.75787508e-01,  9.90595756e-01,  2.24621457e-01]],\n",
       "\n",
       "          [[ 5.71203559e-01,  5.47032857e-01, -3.39217504e-01,\n",
       "             5.28126526e-02, -1.78580548e+00, -9.84147244e-01],\n",
       "           [-2.18231212e+00,  8.95267581e-02, -1.81175828e+00,\n",
       "             1.60444529e+00,  1.39483139e+00, -1.59049193e+00],\n",
       "           [-5.04109750e-01,  4.45145077e-01, -4.00032835e-01,\n",
       "             1.25139890e+00,  1.29796267e+00,  8.09797092e-01],\n",
       "           [ 1.14261510e+00, -6.36594969e-01,  9.35723861e-01,\n",
       "            -1.01782958e-01, -1.47087198e+00, -9.55594086e-01],\n",
       "           [-8.76340828e-02, -8.08620675e-01,  6.14892021e-01,\n",
       "            -6.78693563e-02, -5.08051262e-01, -8.08177020e-01]],\n",
       "\n",
       "          [[ 7.25756860e-01, -1.36018325e-01,  5.49491291e-01,\n",
       "             7.27795734e-01,  8.15264421e-01,  2.28924150e+00],\n",
       "           [ 2.45538508e+00, -2.66351576e-01, -1.38113475e+00,\n",
       "            -1.49125542e+00,  1.42935189e+00, -1.14713047e-01],\n",
       "           [-6.12480821e-01, -7.12154468e-01,  5.95681676e-01,\n",
       "            -6.29889074e-01, -3.75594906e-01, -5.50257836e-01],\n",
       "           [-5.38643130e-01,  1.29379500e-01, -1.07508427e+00,\n",
       "            -6.83329091e-01, -1.69582970e+00, -1.43337519e-01],\n",
       "           [-1.89466759e-01, -3.21648769e-01, -9.40528162e-01,\n",
       "            -9.21094735e-02,  7.04195823e-01,  7.62650457e-01]],\n",
       "\n",
       "          [[-1.06599161e+00, -1.57607245e+00,  4.17499267e-01,\n",
       "            -2.14495176e-01, -1.09403384e+00, -2.10590570e-01],\n",
       "           [ 8.81628403e-01, -2.03587507e-01, -6.12116824e-02,\n",
       "             1.35963109e-01,  1.29881830e+00,  6.93084968e-01],\n",
       "           [ 3.95172492e-01,  6.54943688e-01,  9.89967750e-02,\n",
       "            -9.11151563e-01,  7.65130158e-01,  1.60738830e+00],\n",
       "           [-8.08634864e-01, -1.11557805e+00, -7.52850716e-01,\n",
       "             1.93965984e-01, -6.02098704e-01, -5.11095872e-01],\n",
       "           [-5.60053357e-01,  9.60600262e-02, -1.55058689e+00,\n",
       "            -4.09007760e-01,  2.01976284e+00, -4.05511403e-01]]]],\n",
       "\n",
       "\n",
       "\n",
       "        [[[[-2.26931964e-01, -2.46711884e+00, -7.27666187e-01,\n",
       "             2.31372533e-01, -1.62005613e-01, -2.29330445e-02],\n",
       "           [-9.06456657e-01,  7.98193651e-01,  1.38617744e+00,\n",
       "             4.03815443e-01, -7.99400120e-02, -3.33663875e-01],\n",
       "           [-1.19035251e+00, -1.52660627e+00,  7.40402050e-03,\n",
       "            -1.40818493e+00, -1.31361625e+00, -1.63761949e+00],\n",
       "           [-2.41056329e+00, -2.29514597e+00,  7.86689584e-01,\n",
       "             2.06721298e+00, -2.37133880e-01, -3.19582665e-01],\n",
       "           [-3.92075924e-01,  1.55593993e+00, -3.02997443e-01,\n",
       "            -5.02594183e-01, -9.85032174e-01,  7.77910468e-01]],\n",
       "\n",
       "          [[ 1.36823178e+00,  1.21475605e-01,  1.41645094e+00,\n",
       "             1.13248229e+00, -7.59189075e-01,  3.32296604e-01],\n",
       "           [-1.70551108e+00,  4.80968126e-01, -1.03159021e+00,\n",
       "            -6.41459039e-01, -8.33020541e-01,  1.89771100e+00],\n",
       "           [-2.14690512e+00, -6.28925554e-01,  1.96105467e+00,\n",
       "             1.11485802e+00, -2.04026866e-01,  3.45677131e-02],\n",
       "           [ 4.18427922e-02,  4.74417132e-01,  5.63772448e-01,\n",
       "            -1.66352187e+00,  4.67478767e-01,  1.97860615e-01],\n",
       "           [ 1.29228991e+00, -1.23761515e+00, -8.09859219e-01,\n",
       "             2.32118282e+00,  2.58911798e-01,  2.37018934e+00]],\n",
       "\n",
       "          [[-1.28384814e-01,  1.72379536e+00,  8.22554231e-01,\n",
       "             1.62989099e-01,  3.63353821e-02, -2.03801458e-02],\n",
       "           [ 6.57203161e-01, -7.09982750e-01, -1.64424164e+00,\n",
       "            -1.33809242e+00,  2.30949660e+00,  1.23989054e+00],\n",
       "           [-7.15145288e-01, -4.90200581e-01,  5.36059958e-01,\n",
       "             1.63163228e+00,  1.41388953e-01,  8.90018276e-01],\n",
       "           [-1.43897964e+00, -5.32538112e-01,  1.46493113e-01,\n",
       "             8.24980636e-02, -1.36675880e+00, -8.73757399e-01],\n",
       "           [ 6.73842475e-01,  1.06027758e-01,  4.19612315e-02,\n",
       "             3.65095318e-01,  3.88032198e-01, -1.74164615e+00]],\n",
       "\n",
       "          [[-3.74149064e-01,  2.03178687e+00,  2.11589863e-01,\n",
       "             1.14615718e+00,  4.10661403e-01, -1.77681645e-01],\n",
       "           [-6.77929899e-01,  1.11193302e-01,  1.59107219e+00,\n",
       "             1.51775334e-01,  2.31484388e-01, -1.82662161e+00],\n",
       "           [ 1.00144884e-02,  1.23356916e+00,  7.80398049e-01,\n",
       "             4.50227609e-01, -7.10948118e-01, -1.41348852e+00],\n",
       "           [-4.34696413e-01,  4.63885579e-01, -7.74913557e-01,\n",
       "            -9.47481047e-01,  1.39140475e+00, -9.42094633e-01],\n",
       "           [-2.40428407e-01,  3.55753555e-01, -6.35568966e-01,\n",
       "            -6.32094644e-01,  5.14888716e-01, -1.10387277e+00]]],\n",
       "\n",
       "\n",
       "         [[[-4.44132251e-01, -2.93052468e-01, -9.45248590e-01,\n",
       "            -7.12297946e-01, -1.62033217e+00, -1.00588101e+00],\n",
       "           [-1.65198296e-02, -5.33151725e-02,  1.58847472e+00,\n",
       "             3.37398937e-01,  4.61379107e-01, -5.42354140e-01],\n",
       "           [-2.84891207e-01, -5.90457985e-01, -5.39595014e-01,\n",
       "             5.93554172e-01, -5.29197257e-01, -2.00121647e-01],\n",
       "           [-4.61182254e-01,  3.10561239e-01, -4.99456143e-01,\n",
       "            -2.64641450e-01, -9.11222392e-01,  1.72358078e+00],\n",
       "           [ 2.07829805e+00,  1.30636781e+00, -4.92975443e-02,\n",
       "            -5.39155950e-01, -5.02270118e-01,  1.17323359e+00]],\n",
       "\n",
       "          [[ 8.00254034e-01,  3.69005940e-01, -4.72727621e-01,\n",
       "            -4.02639951e-01,  8.87263390e-01, -1.10168757e-01],\n",
       "           [-3.65377337e-01,  1.30641231e-01,  1.85316217e+00,\n",
       "            -4.70181088e-01,  3.39152852e-01, -1.22691843e+00],\n",
       "           [ 9.84475040e-01, -2.75333455e-02,  6.95447568e-01,\n",
       "             1.50950525e-02, -1.58618378e-01,  6.30732669e-02],\n",
       "           [-8.96703993e-02,  1.45494817e+00, -1.22082612e+00,\n",
       "            -7.36765333e-01, -1.43695760e+00,  6.85539340e-01],\n",
       "           [ 1.40282490e+00, -7.68598754e-02, -5.37616454e-01,\n",
       "            -4.97137169e-02,  1.76550921e+00, -3.02884225e-01]],\n",
       "\n",
       "          [[-7.94279842e-01,  6.15634776e-02, -4.89579521e-01,\n",
       "            -3.08972987e-01,  3.33556582e-01, -9.10139503e-02],\n",
       "           [ 1.25496765e+00,  2.77789624e+00,  8.04682215e-01,\n",
       "             1.45939199e+00,  1.93248455e+00, -1.00044208e+00],\n",
       "           [-1.03256192e+00, -2.33558903e-01,  8.50174496e-02,\n",
       "            -3.58672160e-01,  1.68322595e+00, -6.28650644e-02],\n",
       "           [-9.57740520e-01,  1.35605934e+00, -9.27552412e-01,\n",
       "            -8.63296804e-01,  8.92179915e-01,  5.40581632e-01],\n",
       "           [ 6.13975446e-01, -3.74921796e-01, -2.05409394e+00,\n",
       "            -3.77139454e-01, -4.06022793e-01,  1.27527743e-01]],\n",
       "\n",
       "          [[ 9.50429212e-01,  1.07120326e+00, -7.80213481e-01,\n",
       "            -3.19036382e-01,  4.83422025e-01,  3.43032652e-01],\n",
       "           [-1.12917855e-01,  1.89268608e-01, -2.78988418e-01,\n",
       "            -3.28544302e-01, -6.62396863e-02, -9.83430302e-03],\n",
       "           [-8.32307644e-01,  5.51726374e-01,  1.57783198e-02,\n",
       "            -1.24180055e+00,  2.06583889e-01, -3.32030819e-01],\n",
       "           [-1.52208894e-01, -7.36476827e-01, -1.47210794e+00,\n",
       "             3.69919027e-01, -2.08658763e-02, -7.74948654e-01],\n",
       "           [-9.87926695e-01, -6.15943429e-01,  1.04969013e+00,\n",
       "            -1.32243437e+00, -9.94130846e-01,  8.36542897e-01]]],\n",
       "\n",
       "\n",
       "         [[[-1.03027908e-01,  8.19325101e-01, -6.09616334e-03,\n",
       "            -9.16843150e-01, -1.87162424e-01,  1.07252539e+00],\n",
       "           [-6.13658160e-01,  1.18125367e+00, -2.11856066e-01,\n",
       "             3.27498806e-02,  3.06654407e-02,  8.01053274e-01],\n",
       "           [-1.80990776e-01,  1.71898928e+00,  5.80473766e-02,\n",
       "             4.70276681e-01,  3.19640123e-01, -7.66450654e-02],\n",
       "           [ 8.20041787e-01, -4.16293107e-01, -1.76065040e+00,\n",
       "             4.93051177e-02,  3.73538855e-02,  1.33865199e+00],\n",
       "           [-1.36211067e+00, -1.26887661e-01, -2.38519825e+00,\n",
       "             9.02819520e-03,  5.73805055e-01,  1.11656474e+00]],\n",
       "\n",
       "          [[ 6.50356362e-02, -1.98083067e+00,  2.57452436e-01,\n",
       "            -1.36049610e+00, -4.73618958e-01, -7.15513327e-01],\n",
       "           [ 9.56785426e-01,  1.71755948e-01, -1.12639899e+00,\n",
       "             1.43745963e+00, -4.65658409e-01, -6.85864576e-01],\n",
       "           [-3.48822126e-02,  8.98090541e-01, -1.79305836e-01,\n",
       "            -2.25706150e+00,  1.41189710e+00, -8.11405533e-01],\n",
       "           [-1.83305581e+00, -1.44160682e+00, -1.80728226e-01,\n",
       "            -4.26755532e-01,  1.03609291e+00,  1.36469024e-01],\n",
       "           [ 1.17636851e+00, -4.57051854e-01, -1.60934322e+00,\n",
       "            -1.14442154e+00, -4.75047484e-01, -1.42040837e+00]],\n",
       "\n",
       "          [[-1.12525751e-01,  1.06696032e+00,  4.73458063e-01,\n",
       "            -6.42777656e-01,  2.31933059e+00, -1.69850729e+00],\n",
       "           [ 2.30169456e-01, -4.40061628e-01, -1.90521837e+00,\n",
       "            -5.21708892e-01,  3.74267005e-01,  5.85268719e-01],\n",
       "           [-2.21935419e-01, -1.71976861e+00, -4.89584856e-01,\n",
       "            -1.34146517e+00, -9.76624199e-01,  2.36701916e-01],\n",
       "           [ 7.92302529e-01,  1.28816457e-01,  9.58767198e-01,\n",
       "             4.61613567e-02,  3.31978466e-01,  1.53250801e+00],\n",
       "           [-1.01667051e+00,  7.37324426e-01,  7.21282762e-01,\n",
       "            -9.91348696e-01, -1.05579547e+00, -2.14978187e-01]],\n",
       "\n",
       "          [[-4.71198198e-01,  8.73697439e-01,  3.56919642e-01,\n",
       "             1.06574154e+00,  6.63245157e-01, -1.29976387e+00],\n",
       "           [ 8.47608542e-01,  4.82958956e-01, -1.22038160e+00,\n",
       "             1.02660206e+00,  3.30536298e-01, -1.61490907e+00],\n",
       "           [ 3.50036253e-01, -1.18008144e+00,  6.61665611e-01,\n",
       "             1.14442990e+00,  3.74531273e-02, -2.16571342e+00],\n",
       "           [-7.57293742e-02, -2.59521810e+00,  8.41676782e-01,\n",
       "             4.47002829e-01, -1.12776291e-01,  1.09482574e+00],\n",
       "           [-1.08147139e+00,  1.28989158e+00, -2.16421482e-01,\n",
       "             1.88952772e+00, -5.60824864e-01, -3.82778626e-02]]]]]])"
      ]
     },
     "execution_count": 58,
     "metadata": {},
     "output_type": "execute_result"
    }
   ],
   "source": [
    "np.random.randn(1,2,3,4,5,6)"
   ]
  },
  {
   "cell_type": "markdown",
   "metadata": {},
   "source": [
    "9)标准正太分布　\n",
    "np.random.normal(loc=0.0, scale=1.0, size=None)\n",
    "- 可以控制期望值和方差变化\n",
    "- loc 期望值 默认0\n",
    "- scale 方差 默认值1"
   ]
  },
  {
   "cell_type": "code",
   "execution_count": 59,
   "metadata": {},
   "outputs": [
    {
     "data": {
      "text/plain": [
       "array([[0.944883  , 0.59684004],\n",
       "       [0.32913754, 0.85564348]])"
      ]
     },
     "execution_count": 59,
     "metadata": {},
     "output_type": "execute_result"
    }
   ],
   "source": [
    "np.random.rand(2,2)"
   ]
  },
  {
   "cell_type": "markdown",
   "metadata": {},
   "source": [
    "10)np.random.random(size=None)\n",
    "生成0到1的随机数，左闭右开"
   ]
  },
  {
   "cell_type": "code",
   "execution_count": 60,
   "metadata": {},
   "outputs": [
    {
     "data": {
      "text/plain": [
       "array([[0.84350581, 0.05544542],\n",
       "       [0.7681776 , 0.87120259]])"
      ]
     },
     "execution_count": 60,
     "metadata": {},
     "output_type": "execute_result"
    }
   ],
   "source": [
    "np.random.random(size=(2,2))"
   ]
  },
  {
   "cell_type": "markdown",
   "metadata": {},
   "source": [
    "## 练习一\n",
    "- 生成一个二维的数组并自选取聚合操作\n",
    "- 随机生成三维RGB数组\n",
    "> 提示：\n",
    "    - 每个元素大小在大小在0-1之间，或者0-255之间( png 0-1, jpg 0-255 )\n",
    "    - 使用：\n",
    "    - import matplotlib.pyplot as plt\n",
    "    - %matplotlib inline\n",
    "    - plt.imshow(array) 展示\n",
    "    "
   ]
  },
  {
   "cell_type": "code",
   "execution_count": 2,
   "metadata": {},
   "outputs": [],
   "source": [
    "import matplotlib.pyplot as plt\n",
    "%matplotlib inline"
   ]
  },
  {
   "cell_type": "code",
   "execution_count": 25,
   "metadata": {
    "scrolled": true
   },
   "outputs": [
    {
     "data": {
      "text/plain": [
       "<matplotlib.image.AxesImage at 0x10e93fc18>"
      ]
     },
     "execution_count": 25,
     "metadata": {},
     "output_type": "execute_result"
    },
    {
     "data": {
      "image/png": "[encoded data removed]",
      "text/plain": [
       "<matplotlib.figure.Figure at 0x10e728780>"
      ]
     },
     "metadata": {},
     "output_type": "display_data"
    }
   ],
   "source": [
    "data = np.random.random(size=(50,50,3))\n",
    "# display(data)\n",
    "plt.imshow(data)"
   ]
  },
  {
   "cell_type": "code",
   "execution_count": 68,
   "metadata": {},
   "outputs": [
    {
     "data": {
      "text/plain": [
       "<matplotlib.image.AxesImage at 0x106d4d048>"
      ]
     },
     "execution_count": 68,
     "metadata": {},
     "output_type": "execute_result"
    },
    {
     "data": {
      "image/png": "[encoded data removed]",
      "text/plain": [
       "<matplotlib.figure.Figure at 0x106cfa550>"
      ]
     },
     "metadata": {},
     "output_type": "display_data"
    }
   ],
   "source": [
    "plt.imshow(data)"
   ]
  },
  {
   "cell_type": "markdown",
   "metadata": {},
   "source": [
    "# 五 ndarray的基本操作"
   ]
  },
  {
   "cell_type": "markdown",
   "metadata": {},
   "source": [
    "## 1. 索引\n",
    "一维与列表完全一致 多维时同理"
   ]
  },
  {
   "cell_type": "markdown",
   "metadata": {},
   "source": [
    "### 一维数组索引"
   ]
  },
  {
   "cell_type": "code",
   "execution_count": 62,
   "metadata": {},
   "outputs": [
    {
     "data": {
      "text/plain": [
       "array([1, 2, 3, 4, 5, 6, 7, 8, 9])"
      ]
     },
     "metadata": {},
     "output_type": "display_data"
    }
   ],
   "source": [
    "g = np.arange(1,10)\n",
    "display(g)"
   ]
  },
  {
   "cell_type": "markdown",
   "metadata": {},
   "source": [
    "A、正序"
   ]
  },
  {
   "cell_type": "code",
   "execution_count": 63,
   "metadata": {},
   "outputs": [
    {
     "data": {
      "text/plain": [
       "1"
      ]
     },
     "execution_count": 63,
     "metadata": {},
     "output_type": "execute_result"
    }
   ],
   "source": [
    "g[0]"
   ]
  },
  {
   "cell_type": "markdown",
   "metadata": {},
   "source": [
    "B、逆序 == 总长度 - 正序值\n",
    "比如 -1 == 总长度 - 1"
   ]
  },
  {
   "cell_type": "code",
   "execution_count": 64,
   "metadata": {},
   "outputs": [
    {
     "data": {
      "text/plain": [
       "9"
      ]
     },
     "execution_count": 64,
     "metadata": {},
     "output_type": "execute_result"
    }
   ],
   "source": [
    "g[-1]"
   ]
  },
  {
   "cell_type": "markdown",
   "metadata": {},
   "source": [
    "c、由索引获取相应的值"
   ]
  },
  {
   "cell_type": "code",
   "execution_count": 65,
   "metadata": {},
   "outputs": [
    {
     "data": {
      "text/plain": [
       "5"
      ]
     },
     "execution_count": 65,
     "metadata": {},
     "output_type": "execute_result"
    }
   ],
   "source": [
    "g[4]"
   ]
  },
  {
   "cell_type": "code",
   "execution_count": 66,
   "metadata": {},
   "outputs": [
    {
     "data": {
      "text/plain": [
       "5"
      ]
     },
     "execution_count": 66,
     "metadata": {},
     "output_type": "execute_result"
    }
   ],
   "source": [
    "g[-5]"
   ]
  },
  {
   "cell_type": "markdown",
   "metadata": {},
   "source": [
    "### 多维数组索引"
   ]
  },
  {
   "cell_type": "code",
   "execution_count": 80,
   "metadata": {},
   "outputs": [
    {
     "data": {
      "text/plain": [
       "array([[[[9, 0, 1, 5],\n",
       "         [1, 1, 1, 1]],\n",
       "\n",
       "        [[5, 2, 0, 0],\n",
       "         [9, 1, 9, 3]]],\n",
       "\n",
       "\n",
       "       [[[0, 9, 5, 1],\n",
       "         [8, 2, 1, 7]],\n",
       "\n",
       "        [[7, 3, 6, 0],\n",
       "         [9, 3, 6, 6]]],\n",
       "\n",
       "\n",
       "       [[[5, 9, 1, 5],\n",
       "         [2, 1, 9, 9]],\n",
       "\n",
       "        [[0, 7, 4, 8],\n",
       "         [1, 9, 5, 7]]]])"
      ]
     },
     "metadata": {},
     "output_type": "display_data"
    }
   ],
   "source": [
    "g1 = np.random.randint(0,10,size=(2,2,2))\n",
    "display(g1)"
   ]
  },
  {
   "cell_type": "markdown",
   "metadata": {},
   "source": [
    "A、获取某一维度"
   ]
  },
  {
   "cell_type": "code",
   "execution_count": 74,
   "metadata": {},
   "outputs": [
    {
     "data": {
      "text/plain": [
       "5"
      ]
     },
     "execution_count": 74,
     "metadata": {},
     "output_type": "execute_result"
    }
   ],
   "source": [
    "g1[0][0][0]"
   ]
  },
  {
   "cell_type": "code",
   "execution_count": 78,
   "metadata": {},
   "outputs": [
    {
     "data": {
      "text/plain": [
       "8"
      ]
     },
     "execution_count": 78,
     "metadata": {},
     "output_type": "execute_result"
    }
   ],
   "source": [
    "g1[0][1][1]"
   ]
  },
  {
   "cell_type": "markdown",
   "metadata": {},
   "source": [
    "B、获取某一维度下的元素"
   ]
  },
  {
   "cell_type": "code",
   "execution_count": 79,
   "metadata": {},
   "outputs": [
    {
     "data": {
      "text/plain": [
       "8"
      ]
     },
     "execution_count": 79,
     "metadata": {},
     "output_type": "execute_result"
    }
   ],
   "source": [
    "g1[0,1,1]"
   ]
  },
  {
   "cell_type": "code",
   "execution_count": 85,
   "metadata": {},
   "outputs": [
    {
     "data": {
      "text/plain": [
       "3"
      ]
     },
     "execution_count": 85,
     "metadata": {},
     "output_type": "execute_result"
    }
   ],
   "source": [
    "# g1[0][1][1][3]"
   ]
  },
  {
   "cell_type": "markdown",
   "metadata": {},
   "source": [
    "## 2.索引切片"
   ]
  },
  {
   "cell_type": "markdown",
   "metadata": {},
   "source": [
    "### 一维切片"
   ]
  },
  {
   "cell_type": "code",
   "execution_count": 87,
   "metadata": {},
   "outputs": [
    {
     "data": {
      "text/plain": [
       "array([0, 1, 2, 3, 4, 5, 6, 7, 8, 9])"
      ]
     },
     "metadata": {},
     "output_type": "display_data"
    }
   ],
   "source": [
    "g3 = np.arange(0,10)\n",
    "display(g3)"
   ]
  },
  {
   "cell_type": "markdown",
   "metadata": {},
   "source": [
    "A、正向切片"
   ]
  },
  {
   "cell_type": "code",
   "execution_count": 88,
   "metadata": {},
   "outputs": [
    {
     "data": {
      "text/plain": [
       "array([2, 3, 4])"
      ]
     },
     "execution_count": 88,
     "metadata": {},
     "output_type": "execute_result"
    }
   ],
   "source": [
    "g3[2:5]"
   ]
  },
  {
   "cell_type": "markdown",
   "metadata": {},
   "source": [
    "B、逆向切片"
   ]
  },
  {
   "cell_type": "code",
   "execution_count": 89,
   "metadata": {},
   "outputs": [
    {
     "data": {
      "text/plain": [
       "array([4, 5, 6])"
      ]
     },
     "execution_count": 89,
     "metadata": {},
     "output_type": "execute_result"
    }
   ],
   "source": [
    "g3[-6:-3]"
   ]
  },
  {
   "cell_type": "markdown",
   "metadata": {},
   "source": [
    "C、步长切片\n",
    "array[start:end:step]"
   ]
  },
  {
   "cell_type": "code",
   "execution_count": 90,
   "metadata": {},
   "outputs": [
    {
     "data": {
      "text/plain": [
       "array([0, 2, 4, 6, 8])"
      ]
     },
     "execution_count": 90,
     "metadata": {},
     "output_type": "execute_result"
    }
   ],
   "source": [
    "g3[0:-1:2]"
   ]
  },
  {
   "cell_type": "markdown",
   "metadata": {},
   "source": [
    "D、逆转切片"
   ]
  },
  {
   "cell_type": "code",
   "execution_count": 99,
   "metadata": {},
   "outputs": [
    {
     "data": {
      "text/plain": [
       "array([9, 8, 7, 6, 5, 4, 3, 2, 1, 0])"
      ]
     },
     "execution_count": 99,
     "metadata": {},
     "output_type": "execute_result"
    }
   ],
   "source": [
    "g3[::-1]"
   ]
  },
  {
   "cell_type": "markdown",
   "metadata": {},
   "source": [
    "### 多维数组切片\n",
    "> 降维式切"
   ]
  },
  {
   "cell_type": "code",
   "execution_count": 101,
   "metadata": {
    "scrolled": true
   },
   "outputs": [
    {
     "data": {
      "text/plain": [
       "array([[[24,  6, 25],\n",
       "        [15, 58, 76],\n",
       "        [58, 27,  5]],\n",
       "\n",
       "       [[92,  0, 73],\n",
       "        [21, 44, 89],\n",
       "        [80, 53, 90]],\n",
       "\n",
       "       [[12, 39, 11],\n",
       "        [75, 12, 80],\n",
       "        [78,  1,  5]]])"
      ]
     },
     "metadata": {},
     "output_type": "display_data"
    }
   ],
   "source": [
    "g4 = np.random.randint(0,100,size=(3,3,3))\n",
    "display(g4)"
   ]
  },
  {
   "cell_type": "code",
   "execution_count": 110,
   "metadata": {},
   "outputs": [
    {
     "data": {
      "text/plain": [
       "array([[92,  0],\n",
       "       [21, 44],\n",
       "       [80, 53]])"
      ]
     },
     "execution_count": 110,
     "metadata": {},
     "output_type": "execute_result"
    }
   ],
   "source": [
    "g4[1,0:3,0:2]"
   ]
  },
  {
   "cell_type": "code",
   "execution_count": 111,
   "metadata": {},
   "outputs": [
    {
     "data": {
      "text/plain": [
       "array([[92,  0],\n",
       "       [21, 44],\n",
       "       [80, 53]])"
      ]
     },
     "execution_count": 111,
     "metadata": {},
     "output_type": "execute_result"
    }
   ],
   "source": [
    "g4[1,:,0:2]"
   ]
  },
  {
   "cell_type": "code",
   "execution_count": 114,
   "metadata": {},
   "outputs": [
    {
     "data": {
      "text/plain": [
       "array([[[ 6, 25],\n",
       "        [58, 76],\n",
       "        [27,  5]],\n",
       "\n",
       "       [[ 0, 73],\n",
       "        [44, 89],\n",
       "        [53, 90]],\n",
       "\n",
       "       [[39, 11],\n",
       "        [12, 80],\n",
       "        [ 1,  5]]])"
      ]
     },
     "execution_count": 114,
     "metadata": {},
     "output_type": "execute_result"
    }
   ],
   "source": [
    "g4[:,:,1:3]"
   ]
  },
  {
   "cell_type": "markdown",
   "metadata": {},
   "source": [
    "A、正向切片"
   ]
  },
  {
   "cell_type": "code",
   "execution_count": 106,
   "metadata": {},
   "outputs": [
    {
     "data": {
      "text/plain": [
       "array([ 6, 25])"
      ]
     },
     "execution_count": 106,
     "metadata": {},
     "output_type": "execute_result"
    }
   ],
   "source": [
    "g4[0][0][1:3]"
   ]
  },
  {
   "cell_type": "code",
   "execution_count": 107,
   "metadata": {},
   "outputs": [
    {
     "data": {
      "text/plain": [
       "array([ 6, 25])"
      ]
     },
     "execution_count": 107,
     "metadata": {},
     "output_type": "execute_result"
    }
   ],
   "source": [
    "g4[0,0,1:3]"
   ]
  },
  {
   "cell_type": "code",
   "execution_count": 108,
   "metadata": {},
   "outputs": [
    {
     "data": {
      "text/plain": [
       "array([24, 15])"
      ]
     },
     "execution_count": 108,
     "metadata": {},
     "output_type": "execute_result"
    }
   ],
   "source": [
    "g4[0,0:2,0]"
   ]
  },
  {
   "cell_type": "code",
   "execution_count": 109,
   "metadata": {},
   "outputs": [
    {
     "data": {
      "text/plain": [
       "array([[44, 89],\n",
       "       [53, 90]])"
      ]
     },
     "execution_count": 109,
     "metadata": {},
     "output_type": "execute_result"
    }
   ],
   "source": [
    "g4[1,1:3,1:3]"
   ]
  },
  {
   "cell_type": "markdown",
   "metadata": {},
   "source": [
    "B、逆向切片"
   ]
  },
  {
   "cell_type": "code",
   "execution_count": 125,
   "metadata": {},
   "outputs": [
    {
     "data": {
      "text/plain": [
       "array([[[24,  6, 25],\n",
       "        [15, 58, 76],\n",
       "        [58, 27,  5]],\n",
       "\n",
       "       [[92,  0, 73],\n",
       "        [21, 44, 89],\n",
       "        [80, 53, 90]],\n",
       "\n",
       "       [[12, 39, 11],\n",
       "        [75, 12, 80],\n",
       "        [78,  1,  5]]])"
      ]
     },
     "execution_count": 125,
     "metadata": {},
     "output_type": "execute_result"
    }
   ],
   "source": [
    "g4"
   ]
  },
  {
   "cell_type": "code",
   "execution_count": 132,
   "metadata": {
    "scrolled": true
   },
   "outputs": [
    {
     "data": {
      "text/plain": [
       "array([92, 21, 80])"
      ]
     },
     "execution_count": 132,
     "metadata": {},
     "output_type": "execute_result"
    }
   ],
   "source": [
    "g4[-2,:,0]"
   ]
  },
  {
   "cell_type": "code",
   "execution_count": 133,
   "metadata": {},
   "outputs": [
    {
     "data": {
      "text/plain": [
       "array([12, 39, 11])"
      ]
     },
     "execution_count": 133,
     "metadata": {},
     "output_type": "execute_result"
    }
   ],
   "source": [
    "g4[-1,0,:]"
   ]
  },
  {
   "cell_type": "code",
   "execution_count": 135,
   "metadata": {},
   "outputs": [
    {
     "data": {
      "text/plain": [
       "array([21, 44, 89])"
      ]
     },
     "execution_count": 135,
     "metadata": {},
     "output_type": "execute_result"
    }
   ],
   "source": [
    "g4[1,1,:]"
   ]
  },
  {
   "cell_type": "markdown",
   "metadata": {},
   "source": [
    "C、步长切片 array[start:end:step]"
   ]
  },
  {
   "cell_type": "markdown",
   "metadata": {},
   "source": [
    "D、逆转切片"
   ]
  },
  {
   "cell_type": "code",
   "execution_count": 136,
   "metadata": {},
   "outputs": [
    {
     "data": {
      "text/plain": [
       "array([89, 44, 21])"
      ]
     },
     "execution_count": 136,
     "metadata": {},
     "output_type": "execute_result"
    }
   ],
   "source": [
    "g4[1,1,::-1]"
   ]
  },
  {
   "cell_type": "code",
   "execution_count": 141,
   "metadata": {},
   "outputs": [
    {
     "data": {
      "text/plain": [
       "array([[[24,  6, 25],\n",
       "        [15, 58, 76],\n",
       "        [58, 27,  5]],\n",
       "\n",
       "       [[92,  0, 73],\n",
       "        [21, 44, 89],\n",
       "        [80, 53, 90]],\n",
       "\n",
       "       [[12, 39, 11],\n",
       "        [75, 12, 80],\n",
       "        [78,  1,  5]]])"
      ]
     },
     "execution_count": 141,
     "metadata": {},
     "output_type": "execute_result"
    }
   ],
   "source": [
    "g4"
   ]
  },
  {
   "cell_type": "code",
   "execution_count": 143,
   "metadata": {},
   "outputs": [
    {
     "data": {
      "text/plain": [
       "array([27, 58,  6])"
      ]
     },
     "execution_count": 143,
     "metadata": {},
     "output_type": "execute_result"
    }
   ],
   "source": [
    "g4[0,::-1,1]"
   ]
  },
  {
   "cell_type": "code",
   "execution_count": 144,
   "metadata": {},
   "outputs": [
    {
     "data": {
      "text/plain": [
       "array([[58, 27,  5],\n",
       "       [15, 58, 76],\n",
       "       [24,  6, 25]])"
      ]
     },
     "execution_count": 144,
     "metadata": {},
     "output_type": "execute_result"
    }
   ],
   "source": [
    "g4[0,::-1]"
   ]
  },
  {
   "cell_type": "code",
   "execution_count": 145,
   "metadata": {},
   "outputs": [
    {
     "data": {
      "text/plain": [
       "array([[25,  6, 24],\n",
       "       [76, 58, 15],\n",
       "       [ 5, 27, 58]])"
      ]
     },
     "execution_count": 145,
     "metadata": {},
     "output_type": "execute_result"
    }
   ],
   "source": [
    "g4[0,:,::-1]"
   ]
  },
  {
   "cell_type": "code",
   "execution_count": 152,
   "metadata": {
    "scrolled": true
   },
   "outputs": [
    {
     "data": {
      "text/plain": [
       "array([[73,  0],\n",
       "       [89, 44],\n",
       "       [90, 53]])"
      ]
     },
     "execution_count": 152,
     "metadata": {},
     "output_type": "execute_result"
    }
   ],
   "source": [
    "g4[1,:,::-1][:,0:2]"
   ]
  },
  {
   "cell_type": "markdown",
   "metadata": {},
   "source": [
    "E、完全逆转"
   ]
  },
  {
   "cell_type": "code",
   "execution_count": 154,
   "metadata": {},
   "outputs": [
    {
     "data": {
      "text/plain": [
       "array([[[24,  6, 25],\n",
       "        [15, 58, 76],\n",
       "        [58, 27,  5]],\n",
       "\n",
       "       [[92,  0, 73],\n",
       "        [21, 44, 89],\n",
       "        [80, 53, 90]],\n",
       "\n",
       "       [[12, 39, 11],\n",
       "        [75, 12, 80],\n",
       "        [78,  1,  5]]])"
      ]
     },
     "execution_count": 154,
     "metadata": {},
     "output_type": "execute_result"
    }
   ],
   "source": [
    "g4"
   ]
  },
  {
   "cell_type": "code",
   "execution_count": 153,
   "metadata": {},
   "outputs": [
    {
     "data": {
      "text/plain": [
       "array([[[ 5,  1, 78],\n",
       "        [80, 12, 75],\n",
       "        [11, 39, 12]],\n",
       "\n",
       "       [[90, 53, 80],\n",
       "        [89, 44, 21],\n",
       "        [73,  0, 92]],\n",
       "\n",
       "       [[ 5, 27, 58],\n",
       "        [76, 58, 15],\n",
       "        [25,  6, 24]]])"
      ]
     },
     "execution_count": 153,
     "metadata": {},
     "output_type": "execute_result"
    }
   ],
   "source": [
    "g4[::-1,::-1,::-1]"
   ]
  },
  {
   "cell_type": "markdown",
   "metadata": {},
   "source": [
    "# 有趣应用"
   ]
  },
  {
   "cell_type": "code",
   "execution_count": 1,
   "metadata": {},
   "outputs": [],
   "source": [
    "from PIL import Image\n",
    "img = Image.open('girl.jpg','r')\n",
    "img.show()"
   ]
  },
  {
   "cell_type": "code",
   "execution_count": 2,
   "metadata": {},
   "outputs": [],
   "source": [
    "import matplotlib.pyplot as plt\n",
    "%matplotlib inline"
   ]
  },
  {
   "cell_type": "code",
   "execution_count": 20,
   "metadata": {},
   "outputs": [
    {
     "data": {
      "text/plain": [
       "array([[[200, 226, 215],\n",
       "        [200, 226, 215],\n",
       "        [200, 226, 215],\n",
       "        ...,\n",
       "        [252, 254, 249],\n",
       "        [252, 254, 249],\n",
       "        [253, 255, 250]],\n",
       "\n",
       "       [[200, 226, 215],\n",
       "        [200, 226, 215],\n",
       "        [200, 226, 215],\n",
       "        ...,\n",
       "        [252, 254, 249],\n",
       "        [252, 254, 249],\n",
       "        [253, 255, 250]],\n",
       "\n",
       "       [[200, 226, 215],\n",
       "        [200, 226, 215],\n",
       "        [200, 226, 215],\n",
       "        ...,\n",
       "        [252, 254, 249],\n",
       "        [252, 254, 249],\n",
       "        [253, 255, 250]],\n",
       "\n",
       "       ...,\n",
       "\n",
       "       [[213, 219, 217],\n",
       "        [212, 218, 216],\n",
       "        [209, 215, 213],\n",
       "        ...,\n",
       "        [ 81, 111, 121],\n",
       "        [ 83, 113, 123],\n",
       "        [ 78, 108, 118]],\n",
       "\n",
       "       [[212, 218, 216],\n",
       "        [210, 216, 214],\n",
       "        [208, 214, 212],\n",
       "        ...,\n",
       "        [ 83, 113, 123],\n",
       "        [ 85, 115, 125],\n",
       "        [ 81, 111, 121]],\n",
       "\n",
       "       [[213, 219, 217],\n",
       "        [209, 215, 213],\n",
       "        [204, 210, 208],\n",
       "        ...,\n",
       "        [ 87, 117, 127],\n",
       "        [ 83, 113, 123],\n",
       "        [ 76, 106, 116]]], dtype=uint8)"
      ]
     },
     "metadata": {},
     "output_type": "display_data"
    },
    {
     "data": {
      "text/plain": [
       "(985, 700, 3)"
      ]
     },
     "metadata": {},
     "output_type": "display_data"
    }
   ],
   "source": [
    "image = plt.imread('/Users/huwang/Desktop/timg.jpeg')\n",
    "display(image)\n",
    "display(image.shape) # R red G green B blue"
   ]
  },
  {
   "cell_type": "code",
   "execution_count": 21,
   "metadata": {
    "scrolled": false
   },
   "outputs": [
    {
     "data": {
      "text/plain": [
       "<matplotlib.image.AxesImage at 0x108e74160>"
      ]
     },
     "execution_count": 21,
     "metadata": {},
     "output_type": "execute_result"
    },
    {
     "data": {
      "image/png": "[encoded data removed]",
      "text/plain": [
       "<matplotlib.figure.Figure at 0x109384dd8>"
      ]
     },
     "metadata": {},
     "output_type": "display_data"
    }
   ],
   "source": [
    "plt.imshow(image)"
   ]
  },
  {
   "cell_type": "code",
   "execution_count": 22,
   "metadata": {},
   "outputs": [
    {
     "data": {
      "text/plain": [
       "<matplotlib.image.AxesImage at 0x108dc1f98>"
      ]
     },
     "execution_count": 22,
     "metadata": {},
     "output_type": "execute_result"
    },
    {
     "data": {
      "image/png": "[encoded data removed]",
      "text/plain": [
       "<matplotlib.figure.Figure at 0x108cb1400>"
      ]
     },
     "metadata": {},
     "output_type": "display_data"
    }
   ],
   "source": [
    "image2 = image.copy()\n",
    "# display(image2)\n",
    "plt.imshow(image2[:,:,::-1])"
   ]
  },
  {
   "cell_type": "code",
   "execution_count": 23,
   "metadata": {},
   "outputs": [
    {
     "data": {
      "text/plain": [
       "array([[[253, 254, 249],\n",
       "        [254, 255, 250],\n",
       "        [254, 255, 250],\n",
       "        ...,\n",
       "        [252, 250, 229],\n",
       "        [252, 250, 229],\n",
       "        [252, 250, 229]],\n",
       "\n",
       "       [[253, 254, 249],\n",
       "        [253, 254, 249],\n",
       "        [254, 255, 250],\n",
       "        ...,\n",
       "        [252, 250, 229],\n",
       "        [252, 250, 229],\n",
       "        [252, 250, 229]],\n",
       "\n",
       "       [[253, 254, 249],\n",
       "        [253, 254, 249],\n",
       "        [253, 254, 249],\n",
       "        ...,\n",
       "        [252, 250, 229],\n",
       "        [252, 250, 229],\n",
       "        [252, 250, 229]],\n",
       "\n",
       "       ...,\n",
       "\n",
       "       [[ 44,  70,  69],\n",
       "        [ 71,  91,  92],\n",
       "        [ 80,  94,  95],\n",
       "        ...,\n",
       "        [220, 229, 224],\n",
       "        [219, 230, 224],\n",
       "        [219, 230, 224]],\n",
       "\n",
       "       [[ 32,  62,  60],\n",
       "        [ 58,  83,  80],\n",
       "        [ 69,  87,  87],\n",
       "        ...,\n",
       "        [220, 231, 225],\n",
       "        [220, 231, 225],\n",
       "        [219, 232, 225]],\n",
       "\n",
       "       [[ 26,  58,  55],\n",
       "        [ 49,  78,  74],\n",
       "        [ 59,  84,  80],\n",
       "        ...,\n",
       "        [220, 231, 225],\n",
       "        [219, 232, 225],\n",
       "        [219, 232, 225]]], dtype=uint8)"
      ]
     },
     "metadata": {},
     "output_type": "display_data"
    },
    {
     "data": {
      "text/plain": [
       "<matplotlib.image.AxesImage at 0x108bc7550>"
      ]
     },
     "execution_count": 23,
     "metadata": {},
     "output_type": "execute_result"
    },
    {
     "data": {
      "image/png": "[encoded data removed]",
      "text/plain": [
       "<matplotlib.figure.Figure at 0x108e3bba8>"
      ]
     },
     "metadata": {},
     "output_type": "display_data"
    }
   ],
   "source": [
    "image3 = image2[400:600,500:800,:]\n",
    "display(image3)\n",
    "plt.imshow(image3)"
   ]
  },
  {
   "cell_type": "code",
   "execution_count": 26,
   "metadata": {},
   "outputs": [
    {
     "data": {
      "text/plain": [
       "array([[[233, 236, 205],\n",
       "        [233, 236, 205],\n",
       "        [233, 236, 205],\n",
       "        ...,\n",
       "        [253, 247, 215],\n",
       "        [253, 247, 215],\n",
       "        [253, 247, 215]],\n",
       "\n",
       "       [[233, 236, 205],\n",
       "        [233, 236, 205],\n",
       "        [233, 236, 205],\n",
       "        ...,\n",
       "        [254, 248, 216],\n",
       "        [254, 248, 216],\n",
       "        [254, 248, 216]],\n",
       "\n",
       "       [[233, 236, 205],\n",
       "        [233, 236, 205],\n",
       "        [233, 236, 205],\n",
       "        ...,\n",
       "        [254, 248, 216],\n",
       "        [254, 248, 216],\n",
       "        [254, 248, 216]],\n",
       "\n",
       "       ...,\n",
       "\n",
       "       [[208, 219, 205],\n",
       "        [208, 219, 205],\n",
       "        [208, 219, 205],\n",
       "        ...,\n",
       "        [182, 166, 150],\n",
       "        [179, 163, 148],\n",
       "        [177, 161, 148]],\n",
       "\n",
       "       [[208, 219, 205],\n",
       "        [208, 219, 205],\n",
       "        [207, 218, 204],\n",
       "        ...,\n",
       "        [180, 164, 148],\n",
       "        [177, 161, 146],\n",
       "        [175, 159, 146]],\n",
       "\n",
       "       [[208, 219, 205],\n",
       "        [207, 218, 204],\n",
       "        [207, 218, 204],\n",
       "        ...,\n",
       "        [180, 164, 148],\n",
       "        [177, 161, 146],\n",
       "        [175, 159, 146]]], dtype=uint8)"
      ]
     },
     "metadata": {},
     "output_type": "display_data"
    },
    {
     "data": {
      "text/plain": [
       "<matplotlib.image.AxesImage at 0x1096119e8>"
      ]
     },
     "execution_count": 26,
     "metadata": {},
     "output_type": "execute_result"
    },
    {
     "data": {
      "image/png": "[encoded data removed]",
      "text/plain": [
       "<matplotlib.figure.Figure at 0x108d4bc18>"
      ]
     },
     "metadata": {},
     "output_type": "display_data"
    }
   ],
   "source": [
    "image4=image2[100:500,100:400,:]\n",
    "display(image4)\n",
    "plt.imshow(image4)"
   ]
  },
  {
   "cell_type": "code",
   "execution_count": 29,
   "metadata": {},
   "outputs": [],
   "source": [
    "image2[400:600,500:800,:] = image2[100:300,100:300,:]\n"
   ]
  },
  {
   "cell_type": "code",
   "execution_count": 30,
   "metadata": {},
   "outputs": [
    {
     "data": {
      "text/plain": [
       "<matplotlib.image.AxesImage at 0x1096fada0>"
      ]
     },
     "execution_count": 30,
     "metadata": {},
     "output_type": "execute_result"
    },
    {
     "data": {
      "image/png": "[encoded data removed]",
      "text/plain": [
       "<matplotlib.figure.Figure at 0x108f24940>"
      ]
     },
     "metadata": {},
     "output_type": "display_data"
    }
   ],
   "source": [
    "plt.imshow(image2)"
   ]
  },
  {
   "cell_type": "markdown",
   "metadata": {},
   "source": [
    "# 图片格式解释\n",
    "- j = np.random.randint(0,10,size=(2,4,3))\n",
    "- display(j) # 里面的矩阵实际上就是rgb三个颜色\n",
    "- display(j[0].shape)\n",
    "- display(j[1].shape)\n",
    "- display(j[:,:,0]) # 获取r通道\n",
    "- display(j[:,:,2].shape)"
   ]
  },
  {
   "cell_type": "markdown",
   "metadata": {},
   "source": [
    "### 变化RGB三色\n",
    "- 注意无法改变原矩阵 girl[:,:,-1] = 0"
   ]
  },
  {
   "cell_type": "code",
   "execution_count": 48,
   "metadata": {
    "scrolled": true
   },
   "outputs": [
    {
     "data": {
      "text/plain": [
       "array([[[200, 180,  88],\n",
       "        [200, 180,  88],\n",
       "        [200, 180,  88],\n",
       "        ...,\n",
       "        [252, 180,  88],\n",
       "        [252, 180,  88],\n",
       "        [253, 180,  88]],\n",
       "\n",
       "       [[200, 180,  88],\n",
       "        [200, 180,  88],\n",
       "        [200, 180,  88],\n",
       "        ...,\n",
       "        [252, 180,  88],\n",
       "        [252, 180,  88],\n",
       "        [253, 180,  88]],\n",
       "\n",
       "       [[200, 180,  88],\n",
       "        [200, 180,  88],\n",
       "        [200, 180,  88],\n",
       "        ...,\n",
       "        [252, 180,  88],\n",
       "        [252, 180,  88],\n",
       "        [253, 180,  88]],\n",
       "\n",
       "       ...,\n",
       "\n",
       "       [[213, 180,  88],\n",
       "        [212, 180,  88],\n",
       "        [209, 180,  88],\n",
       "        ...,\n",
       "        [ 81, 180,  88],\n",
       "        [ 83, 180,  88],\n",
       "        [ 78, 180,  88]],\n",
       "\n",
       "       [[212, 180,  88],\n",
       "        [210, 180,  88],\n",
       "        [208, 180,  88],\n",
       "        ...,\n",
       "        [ 83, 180,  88],\n",
       "        [ 85, 180,  88],\n",
       "        [ 81, 180,  88]],\n",
       "\n",
       "       [[213, 180,  88],\n",
       "        [209, 180,  88],\n",
       "        [204, 180,  88],\n",
       "        ...,\n",
       "        [ 87, 180,  88],\n",
       "        [ 83, 180,  88],\n",
       "        [ 76, 180,  88]]], dtype=uint8)"
      ]
     },
     "metadata": {},
     "output_type": "display_data"
    },
    {
     "data": {
      "text/plain": [
       "<matplotlib.image.AxesImage at 0x10def1b70>"
      ]
     },
     "execution_count": 48,
     "metadata": {},
     "output_type": "execute_result"
    },
    {
     "data": {
      "image/png": "[encoded data removed]",
      "text/plain": [
       "<matplotlib.figure.Figure at 0x10bf69588>"
      ]
     },
     "metadata": {},
     "output_type": "display_data"
    }
   ],
   "source": [
    "image2 = image.copy()\n",
    "\n",
    "image2[:,:,1] = 180\n",
    "image2[:,:,2] = 88\n",
    "display(image2)\n",
    "plt.imshow(image2)\n"
   ]
  },
  {
   "cell_type": "code",
   "execution_count": 49,
   "metadata": {
    "scrolled": true
   },
   "outputs": [
    {
     "data": {
      "text/plain": [
       "<matplotlib.image.AxesImage at 0x10dbf4d30>"
      ]
     },
     "execution_count": 49,
     "metadata": {},
     "output_type": "execute_result"
    },
    {
     "data": {
      "image/png": "[encoded data removed]",
      "text/plain": [
       "<matplotlib.figure.Figure at 0x10d444048>"
      ]
     },
     "metadata": {},
     "output_type": "display_data"
    }
   ],
   "source": [
    "plt.imshow(image)"
   ]
  },
  {
   "cell_type": "code",
   "execution_count": 54,
   "metadata": {
    "collapsed": true
   },
   "outputs": [
    {
     "data": {
      "text/plain": [
       "array([[[200, 226, 215],\n",
       "        [200, 226, 215],\n",
       "        [200, 226, 215],\n",
       "        ...,\n",
       "        [252, 254, 249],\n",
       "        [252, 254, 249],\n",
       "        [253, 255, 250]],\n",
       "\n",
       "       [[200, 226, 215],\n",
       "        [200, 226, 215],\n",
       "        [200, 226, 215],\n",
       "        ...,\n",
       "        [252, 254, 249],\n",
       "        [252, 254, 249],\n",
       "        [253, 255, 250]],\n",
       "\n",
       "       [[200, 226, 215],\n",
       "        [200, 226, 215],\n",
       "        [200, 226, 215],\n",
       "        ...,\n",
       "        [252, 254, 249],\n",
       "        [252, 254, 249],\n",
       "        [253, 255, 250]],\n",
       "\n",
       "       ...,\n",
       "\n",
       "       [[213, 219, 217],\n",
       "        [212, 218, 216],\n",
       "        [209, 215, 213],\n",
       "        ...,\n",
       "        [ 81, 111, 121],\n",
       "        [ 83, 113, 123],\n",
       "        [ 78, 108, 118]],\n",
       "\n",
       "       [[212, 218, 216],\n",
       "        [210, 216, 214],\n",
       "        [208, 214, 212],\n",
       "        ...,\n",
       "        [ 83, 113, 123],\n",
       "        [ 85, 115, 125],\n",
       "        [ 81, 111, 121]],\n",
       "\n",
       "       [[213, 219, 217],\n",
       "        [209, 215, 213],\n",
       "        [204, 210, 208],\n",
       "        ...,\n",
       "        [ 87, 117, 127],\n",
       "        [ 83, 113, 123],\n",
       "        [ 76, 106, 116]]], dtype=uint8)"
      ]
     },
     "metadata": {},
     "output_type": "display_data"
    }
   ],
   "source": [
    "image7 = image.copy()\n",
    "display(image7)"
   ]
  },
  {
   "cell_type": "code",
   "execution_count": 82,
   "metadata": {},
   "outputs": [
    {
     "data": {
      "text/plain": [
       "array([[200, 200, 200, ..., 252, 252, 253],\n",
       "       [200, 200, 200, ..., 252, 252, 253],\n",
       "       [200, 200, 200, ..., 252, 252, 253],\n",
       "       ...,\n",
       "       [213, 212, 209, ...,  81,  83,  78],\n",
       "       [212, 210, 208, ...,  83,  85,  81],\n",
       "       [213, 209, 204, ...,  87,  83,  76]], dtype=uint8)"
      ]
     },
     "metadata": {},
     "output_type": "display_data"
    },
    {
     "data": {
      "text/plain": [
       "array([[226, 226, 226, ..., 254, 254, 255],\n",
       "       [226, 226, 226, ..., 254, 254, 255],\n",
       "       [226, 226, 226, ..., 254, 254, 255],\n",
       "       ...,\n",
       "       [219, 218, 215, ..., 111, 113, 108],\n",
       "       [218, 216, 214, ..., 113, 115, 111],\n",
       "       [219, 215, 210, ..., 117, 113, 106]], dtype=uint8)"
      ]
     },
     "metadata": {},
     "output_type": "display_data"
    },
    {
     "data": {
      "text/plain": [
       "(985, 700)"
      ]
     },
     "metadata": {},
     "output_type": "display_data"
    },
    {
     "data": {
      "text/plain": [
       "array([[ 85,  85,  85, ..., 125, 125, 126],\n",
       "       [ 85,  85,  85, ..., 125, 125, 126],\n",
       "       [ 85,  85,  85, ..., 125, 125, 126],\n",
       "       ...,\n",
       "       [ 88,  87,  84, ...,  96,  98,  93],\n",
       "       [ 87,  85,  83, ...,  98, 100,  96],\n",
       "       [ 88,  84,  79, ..., 102,  98,  91]], dtype=uint8)"
      ]
     },
     "metadata": {},
     "output_type": "display_data"
    },
    {
     "data": {
      "text/plain": [
       "<matplotlib.image.AxesImage at 0x10ec9d3c8>"
      ]
     },
     "execution_count": 82,
     "metadata": {},
     "output_type": "execute_result"
    },
    {
     "data": {
      "image/png": "[encoded data removed]",
      "text/plain": [
       "<matplotlib.figure.Figure at 0x10e152278>"
      ]
     },
     "metadata": {},
     "output_type": "display_data"
    }
   ],
   "source": [
    "first = image7[:,:,0] \n",
    "second = image7[:,:,1]\n",
    "display(first,second)\n",
    "display(first.shape)\n",
    "sum_=first + second \n",
    "display(sum_//2)\n",
    "image7[:,:,0] = sum_ //2\n",
    "plt.imshow(image7)"
   ]
  },
  {
   "cell_type": "code",
   "execution_count": 61,
   "metadata": {},
   "outputs": [
    {
     "data": {
      "text/plain": [
       "array([[1, 2],\n",
       "       [3, 4]])"
      ]
     },
     "metadata": {},
     "output_type": "display_data"
    },
    {
     "data": {
      "text/plain": [
       "array([[5, 6],\n",
       "       [7, 8]])"
      ]
     },
     "metadata": {},
     "output_type": "display_data"
    },
    {
     "data": {
      "text/plain": [
       "array([[ 6,  8],\n",
       "       [10, 12]])"
      ]
     },
     "metadata": {},
     "output_type": "display_data"
    }
   ],
   "source": [
    "a = [[1,2],[3,4]]\n",
    "b = [[5,6],[7,8]]\n",
    "a1 = np.array(a)\n",
    "b1 = np.array(b)\n",
    "display(a1,b1)\n",
    "display(a1 + b1)"
   ]
  },
  {
   "cell_type": "markdown",
   "metadata": {},
   "source": [
    "### 完全更改图片,添加完全噪声"
   ]
  },
  {
   "cell_type": "markdown",
   "metadata": {},
   "source": [
    "# 练习二\n",
    "> 完成RGB三色全逆转,并显示"
   ]
  },
  {
   "cell_type": "markdown",
   "metadata": {},
   "source": [
    "## 3、array变形\n",
    "- reshape 转换形状的时候要注意维度是否合适"
   ]
  },
  {
   "cell_type": "code",
   "execution_count": 83,
   "metadata": {},
   "outputs": [
    {
     "data": {
      "text/plain": [
       "array([ 0,  5, 10, 15, 20, 25, 30, 35, 40, 45, 50, 55, 60, 65, 70, 75, 80,\n",
       "       85, 90, 95])"
      ]
     },
     "metadata": {},
     "output_type": "display_data"
    }
   ],
   "source": [
    "h = np.arange(0,100,5)\n",
    "display(h)"
   ]
  },
  {
   "cell_type": "code",
   "execution_count": 87,
   "metadata": {},
   "outputs": [
    {
     "data": {
      "text/plain": [
       "array([[[ 0,  5, 10, 15, 20, 25, 30, 35, 40, 45],\n",
       "        [50, 55, 60, 65, 70, 75, 80, 85, 90, 95]]])"
      ]
     },
     "execution_count": 87,
     "metadata": {},
     "output_type": "execute_result"
    }
   ],
   "source": [
    "h.reshape((1,2,10))"
   ]
  },
  {
   "cell_type": "code",
   "execution_count": 147,
   "metadata": {
    "collapsed": true
   },
   "outputs": [
    {
     "data": {
      "text/plain": [
       "array([[ 0],\n",
       "       [ 1],\n",
       "       [ 2],\n",
       "       [ 3],\n",
       "       [ 4],\n",
       "       [ 5],\n",
       "       [ 6],\n",
       "       [ 7],\n",
       "       [ 8],\n",
       "       [ 9],\n",
       "       [10],\n",
       "       [11],\n",
       "       [12],\n",
       "       [13],\n",
       "       [14],\n",
       "       [15],\n",
       "       [16],\n",
       "       [17],\n",
       "       [18],\n",
       "       [19],\n",
       "       [20],\n",
       "       [21],\n",
       "       [22],\n",
       "       [23],\n",
       "       [24],\n",
       "       [25],\n",
       "       [26],\n",
       "       [27],\n",
       "       [28],\n",
       "       [29],\n",
       "       [30],\n",
       "       [31],\n",
       "       [32],\n",
       "       [33],\n",
       "       [34],\n",
       "       [35],\n",
       "       [36],\n",
       "       [37],\n",
       "       [38],\n",
       "       [39],\n",
       "       [40],\n",
       "       [41],\n",
       "       [42],\n",
       "       [43],\n",
       "       [44],\n",
       "       [45],\n",
       "       [46],\n",
       "       [47],\n",
       "       [48],\n",
       "       [49],\n",
       "       [50],\n",
       "       [51],\n",
       "       [52],\n",
       "       [53],\n",
       "       [54],\n",
       "       [55],\n",
       "       [56],\n",
       "       [57],\n",
       "       [58],\n",
       "       [59],\n",
       "       [60],\n",
       "       [61],\n",
       "       [62],\n",
       "       [63],\n",
       "       [64],\n",
       "       [65],\n",
       "       [66],\n",
       "       [67],\n",
       "       [68],\n",
       "       [69],\n",
       "       [70],\n",
       "       [71],\n",
       "       [72],\n",
       "       [73],\n",
       "       [74],\n",
       "       [75],\n",
       "       [76],\n",
       "       [77],\n",
       "       [78],\n",
       "       [79],\n",
       "       [80],\n",
       "       [81],\n",
       "       [82],\n",
       "       [83],\n",
       "       [84],\n",
       "       [85],\n",
       "       [86],\n",
       "       [87],\n",
       "       [88],\n",
       "       [89],\n",
       "       [90],\n",
       "       [91],\n",
       "       [92],\n",
       "       [93],\n",
       "       [94],\n",
       "       [95],\n",
       "       [96],\n",
       "       [97],\n",
       "       [98],\n",
       "       [99]])"
      ]
     },
     "execution_count": 147,
     "metadata": {},
     "output_type": "execute_result"
    }
   ],
   "source": [
    "h.reshape(-1,1)"
   ]
  },
  {
   "cell_type": "markdown",
   "metadata": {},
   "source": [
    "### 4. 级联\n",
    "- np.concatenate() 级联需要注意的点：\n",
    "- 级联的参数是列表：一定要加中括号或小括号\n",
    "- 维度必须相同\n",
    "- 形状相符\n",
    " 【重点】级联的方向默认是shape这个tuple的第一个值所代表的维度方向，一维和高维的区别\n",
    "- 可通过axis参数改变级联的方向"
   ]
  },
  {
   "cell_type": "code",
   "execution_count": 90,
   "metadata": {},
   "outputs": [
    {
     "data": {
      "text/plain": [
       "array([[1., 1., 1., 1.],\n",
       "       [1., 1., 1., 1.],\n",
       "       [1., 1., 1., 1.]])"
      ]
     },
     "metadata": {},
     "output_type": "display_data"
    },
    {
     "data": {
      "text/plain": [
       "array([[6, 6, 6, 6, 6],\n",
       "       [6, 6, 6, 6, 6],\n",
       "       [6, 6, 6, 6, 6]])"
      ]
     },
     "metadata": {},
     "output_type": "display_data"
    }
   ],
   "source": [
    "k = np.ones(shape=(3,4))\n",
    "l = np.full(shape=(3,5),fill_value= 6)\n",
    "display(k, l)"
   ]
  },
  {
   "cell_type": "code",
   "execution_count": 91,
   "metadata": {},
   "outputs": [
    {
     "ename": "ValueError",
     "evalue": "all the input array dimensions except for the concatenation axis must match exactly",
     "output_type": "error",
     "traceback": [
      "\u001b[0;31m---------------------------------------------------------------------------\u001b[0m",
      "\u001b[0;31mValueError\u001b[0m                                Traceback (most recent call last)",
      "\u001b[0;32m<ipython-input-91-093b55cdd0e9>\u001b[0m in \u001b[0;36m<module>\u001b[0;34m()\u001b[0m\n\u001b[0;32m----> 1\u001b[0;31m \u001b[0mnp\u001b[0m\u001b[0;34m.\u001b[0m\u001b[0mconcatenate\u001b[0m\u001b[0;34m(\u001b[0m\u001b[0;34m(\u001b[0m\u001b[0mk\u001b[0m\u001b[0;34m,\u001b[0m\u001b[0ml\u001b[0m\u001b[0;34m)\u001b[0m\u001b[0;34m)\u001b[0m\u001b[0;34m\u001b[0m\u001b[0m\n\u001b[0m",
      "\u001b[0;31mValueError\u001b[0m: all the input array dimensions except for the concatenation axis must match exactly"
     ]
    }
   ],
   "source": [
    "np.concatenate((k,l))"
   ]
  },
  {
   "cell_type": "code",
   "execution_count": 92,
   "metadata": {},
   "outputs": [
    {
     "data": {
      "text/plain": [
       "array([[1., 1., 1., 1., 6., 6., 6., 6., 6.],\n",
       "       [1., 1., 1., 1., 6., 6., 6., 6., 6.],\n",
       "       [1., 1., 1., 1., 6., 6., 6., 6., 6.]])"
      ]
     },
     "execution_count": 92,
     "metadata": {},
     "output_type": "execute_result"
    }
   ],
   "source": [
    "np.concatenate((k,l),axis = 1)"
   ]
  },
  {
   "cell_type": "markdown",
   "metadata": {},
   "source": [
    "## 5\n",
    "np.hstack 水平级联\n",
    "np.vstack 垂直级联"
   ]
  },
  {
   "cell_type": "code",
   "execution_count": 135,
   "metadata": {},
   "outputs": [
    {
     "data": {
      "text/plain": [
       "array([[1., 1., 1.],\n",
       "       [1., 1., 1.],\n",
       "       [1., 1., 1.]])"
      ]
     },
     "metadata": {},
     "output_type": "display_data"
    },
    {
     "data": {
      "text/plain": [
       "array([[7, 7, 7],\n",
       "       [7, 7, 7],\n",
       "       [7, 7, 7]])"
      ]
     },
     "metadata": {},
     "output_type": "display_data"
    }
   ],
   "source": [
    "k = np.ones(shape=(3,3))\n",
    "l = np.full(shape=(3,3),fill_value= 7)\n",
    "display(k, l)"
   ]
  },
  {
   "cell_type": "code",
   "execution_count": 136,
   "metadata": {},
   "outputs": [
    {
     "data": {
      "text/plain": [
       "array([[1., 1., 1., 7., 7., 7.],\n",
       "       [1., 1., 1., 7., 7., 7.],\n",
       "       [1., 1., 1., 7., 7., 7.]])"
      ]
     },
     "execution_count": 136,
     "metadata": {},
     "output_type": "execute_result"
    }
   ],
   "source": [
    "np.hstack((k,l))"
   ]
  },
  {
   "cell_type": "code",
   "execution_count": 137,
   "metadata": {},
   "outputs": [
    {
     "data": {
      "text/plain": [
       "array([[1., 1., 1.],\n",
       "       [1., 1., 1.],\n",
       "       [1., 1., 1.],\n",
       "       [7., 7., 7.],\n",
       "       [7., 7., 7.],\n",
       "       [7., 7., 7.]])"
      ]
     },
     "execution_count": 137,
     "metadata": {},
     "output_type": "execute_result"
    }
   ],
   "source": [
    "np.vstack((k,l))"
   ]
  },
  {
   "cell_type": "markdown",
   "metadata": {},
   "source": [
    "### 6. 副本\n",
    "所有赋值运算不会为ndarray的任何元素创建副本。对赋值后的对象的操作也对原来的对象生效。\n",
    "\n",
    "可使用copy()函数创建副本"
   ]
  },
  {
   "cell_type": "markdown",
   "metadata": {},
   "source": [
    "# 六、Numpy数组矩阵"
   ]
  },
  {
   "cell_type": "markdown",
   "metadata": {},
   "source": [
    "## 1.数组矩阵加法"
   ]
  },
  {
   "cell_type": "code",
   "execution_count": 93,
   "metadata": {},
   "outputs": [
    {
     "data": {
      "text/plain": [
       "array([[3, 0, 2],\n",
       "       [9, 5, 6],\n",
       "       [7, 4, 2]])"
      ]
     },
     "metadata": {},
     "output_type": "display_data"
    },
    {
     "data": {
      "text/plain": [
       "array([[9, 5, 4],\n",
       "       [5, 6, 3],\n",
       "       [5, 5, 3]])"
      ]
     },
     "metadata": {},
     "output_type": "display_data"
    }
   ],
   "source": [
    "m = np.random.randint(0,10,size=(3,3),dtype=np.int)\n",
    "n = np.random.randint(0,10,size=(3,3),dtype=np.int)\n",
    "display(m,n)"
   ]
  },
  {
   "cell_type": "code",
   "execution_count": 94,
   "metadata": {},
   "outputs": [
    {
     "data": {
      "text/plain": [
       "array([[12,  5,  6],\n",
       "       [14, 11,  9],\n",
       "       [12,  9,  5]])"
      ]
     },
     "execution_count": 94,
     "metadata": {},
     "output_type": "execute_result"
    }
   ],
   "source": [
    "m + n"
   ]
  },
  {
   "cell_type": "markdown",
   "metadata": {},
   "source": [
    "## 2.数组矩阵减法"
   ]
  },
  {
   "cell_type": "code",
   "execution_count": 95,
   "metadata": {
    "scrolled": true
   },
   "outputs": [
    {
     "data": {
      "text/plain": [
       "array([[-6, -5, -2],\n",
       "       [ 4, -1,  3],\n",
       "       [ 2, -1, -1]])"
      ]
     },
     "execution_count": 95,
     "metadata": {},
     "output_type": "execute_result"
    }
   ],
   "source": [
    "m - n"
   ]
  },
  {
   "cell_type": "markdown",
   "metadata": {},
   "source": [
    "## 3.数组矩阵伪乘法"
   ]
  },
  {
   "cell_type": "code",
   "execution_count": 96,
   "metadata": {},
   "outputs": [
    {
     "data": {
      "text/plain": [
       "array([[3, 0, 2],\n",
       "       [9, 5, 6],\n",
       "       [7, 4, 2]])"
      ]
     },
     "metadata": {},
     "output_type": "display_data"
    },
    {
     "data": {
      "text/plain": [
       "array([[9, 5, 4],\n",
       "       [5, 6, 3],\n",
       "       [5, 5, 3]])"
      ]
     },
     "metadata": {},
     "output_type": "display_data"
    },
    {
     "data": {
      "text/plain": [
       "array([[27,  0,  8],\n",
       "       [45, 30, 18],\n",
       "       [35, 20,  6]])"
      ]
     },
     "execution_count": 96,
     "metadata": {},
     "output_type": "execute_result"
    }
   ],
   "source": [
    "display(m,n)\n",
    "m * n"
   ]
  },
  {
   "cell_type": "markdown",
   "metadata": {},
   "source": [
    "## 4. 数组矩阵乘法"
   ]
  },
  {
   "cell_type": "code",
   "execution_count": 97,
   "metadata": {},
   "outputs": [
    {
     "data": {
      "text/plain": [
       "array([[ 37,  25,  18],\n",
       "       [136, 105,  69],\n",
       "       [ 93,  69,  46]])"
      ]
     },
     "execution_count": 97,
     "metadata": {},
     "output_type": "execute_result"
    }
   ],
   "source": [
    "np.dot(m,n)"
   ]
  },
  {
   "cell_type": "markdown",
   "metadata": {},
   "source": [
    "## 5. 矩阵逆"
   ]
  },
  {
   "cell_type": "code",
   "execution_count": 98,
   "metadata": {},
   "outputs": [
    {
     "data": {
      "text/plain": [
       "matrix([[ 3.50000000e-01, -2.00000000e-01,  2.50000000e-01],\n",
       "        [-6.00000000e-01,  2.00000000e-01, -2.49800181e-17],\n",
       "        [-2.50000000e-02,  3.00000000e-01, -3.75000000e-01]])"
      ]
     },
     "execution_count": 98,
     "metadata": {},
     "output_type": "execute_result"
    }
   ],
   "source": [
    "np.mat(m).I"
   ]
  },
  {
   "cell_type": "code",
   "execution_count": 100,
   "metadata": {
    "scrolled": true
   },
   "outputs": [
    {
     "data": {
      "text/plain": [
       "matrix([[ 1.00000000e+00, -1.11022302e-16,  1.11022302e-16],\n",
       "        [ 6.24500451e-17,  1.00000000e+00,  0.00000000e+00],\n",
       "        [ 4.64905892e-16, -2.22044605e-16,  1.00000000e+00]])"
      ]
     },
     "execution_count": 100,
     "metadata": {},
     "output_type": "execute_result"
    }
   ],
   "source": [
    "np.dot(np.matrix(m),np.matrix(m).I)"
   ]
  },
  {
   "cell_type": "markdown",
   "metadata": {},
   "source": [
    "## 6.矩阵转置"
   ]
  },
  {
   "cell_type": "code",
   "execution_count": 163,
   "metadata": {},
   "outputs": [
    {
     "data": {
      "text/plain": [
       "matrix([[0, 0, 9],\n",
       "        [3, 9, 2],\n",
       "        [2, 8, 6]])"
      ]
     },
     "execution_count": 163,
     "metadata": {},
     "output_type": "execute_result"
    }
   ],
   "source": [
    "np.mat(m).T"
   ]
  },
  {
   "cell_type": "markdown",
   "metadata": {},
   "source": [
    "## 7.矩阵共轭转置"
   ]
  },
  {
   "cell_type": "code",
   "execution_count": 164,
   "metadata": {
    "scrolled": true
   },
   "outputs": [
    {
     "data": {
      "text/plain": [
       "matrix([[0, 0, 9],\n",
       "        [3, 9, 2],\n",
       "        [2, 8, 6]])"
      ]
     },
     "execution_count": 164,
     "metadata": {},
     "output_type": "execute_result"
    }
   ],
   "source": [
    "np.mat(m).H"
   ]
  },
  {
   "cell_type": "markdown",
   "metadata": {},
   "source": [
    "# 七、Numpy广播机制\n",
    "\n",
    ">- 重要:ndarray广播机制的两条规则\n",
    "- 规则一：为缺失的维度补1\n",
    "- 规则二：假定缺失元素用已有值填充\n",
    "- 例1： m = np.ones((2, 3)) a = np.arange(3) 求m+a"
   ]
  },
  {
   "cell_type": "code",
   "execution_count": 103,
   "metadata": {},
   "outputs": [
    {
     "data": {
      "text/plain": [
       "array([[1., 1., 1.],\n",
       "       [1., 1., 1.]])"
      ]
     },
     "metadata": {},
     "output_type": "display_data"
    },
    {
     "data": {
      "text/plain": [
       "array([0, 1, 2])"
      ]
     },
     "metadata": {},
     "output_type": "display_data"
    },
    {
     "data": {
      "text/plain": [
       "array([[1., 2., 3.],\n",
       "       [1., 2., 3.]])"
      ]
     },
     "metadata": {},
     "output_type": "display_data"
    }
   ],
   "source": [
    "m = np.ones((2, 3))\n",
    "a = np.arange(3)\n",
    "display(m,a)\n",
    "display(m + a)"
   ]
  },
  {
   "cell_type": "markdown",
   "metadata": {},
   "source": [
    "# 八、array的排序"
   ]
  },
  {
   "cell_type": "markdown",
   "metadata": {},
   "source": [
    ">- 1. 快速排序\n",
    "- np.sort()与ndarray.sort()都可以，但有区别：\n",
    "- np.sort()不改变输入\n",
    "- ndarray.sort()本地处理，不占用空间，但改变输入"
   ]
  },
  {
   "cell_type": "code",
   "execution_count": 179,
   "metadata": {},
   "outputs": [
    {
     "data": {
      "text/plain": [
       "array([[6, 4, 9],\n",
       "       [7, 1, 5]])"
      ]
     },
     "metadata": {},
     "output_type": "display_data"
    },
    {
     "data": {
      "text/plain": [
       "array([[6, 1, 5],\n",
       "       [7, 4, 9]])"
      ]
     },
     "execution_count": 179,
     "metadata": {},
     "output_type": "execute_result"
    }
   ],
   "source": [
    "test = np.random.randint(0,10,size=(2,3))\n",
    "display(test)\n",
    "test.sort(axis=0)\n",
    "test"
   ]
  },
  {
   "cell_type": "code",
   "execution_count": 181,
   "metadata": {},
   "outputs": [
    {
     "data": {
      "text/plain": [
       "array([[9, 7, 6],\n",
       "       [9, 6, 4]])"
      ]
     },
     "metadata": {},
     "output_type": "display_data"
    },
    {
     "data": {
      "text/plain": [
       "array([[9, 6, 4],\n",
       "       [9, 7, 6]])"
      ]
     },
     "metadata": {},
     "output_type": "display_data"
    }
   ],
   "source": [
    "test2 = np.random.randint(0,10,size=(2,3))\n",
    "display(test2)\n",
    "display(np.sort(test2,axis=0))"
   ]
  },
  {
   "cell_type": "markdown",
   "metadata": {},
   "source": [
    "\n",
    ">- 2.部分排序\n",
    " - np.partition(a,k)\n",
    " - 有的时候我们不是对全部数据感兴趣，我们可能只对最小或最大的一部分感兴趣。\n",
    " - 当k为正时，我们想要得到最小的k个数\n",
    " - 当k为负时，我们想要得到最大的k个数"
   ]
  },
  {
   "cell_type": "code",
   "execution_count": 195,
   "metadata": {},
   "outputs": [
    {
     "data": {
      "text/plain": [
       "array([48, 86, 83, 95, 84, 29, 31, 35, 84, 98])"
      ]
     },
     "execution_count": 195,
     "metadata": {},
     "output_type": "execute_result"
    }
   ],
   "source": [
    "arr = np.random.randint(0,100,size=10)\n",
    "arr"
   ]
  },
  {
   "cell_type": "code",
   "execution_count": 196,
   "metadata": {},
   "outputs": [
    {
     "data": {
      "text/plain": [
       "array([31, 48, 83, 84, 35, 29, 84, 86, 95, 98])"
      ]
     },
     "execution_count": 196,
     "metadata": {},
     "output_type": "execute_result"
    }
   ],
   "source": [
    "np.partition(arr,-2)"
   ]
  }
 ],
 "metadata": {
  "kernelspec": {
   "display_name": "Python 3",
   "language": "python",
   "name": "python3"
  },
  "language_info": {
   "codemirror_mode": {
    "name": "ipython",
    "version": 3
   },
   "file_extension": ".py",
   "mimetype": "text/x-python",
   "name": "python",
   "nbconvert_exporter": "python",
   "pygments_lexer": "ipython3",
   "version": "3.6.4"
  }
 },
 "nbformat": 4,
 "nbformat_minor": 2
}
