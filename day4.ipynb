{
 "cells": [
  {
   "cell_type": "code",
   "execution_count": 1,
   "metadata": {},
   "outputs": [],
   "source": [
    "import requests\n",
    "from lxml import etree\n",
    "file = 'C:\\\\Users\\\\lenovo\\\\Desktop\\\\day04\\wenben.txt'\n",
    "open_file = open(file,mode='a',encoding='utf8')\n",
    "import requests\n",
    "from lxml import etree\n",
    "response = requests.get('http://www.17k.com/list/2784023.html')\n",
    "#print(response)\n",
    "response.encoding = 'utf8'\n",
    "html = response.text\n",
    "tree = etree.HTML(html)\n",
    "a_xpath=tree.xpath('//div[@class=\"Main List\"]/dl[@class=\"Volume\"]/dd/a')\n",
    "#print(a_xpath)\n",
    "start_url = 'http://www.17k.com'\n",
    "for i in a_xpath:\n",
    "    url =i.xpath('./@href')[0] \n",
    "    all_url = start_url+url\n",
    "    response2 = requests.get(all_url)\n",
    "    response2.encoding = 'utf8'\n",
    "    html2=response2.text \n",
    "    tree2 = etree.HTML(html2) \n",
    "    p_xpath=tree2.xpath('//*[@id=\"readArea\"]/div[1]/div[2]/text()')  \n",
    "    open_file.write(str(p_xpath))  \n",
    "open_file.close() \n"
   ]
  },
  {
   "cell_type": "code",
   "execution_count": null,
   "metadata": {},
   "outputs": [],
   "source": []
  }
 ],
 "metadata": {
  "kernelspec": {
   "display_name": "Python 3",
   "language": "python",
   "name": "python3"
  },
  "language_info": {
   "codemirror_mode": {
    "name": "ipython",
    "version": 3
   },
   "file_extension": ".py",
   "mimetype": "text/x-python",
   "name": "python",
   "nbconvert_exporter": "python",
   "pygments_lexer": "ipython3",
   "version": "3.6.4"
  }
 },
 "nbformat": 4,
 "nbformat_minor": 2
}
