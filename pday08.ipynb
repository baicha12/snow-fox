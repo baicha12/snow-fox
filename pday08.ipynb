{
 "cells": [
  {
   "cell_type": "code",
   "execution_count": 13,
   "metadata": {},
   "outputs": [
    {
     "name": "stdout",
     "output_type": "stream",
     "text": [
      "郭雄伟正在学习Python程序设计.\n",
      "郭雄伟正在观看开发的.\n",
      "我当时正在学习思想品德.\n",
      "我当时只能观看熊出没.\n"
     ]
    }
   ],
   "source": [
    "class Student(object):\n",
    "    def __init__(self,name ,age):\n",
    "        self.name = name\n",
    "        self.age = age\n",
    "    def study(self,course_name):\n",
    "        print('%s正在学习%s.' % (self.name,course_name))\n",
    "    def watch_movie(self):\n",
    "        if  self.age < 18:\n",
    "            print('%s只能观看熊出没.' % self.name)\n",
    "        else :\n",
    "            print('%s正在观看开发的.' % self.name)\n",
    "def main():\n",
    "    stu1 = Student('郭雄伟',38)\n",
    "   \n",
    "    stu1.study('Python程序设计')\n",
    "    stu1.watch_movie()\n",
    "    stu2 = Student('我当时',15)\n",
    "    stu2.study('思想品德')\n",
    "    stu2.watch_movie()\n",
    "    \n",
    "if __name__ == '__main__':\n",
    "    main()"
   ]
  },
  {
   "cell_type": "code",
   "execution_count": 3,
   "metadata": {},
   "outputs": [],
   "source": []
  },
  {
   "cell_type": "code",
   "execution_count": null,
   "metadata": {},
   "outputs": [
    {
     "name": "stdout",
     "output_type": "stream",
     "text": [
      "请输入游泳池的半斤:25\n"
     ]
    }
   ],
   "source": [
    "import math\n",
    "\n",
    "class Circle (object):\n",
    "    \n",
    "    def __init__ (self , radius):\n",
    "        self ._radius = radius\n",
    "        \n",
    "    @ property\n",
    "    def radius ( self ):\n",
    "        self ._randius = radius\n",
    "    \n",
    "    @radius.setter\n",
    "    def radius (self , radius):\n",
    "        self ._radius = radius if radius > 0 else 0\n",
    "        \n",
    "    @ property\n",
    "    def perimeter (self):\n",
    "        return 2 * math.pi * self ._radius\n",
    "    @ property\n",
    "    def area (self):\n",
    "        return math.pi * self ._radius *self ._radius\n",
    "    \n",
    "if __name__ == '__main__':\n",
    "    radius = float (input('请输入游泳池的半斤:'))\n",
    "    small = Circle(randius)\n",
    "    big = Circle(radius + 3)\n",
    "    print('围墙的造价为： ￥%.1f元' % (big.perimeter * 115))\n",
    "    print('过道的造价为： ￥%.1f元' % (big.area - small.area)* 65)"
   ]
  },
  {
   "cell_type": "code",
   "execution_count": 7,
   "metadata": {},
   "outputs": [
    {
     "name": "stdout",
     "output_type": "stream",
     "text": [
      "hello\n",
      "__bar\n",
      "hello\n"
     ]
    }
   ],
   "source": [
    "class Test:\n",
    "    def __init__(self, foo):\n",
    "        self.__foo =foo\n",
    "        \n",
    "    def __bar(self):\n",
    "        print(self.__foo)\n",
    "        print('__bar')\n",
    "        \n",
    "def main():\n",
    "    test =Test('hello')\n",
    "    test._Test__bar()\n",
    "    print(test._Test__foo)\n",
    "        \n",
    "        \n",
    "        \n",
    "        \n",
    "    \n",
    "if __name__ == \"__main__\":\n",
    "    main()"
   ]
  },
  {
   "cell_type": "code",
   "execution_count": 11,
   "metadata": {},
   "outputs": [],
   "source": [
    "class Clock(object):\n",
    "    \"\"\"数字时钟\"\"\"\n",
    "    \n",
    "    def __init__(self,hour=0,minute=0,second=0):\n",
    "        \"\"\"初始化方法\n",
    "        ：param hour:时\n",
    "        ：papam minute:分\n",
    "        ：param second :秒\n",
    "        \"\"\"\n",
    "        self._hour = hour\n",
    "        self._minute = minute\n",
    "        self._second = second\n",
    "        \n",
    "    def run(self):\n",
    "        \"\"\"走字\"\"\"\n",
    "        self._second += 1\n",
    "        if self._second == 60:\n",
    "            self._second = 0\n",
    "            self._minute += 1\n",
    "            if self.minute == 60:\n",
    "                self._minute = 0\n",
    "                self._hour += 1\n",
    "                if self._hour ==24:\n",
    "                    self._hour = 0\n",
    "    def show(self):\n",
    "        \"\"\"显示时间\"\"\"\n",
    "        return '%02d:%02d:%02d'% \\\n",
    "                (self._hour,self._minute,self._second)\n",
    "def main():\n",
    "    clock = Clock(23, 59, 58)\n",
    "    while True:\n",
    "        print(clock.show())\n",
    "        sleep(1)\n",
    "        clock.run()\n",
    "        \n",
    "if __name__ == '__main__':\n",
    "    main"
   ]
  },
  {
   "cell_type": "code",
   "execution_count": null,
   "metadata": {},
   "outputs": [],
   "source": []
  }
 ],
 "metadata": {
  "kernelspec": {
   "display_name": "Python 3",
   "language": "python",
   "name": "python3"
  },
  "language_info": {
   "codemirror_mode": {
    "name": "ipython",
    "version": 3
   },
   "file_extension": ".py",
   "mimetype": "text/x-python",
   "name": "python",
   "nbconvert_exporter": "python",
   "pygments_lexer": "ipython3",
   "version": "3.6.4"
  }
 },
 "nbformat": 4,
 "nbformat_minor": 2
}
