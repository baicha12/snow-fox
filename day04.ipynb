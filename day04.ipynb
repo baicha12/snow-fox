{
 "cells": [
  {
   "cell_type": "code",
   "execution_count": 14,
   "metadata": {},
   "outputs": [],
   "source": [
    "def func_name(a,b,*,c='lalal'):\n",
    "    \"\"\"\n",
    "    first 'functions'\n",
    "    \"\"\"\n",
    "    print('first function~~',a,b,c)"
   ]
  },
  {
   "cell_type": "code",
   "execution_count": 15,
   "metadata": {
    "scrolled": true
   },
   "outputs": [
    {
     "name": "stdout",
     "output_type": "stream",
     "text": [
      "first function~~ 100 100 10000\n"
     ]
    }
   ],
   "source": [
    "func_name(100,100,c=10000)"
   ]
  },
  {
   "cell_type": "code",
   "execution_count": 18,
   "metadata": {},
   "outputs": [],
   "source": [
    "a=lambda x:print(x**2)"
   ]
  },
  {
   "cell_type": "code",
   "execution_count": 19,
   "metadata": {
    "scrolled": true
   },
   "outputs": [
    {
     "name": "stdout",
     "output_type": "stream",
     "text": [
      "10000\n"
     ]
    }
   ],
   "source": [
    "a(100)"
   ]
  },
  {
   "cell_type": "markdown",
   "metadata": {},
   "source": [
    "# 不定长参数，就像下水道一样"
   ]
  },
  {
   "cell_type": "code",
   "execution_count": 28,
   "metadata": {},
   "outputs": [],
   "source": [
    "def Joker(name1,name2,*args):\n",
    "    print(name1,name2)\n",
    "    print(args)"
   ]
  },
  {
   "cell_type": "code",
   "execution_count": 29,
   "metadata": {
    "scrolled": false
   },
   "outputs": [
    {
     "name": "stdout",
     "output_type": "stream",
     "text": [
      "1 2\n",
      "(3, 4, 5, 6, 7, 8, 9, 10)\n"
     ]
    }
   ],
   "source": [
    "Joker(1,2,3,4,5,6,7,8,9,10)"
   ]
  },
  {
   "cell_type": "markdown",
   "metadata": {},
   "source": [
    "## **kwargs 一定要放入键值对的形式"
   ]
  },
  {
   "cell_type": "code",
   "execution_count": 46,
   "metadata": {},
   "outputs": [],
   "source": [
    "def Joker1(name1,name2,**kwargs):\n",
    "    print(name1,name2)\n",
    "    print(kwargs)"
   ]
  },
  {
   "cell_type": "code",
   "execution_count": 48,
   "metadata": {},
   "outputs": [
    {
     "name": "stdout",
     "output_type": "stream",
     "text": [
      "2 4\n",
      "{'c': 6, 'd': 12, 'e': 19}\n"
     ]
    }
   ],
   "source": [
    "Joker1(2,4,c=6,d=12,e=19)"
   ]
  },
  {
   "cell_type": "code",
   "execution_count": 52,
   "metadata": {},
   "outputs": [],
   "source": [
    "def Joker2(*args,**kwargs):\n",
    "    print(args)\n",
    "    print(kwargs)"
   ]
  },
  {
   "cell_type": "code",
   "execution_count": 51,
   "metadata": {},
   "outputs": [
    {
     "name": "stdout",
     "output_type": "stream",
     "text": [
      "(1, 2, 3, 45, 65)\n",
      "{'a': 1, 'b': 3, 'c': 3}\n"
     ]
    }
   ],
   "source": [
    "Joker2(1,2,3,45,65,a=1,b=3,c=3)"
   ]
  },
  {
   "cell_type": "markdown",
   "metadata": {},
   "source": [
    "# 水仙花数"
   ]
  },
  {
   "cell_type": "code",
   "execution_count": 53,
   "metadata": {},
   "outputs": [],
   "source": [
    "def shuixianhua():\n",
    "    for i in range(100,1000):\n",
    "        bai = i //100\n",
    "        shi = i //10 %10\n",
    "        ge = i %10\n",
    "        if bai **3 + shi**3 + ge **3 == i:\n",
    "            print(i,'水仙花数')"
   ]
  },
  {
   "cell_type": "code",
   "execution_count": 54,
   "metadata": {},
   "outputs": [
    {
     "name": "stdout",
     "output_type": "stream",
     "text": [
      "153 水仙花数\n",
      "370 水仙花数\n",
      "371 水仙花数\n",
      "407 水仙花数\n"
     ]
    }
   ],
   "source": [
    "shuixianhua()"
   ]
  },
  {
   "cell_type": "code",
   "execution_count": 55,
   "metadata": {},
   "outputs": [
    {
     "name": "stdout",
     "output_type": "stream",
     "text": [
      "陈萌,010-116321,M,19000101,北京市海淀区苏州街3号大恒科技大厦北座6层,100080,10116,010-82808028,010-82828028-208,chenmeng@dist.com.cn,0\n",
      "\n"
     ]
    }
   ],
   "source": [
    "man  =0 \n",
    "woman = 0\n",
    "with open('/Users/huwang/Documents/Case/JokerCase_DATA/python/movies/day01/kaifangX.txt',mode='r',encoding='gbk',errors='ignore') as f:\n",
    "    line=f.readline()\n",
    "    print(line)\n",
    "\n",
    "\n",
    "\n",
    "\n",
    "\n"
   ]
  },
  {
   "cell_type": "code",
   "execution_count": 60,
   "metadata": {},
   "outputs": [],
   "source": [
    "def get_man_woman():\n",
    "    man  = 0 \n",
    "    woman = 0\n",
    "    with open('/Users/huwang/Documents/Case/JokerCase_DATA/python/movies/day01/kaifangX.txt',mode='r',encoding='gbk',errors='ignore') as f:\n",
    "        for i in range(10000):\n",
    "            line = f.readline()\n",
    "            try:\n",
    "                gender = line.split(',')[2]\n",
    "                if gender == 'M':\n",
    "                    man +=1\n",
    "                elif gender == 'F':\n",
    "                    woman +=1\n",
    "                else:\n",
    "                    print(i)\n",
    "            except Exception as e:\n",
    "                print(e)\n",
    "        print('the man is ',man)\n",
    "        print('the woman is ',woman)\n",
    "            "
   ]
  },
  {
   "cell_type": "code",
   "execution_count": 61,
   "metadata": {
    "collapsed": true
   },
   "outputs": [
    {
     "name": "stdout",
     "output_type": "stream",
     "text": [
      "432\n",
      "508\n",
      "list index out of range\n",
      "list index out of range\n",
      "list index out of range\n",
      "833\n",
      "1713\n",
      "1828\n",
      "2310\n",
      "3911\n",
      "3993\n",
      "4213\n",
      "4389\n",
      "4473\n",
      "4723\n",
      "4738\n",
      "5091\n",
      "5227\n",
      "5425\n",
      "6136\n",
      "6331\n",
      "6473\n",
      "6739\n",
      "7668\n",
      "7806\n",
      "7981\n",
      "8007\n",
      "8698\n",
      "9566\n",
      "9978\n",
      "the man is  7528\n",
      "the woman is  2442\n"
     ]
    }
   ],
   "source": [
    "get_man_woman()"
   ]
  },
  {
   "cell_type": "code",
   "execution_count": 64,
   "metadata": {},
   "outputs": [],
   "source": [
    "def get_man_woman_while():\n",
    "    man  = 0 \n",
    "    woman = 0\n",
    "    i = 0\n",
    "    with open('/Users/huwang/Documents/Case/JokerCase_DATA/python/movies/day01/kaifangX.txt',mode='r',encoding='gbk',errors='ignore') as f:\n",
    "        while i < 10000:\n",
    "            line = f.readline()\n",
    "            try:\n",
    "                gender = line.split(',')[2]\n",
    "                if gender == 'M':\n",
    "                    man +=1\n",
    "                    i +=1\n",
    "                elif gender == 'F':\n",
    "                    woman +=1\n",
    "                    i +=1\n",
    "            except Exception as e:\n",
    "                print(e)\n",
    "        print('the man is ',man)\n",
    "        print('the woman is ',woman)"
   ]
  },
  {
   "cell_type": "code",
   "execution_count": 65,
   "metadata": {
    "collapsed": true
   },
   "outputs": [
    {
     "name": "stdout",
     "output_type": "stream",
     "text": [
      "list index out of range\n",
      "list index out of range\n",
      "list index out of range\n",
      "the man is  7552\n",
      "the woman is  2448\n"
     ]
    }
   ],
   "source": [
    "get_man_woman_while()"
   ]
  },
  {
   "cell_type": "markdown",
   "metadata": {},
   "source": [
    "# Python 类"
   ]
  },
  {
   "cell_type": "markdown",
   "metadata": {},
   "source": [
    "## 类的最基本定义"
   ]
  },
  {
   "cell_type": "code",
   "execution_count": 88,
   "metadata": {},
   "outputs": [],
   "source": [
    "class JokerIsAGoodMan:\n",
    "    '''\n",
    "    解释这个类是要干神马的\n",
    "    '''\n",
    "    def __init__(self):  # __init__ 初始化 ！！！！！！！！！\n",
    "        self.a = 'hahaha'\n",
    "    def huwang(self):  # 这里一定要指明这个函数是属于这个类的，用self指明\n",
    "        print(self.a)\n",
    "    def shuaige(self):\n",
    "        print('asdjkfkajsndfk')\n",
    "        "
   ]
  },
  {
   "cell_type": "code",
   "execution_count": 89,
   "metadata": {},
   "outputs": [
    {
     "name": "stdout",
     "output_type": "stream",
     "text": [
      "asdjkfkajsndfk\n"
     ]
    }
   ],
   "source": [
    "JokerIsAGoodMan().shuaige()"
   ]
  },
  {
   "cell_type": "markdown",
   "metadata": {},
   "source": [
    "## 类的继承"
   ]
  },
  {
   "cell_type": "code",
   "execution_count": 101,
   "metadata": {},
   "outputs": [],
   "source": [
    "class A(object):\n",
    "    def __init__(self):\n",
    "        self.a = 'joker'\n",
    "    def showA(self):\n",
    "        print(self.a)"
   ]
  },
  {
   "cell_type": "code",
   "execution_count": 110,
   "metadata": {},
   "outputs": [],
   "source": [
    "class C(object):\n",
    "    def __init__(self):\n",
    "        self.c = 'jokerC'\n",
    "    def showC(self):\n",
    "        print(self.c)"
   ]
  },
  {
   "cell_type": "code",
   "execution_count": 111,
   "metadata": {},
   "outputs": [],
   "source": [
    "class B(A,C):\n",
    "    def __init__(self):\n",
    "        A.__init__(self)  # 告诉A，B要继承A,继承成功了之后，A中的东西都是B的\n",
    "        C.__init__(self)\n",
    "        self.b = 'jokerb'\n",
    "    def showB(self):\n",
    "        print(self.a)\n",
    "        print(self.c)"
   ]
  },
  {
   "cell_type": "code",
   "execution_count": 113,
   "metadata": {},
   "outputs": [
    {
     "name": "stdout",
     "output_type": "stream",
     "text": [
      "jokerC\n"
     ]
    }
   ],
   "source": [
    "B().showC()"
   ]
  },
  {
   "cell_type": "markdown",
   "metadata": {},
   "source": [
    "## 类的私有变量\n",
    "- 在变量名前添加 \"__\",\n",
    "- 或者在函数名前添加__"
   ]
  },
  {
   "cell_type": "code",
   "execution_count": 196,
   "metadata": {},
   "outputs": [],
   "source": [
    "class A1(object):\n",
    "    def __init__(self):\n",
    "        self.__a = 'joker' # 私有变量\n",
    "    def __showA1(self): # 私有函数\n",
    "        print(self.__a)"
   ]
  },
  {
   "cell_type": "code",
   "execution_count": 204,
   "metadata": {},
   "outputs": [
    {
     "data": {
      "text/plain": [
       "['_A1__a',\n",
       " '__module__',\n",
       " '__init__',\n",
       " '_A1__showA1',\n",
       " '__dict__',\n",
       " '__weakref__',\n",
       " '__doc__',\n",
       " '__repr__',\n",
       " '__hash__',\n",
       " '__str__',\n",
       " '__getattribute__',\n",
       " '__setattr__',\n",
       " '__delattr__',\n",
       " '__lt__',\n",
       " '__le__',\n",
       " '__eq__',\n",
       " '__ne__',\n",
       " '__gt__',\n",
       " '__ge__',\n",
       " '__new__',\n",
       " '__reduce_ex__',\n",
       " '__reduce__',\n",
       " '__subclasshook__',\n",
       " '__init_subclass__',\n",
       " '__format__',\n",
       " '__sizeof__',\n",
       " '__dir__',\n",
       " '__class__']"
      ]
     },
     "execution_count": 204,
     "metadata": {},
     "output_type": "execute_result"
    }
   ],
   "source": [
    "A1().__dir__() # 展现出 该类中所有的属性，里面会包括私有变量转变后的名字，其实名字是有规律可循，一般都是 _类名__变量名或者函数名 "
   ]
  },
  {
   "cell_type": "code",
   "execution_count": 180,
   "metadata": {},
   "outputs": [],
   "source": [
    "class C1(object):\n",
    "    def __init__(self):\n",
    "        self.c = 'jokerC'\n",
    "    def showC1(self):\n",
    "        print(self.c)"
   ]
  },
  {
   "cell_type": "markdown",
   "metadata": {},
   "source": [
    "## 私有变量强制继承\n"
   ]
  },
  {
   "cell_type": "code",
   "execution_count": 205,
   "metadata": {},
   "outputs": [],
   "source": [
    "# 在私有类中使用  类名(). __dir__ ()  找到真正的变量名\n",
    "# A1(). __dir__ ()"
   ]
  },
  {
   "cell_type": "code",
   "execution_count": 202,
   "metadata": {},
   "outputs": [],
   "source": [
    "class B1(A1,C1):\n",
    "    def __init__(self):\n",
    "        A1.__init__(self)  \n",
    "        C1.__init__(self)\n",
    "        self.b = 'jokerb'\n",
    "    def showB1(self):\n",
    "        print(self._A1__a)\n",
    "        print(self.c)"
   ]
  },
  {
   "cell_type": "code",
   "execution_count": 203,
   "metadata": {},
   "outputs": [
    {
     "name": "stdout",
     "output_type": "stream",
     "text": [
      "joker\n",
      "jokerC\n"
     ]
    }
   ],
   "source": [
    "B1().showB1()"
   ]
  },
  {
   "cell_type": "code",
   "execution_count": null,
   "metadata": {},
   "outputs": [],
   "source": []
  }
 ],
 "metadata": {
  "kernelspec": {
   "display_name": "Python 3",
   "language": "python",
   "name": "python3"
  },
  "language_info": {
   "codemirror_mode": {
    "name": "ipython",
    "version": 3
   },
   "file_extension": ".py",
   "mimetype": "text/x-python",
   "name": "python",
   "nbconvert_exporter": "python",
   "pygments_lexer": "ipython3",
   "version": "3.6.4"
  }
 },
 "nbformat": 4,
 "nbformat_minor": 2
}
