{
 "cells": [
  {
   "cell_type": "code",
   "execution_count": 1,
   "metadata": {},
   "outputs": [],
   "source": [
    "import time\n",
    "import numpy as np\n",
    "import matplotlib.pyplot as plt\n",
    "from sklearn.datasets import load_iris\n",
    "from sklearn.model_selection import train_test_split"
   ]
  },
  {
   "cell_type": "markdown",
   "metadata": {},
   "source": [
    "找寻最优值w,b, 减小误差"
   ]
  },
  {
   "cell_type": "code",
   "execution_count": 2,
   "metadata": {},
   "outputs": [],
   "source": [
    "data,target = load_iris()['data'][:100],load_iris()['target'][:100]"
   ]
  },
  {
   "cell_type": "code",
   "execution_count": 3,
   "metadata": {},
   "outputs": [],
   "source": [
    "X_train, X_test, y_train, y_test = train_test_split(data, target, test_size=0.3)"
   ]
  },
  {
   "cell_type": "code",
   "execution_count": 4,
   "metadata": {},
   "outputs": [
    {
     "data": {
      "text/plain": [
       "(70, 4)"
      ]
     },
     "execution_count": 4,
     "metadata": {},
     "output_type": "execute_result"
    }
   ],
   "source": [
    "X_train.shape"
   ]
  },
  {
   "cell_type": "code",
   "execution_count": 5,
   "metadata": {},
   "outputs": [
    {
     "data": {
      "text/plain": [
       "(70,)"
      ]
     },
     "execution_count": 5,
     "metadata": {},
     "output_type": "execute_result"
    }
   ],
   "source": [
    "y_train.shape"
   ]
  },
  {
   "cell_type": "code",
   "execution_count": 6,
   "metadata": {},
   "outputs": [],
   "source": [
    "class UP():\n",
    "    \n",
    "    def __init__(self,alpha,epochs):\n",
    "        self.alpha = alpha\n",
    "        self.epochs = epochs\n",
    "#         self.a = a\n",
    "        \n",
    "    def initia(self,n):\n",
    "        w= np.zeros(shape=(n,1))\n",
    "        b = 0\n",
    "        return w,b\n",
    "    \n",
    "    def sigmoid(self,z):\n",
    "        return 1/(1+np.exp(-z))\n",
    "    \n",
    "    def fit(self,data,y):\n",
    "        m,n = data.shape\n",
    "        w,b = self.initia(n)\n",
    "        for i in range(self.epochs):\n",
    "            time.sleep(0.1)\n",
    "            z = np.dot(data,w) + b\n",
    "            A = self.sigmoid(z)\n",
    "            y = np.reshape(y,(m,1))\n",
    "#             if loss == orange:\n",
    "            loss = - np.sum(y*np.log(A) + (1-y)*np.log(1-A)) / m\n",
    "#             elif L1 == L1:\n",
    "                \n",
    "#                 L1 = -np.sum[y*np.log(A) - (1 - y) * np.log(A)] / m +a*sgn(w) \n",
    "#             elif L2 == L2:\n",
    "#                 L2 = -np.sum[y*np.log(A) - (1 - y) * np.log(A) ] / m+a*w \n",
    "            dz = A - y\n",
    "            dw = np.dot(data.T,dz) / m\n",
    "            db = np.sum(dz,keepdims=True,axis=0) / m\n",
    "            w = w - self.alpha * dw\n",
    "            b = b - self.alpha * db\n",
    "            acc = self.score(data,y,w,b)\n",
    "            print('\\033[5;36;47m [%d/%d] loss is :%f acc(train):%f \\r'% (i + 1,self.epochs,loss,acc),end=\"\",flush=True)\n",
    "        return w,b\n",
    "    \n",
    "    def score(self,data,y,w,b):\n",
    "        z = np.dot(data,w) + b\n",
    "        A = self.sigmoid(z) \n",
    "        y_hat = np.round(A)\n",
    "        acc = (y_hat == y).sum() / y.size\n",
    "        return acc"
   ]
  },
  {
   "cell_type": "code",
   "execution_count": 7,
   "metadata": {},
   "outputs": [
    {
     "name": "stdout",
     "output_type": "stream",
     "text": [
      "\u001b[5;36;47m [100/100] loss is :0.387887 acc(train):1.000000 \r"
     ]
    }
   ],
   "source": [
    "up = UP(0.01,100)\n",
    "w,b = up.fit(data=X_train,y=y_train)"
   ]
  },
  {
   "cell_type": "code",
   "execution_count": null,
   "metadata": {},
   "outputs": [],
   "source": []
  }
 ],
 "metadata": {
  "kernelspec": {
   "display_name": "Python 3",
   "language": "python",
   "name": "python3"
  },
  "language_info": {
   "codemirror_mode": {
    "name": "ipython",
    "version": 3
   },
   "file_extension": ".py",
   "mimetype": "text/x-python",
   "name": "python",
   "nbconvert_exporter": "python",
   "pygments_lexer": "ipython3",
   "version": "3.7.3"
  }
 },
 "nbformat": 4,
 "nbformat_minor": 2
}
