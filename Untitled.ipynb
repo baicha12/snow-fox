{
 "cells": [
  {
   "cell_type": "markdown",
   "metadata": {},
   "source": [
    "# 循环结构"
   ]
  },
  {
   "cell_type": "markdown",
   "metadata": {},
   "source": [
    "在程序中我们需要执行重复重复再重复的东东，使用循环结构。\n",
    "一种是for-in循环\n",
    "一种是while循环"
   ]
  },
  {
   "cell_type": "code",
   "execution_count": 1,
   "metadata": {},
   "outputs": [
    {
     "name": "stdout",
     "output_type": "stream",
     "text": [
      "5050\n"
     ]
    }
   ],
   "source": [
    "\"\"\"\n",
    "for循环实现1~100 求和\n",
    "\n",
    "\"\"\"\n",
    "sum = 0\n",
    "for x in range(101):\n",
    "    sum += x\n",
    "print(sum)"
   ]
  },
  {
   "cell_type": "code",
   "execution_count": 5,
   "metadata": {},
   "outputs": [
    {
     "name": "stdout",
     "output_type": "stream",
     "text": [
      "5050\n"
     ]
    }
   ],
   "source": [
    "sum = 0\n",
    "for x in range(1,101):\n",
    "    sum += x\n",
    "print(sum)"
   ]
  },
  {
   "cell_type": "code",
   "execution_count": 7,
   "metadata": {},
   "outputs": [
    {
     "name": "stdout",
     "output_type": "stream",
     "text": [
      "2550\n"
     ]
    }
   ],
   "source": [
    "####偶数求和\n",
    "sum = 0\n",
    "for x in range(2,101,2):\n",
    "    sum += x\n",
    "print(sum)"
   ]
  },
  {
   "cell_type": "markdown",
   "metadata": {},
   "source": [
    "while循环 ：常用于死循环进行取值"
   ]
  },
  {
   "cell_type": "code",
   "execution_count": 8,
   "metadata": {},
   "outputs": [
    {
     "name": "stdout",
     "output_type": "stream",
     "text": [
      "5050\n"
     ]
    }
   ],
   "source": [
    "\"\"\"\n",
    "for循环实现1~100 求和\n",
    "\n",
    "\"\"\"\n",
    "sum = 0\n",
    "num = 1\n",
    "while num <= 100:\n",
    "    sum += num\n",
    "    num += 1\n",
    "print(sum)"
   ]
  },
  {
   "cell_type": "code",
   "execution_count": 9,
   "metadata": {},
   "outputs": [
    {
     "name": "stdout",
     "output_type": "stream",
     "text": [
      "2550\n"
     ]
    }
   ],
   "source": [
    "\"\"\"\n",
    "for循环实现1~100 偶数求和\n",
    "\n",
    "\"\"\"\n",
    "sum = 0\n",
    "num = 2\n",
    "while num <= 100:\n",
    "    sum += num\n",
    "    num += 2\n",
    "print(sum)"
   ]
  },
  {
   "cell_type": "markdown",
   "metadata": {},
   "source": [
    "# 函数和模块的使用"
   ]
  },
  {
   "cell_type": "markdown",
   "metadata": {},
   "source": [
    "def关键字来定义函数，和变量一样每个函数也有一个响亮的名字，而且命名规则跟变量的命名规则是一致的。在函数名后面的圆括号中可以放置传递给函数的参数，这一点和数学上的函数非常相似，程序中函数的参数就相当于是数学上说的函数的自变量，而函数执行完成后我们可以通过return关键字来返回一个值，这相当于数学上说的函数的因变量。"
   ]
  },
  {
   "cell_type": "code",
   "execution_count": 12,
   "metadata": {},
   "outputs": [
    {
     "name": "stdout",
     "output_type": "stream",
     "text": [
      "0\n",
      "1\n",
      "10\n"
     ]
    }
   ],
   "source": [
    "###在参数名前面的*表示args是一个可变参数（不定长参数）\n",
    "###记载调用add函数时可以传入0个或多个参数\n",
    "def add (*args):\n",
    "    total = 0\n",
    "    for val in args:\n",
    "        total += val\n",
    "    return total\n",
    "\n",
    "print(add())\n",
    "print(add(1))\n",
    "print(add(1,2,3,4))"
   ]
  },
  {
   "cell_type": "code",
   "execution_count": 15,
   "metadata": {},
   "outputs": [
    {
     "name": "stdout",
     "output_type": "stream",
     "text": [
      "请输入a:1\n",
      "请输入b:2.0\n",
      "请输入c:1\n",
      "-1.0\n"
     ]
    }
   ],
   "source": [
    "##1一元二次方程\n",
    "def gongshi():\n",
    "    a = float(input('请输入a:'))\n",
    "    b = float(input('请输入b:'))\n",
    "    c = float(input('请输入c:'))\n",
    "    r1 = (-b + ((b ** 2) - 4*a*c)**0.5) / 2 * a\n",
    "    r2 = (-b - ((b ** 2) - 4*a*c)**0.5) / 2 * a\n",
    "    s = (b**2 - (4 * a * c))\n",
    "    if s > 0:\n",
    "        print(r1,r2)\n",
    "    elif s ==0:\n",
    "        print(r1)\n",
    "    else:\n",
    "        print('The equation has no real roots') \n",
    "gongshi()\n"
   ]
  },
  {
   "cell_type": "code",
   "execution_count": 7,
   "metadata": {},
   "outputs": [
    {
     "name": "stdout",
     "output_type": "stream",
     "text": [
      "输入两数之和：20\n",
      "程序为假\n"
     ]
    }
   ],
   "source": [
    "##2学习加法\n",
    "\n",
    "\n",
    "import random\n",
    "def chengxu():\n",
    " ##   num1 = int(input())\n",
    " ##   num2 = int(input())\n",
    "    num1 = random.randint(1,100)\n",
    "    num2 = random.randint(1,100)\n",
    "    num = int(input(\"输入两数之和：\"))\n",
    "    if num == num1 + num2:\n",
    "        print('真')\n",
    "    else :\n",
    "        print(\"程序为假\")\n",
    "        \n",
    "chengxu()\n"
   ]
  },
  {
   "cell_type": "code",
   "execution_count": 2,
   "metadata": {},
   "outputs": [
    {
     "name": "stdout",
     "output_type": "stream",
     "text": [
      "星期2\n",
      "天数5\n",
      "0\n"
     ]
    }
   ],
   "source": [
    "##3预测之后的天\n",
    "def rizi():\n",
    "    a = int(input(\"星期\"))\n",
    "    b = int(input(\"天数\"))\n",
    "    tian = b % 7\n",
    "    xia = a + tian\n",
    "    tai = xia % 7\n",
    "    print(tai)\n",
    "rizi()\n",
    "    \n"
   ]
  },
  {
   "cell_type": "code",
   "execution_count": 4,
   "metadata": {},
   "outputs": [
    {
     "name": "stdout",
     "output_type": "stream",
     "text": [
      "请输入5\n",
      "请输入2\n",
      "请输入1\n",
      "['1', '2', '5']\n"
     ]
    }
   ],
   "source": [
    "##4三个整数比大小\n",
    "def tishi():\n",
    "    one = input(\"请输入\")\n",
    "    two = input(\"请输入\")\n",
    "    three = input(\"请输入\")\n",
    "\n",
    "    a = [one,two,three]\n",
    "    a.sort()\n",
    "    print(a)\n",
    "\n",
    "tishi()"
   ]
  },
  {
   "cell_type": "code",
   "execution_count": 5,
   "metadata": {},
   "outputs": [
    {
     "name": "stdout",
     "output_type": "stream",
     "text": [
      "package150\n",
      "24.59\n",
      "package225\n",
      "11.99\n",
      "package2 hao\n"
     ]
    }
   ],
   "source": [
    "##5比较价钱\n",
    "def tishi():\n",
    "    weight1 = float(input(\"package1\"))\n",
    "    price1 = float(input())\n",
    "    weight2 = float(input(\"package2\"))\n",
    "    price2 = float(input())\n",
    "    danjia1 = weight1 / price1\n",
    "    danjia2 = weight2 / price2\n",
    "    if danjia1 > danjia2:\n",
    "        print(\"package1 hao\")\n",
    "    else :\n",
    "        print(\"package2 hao\")\n",
    "\n",
    "tishi()\n"
   ]
  },
  {
   "cell_type": "code",
   "execution_count": 6,
   "metadata": {},
   "outputs": [
    {
     "name": "stdout",
     "output_type": "stream",
     "text": [
      "月5\n",
      "年2016\n",
      "31天\n"
     ]
    }
   ],
   "source": [
    "##6。找出一个月中的天数\n",
    "def tishi():\n",
    "    a = int(input(\"月\"))\n",
    "    b = int(input(\"年\"))\n",
    "    list1 = [1,3,5,7,8,10,12]\n",
    "    list2 = [4,6,9,11]\n",
    "    if a in list1 :\n",
    "        print(\"31天\")\n",
    "    elif a in list2:\n",
    "        print(\"30天\")\n",
    "    else:\n",
    "        if b % 4 != 0:\n",
    "            print(\"28天\")\n",
    "        else: \n",
    "            print(\"29天\")\n",
    "tishi()"
   ]
  },
  {
   "cell_type": "code",
   "execution_count": 7,
   "metadata": {},
   "outputs": [
    {
     "name": "stdout",
     "output_type": "stream",
     "text": [
      "1\n",
      "错了\n"
     ]
    }
   ],
   "source": [
    "##7 猜硬币\n",
    "import random\n",
    "def tishi():\n",
    "    num1 = random.randint(1,3)\n",
    "    a = int(input(\"\"))\n",
    "    if a == num1:\n",
    "        print(\"对了\")\n",
    "    else:\n",
    "        print(\"错了\")\n",
    "    \n",
    "tishi()"
   ]
  },
  {
   "cell_type": "code",
   "execution_count": 8,
   "metadata": {},
   "outputs": [
    {
     "name": "stdout",
     "output_type": "stream",
     "text": [
      "0:石头,1:剪刀,2:布0\n",
      "电脑赢了 😢\n"
     ]
    }
   ],
   "source": [
    "##8\n",
    "import random\n",
    "# import numpy as np\n",
    "# res = np.random.choice(['石头','✂️','🙅🙅‍♀️'])\n",
    "# print(res)\n",
    "import os\n",
    "# pywin32\n",
    "C_res = random.randint(0,2)\n",
    "U_res = int(input('0:石头,1:剪刀,2:布'))\n",
    "if C_res == U_res:\n",
    "    print('平局')\n",
    "else:\n",
    "    if C_res == 0 and U_res == 1:\n",
    "        print('电脑赢了 😢')\n",
    "        #os.system('say you loser.')\n",
    "    elif C_res == 1 and U_res == 2:\n",
    "        print('电脑赢了 😢')\n",
    "       # os.system('say you loser.')\n",
    "    elif C_res == 2 and U_res == 0:\n",
    "        print('电脑赢了 😢')\n",
    "       # os.system('say you loser.')\n",
    "    else:\n",
    "        print('你赢了 😄')\n",
    "       # os.system('say you winer.')"
   ]
  },
  {
   "cell_type": "code",
   "execution_count": 10,
   "metadata": {},
   "outputs": [
    {
     "name": "stdout",
     "output_type": "stream",
     "text": [
      "年2013\n",
      "月1\n",
      "天25\n",
      "这一天是星期5\n"
     ]
    }
   ],
   "source": [
    "##9\n",
    "def function():\n",
    "    year = int(input('年'))\n",
    "    mounth = int(input('月'))\n",
    "    data = int(input('天'))\n",
    "    k = year % 100\n",
    "    j = year / 100\n",
    "    h = (data + (26 * (mounth + 1) / 10) + k + (k / 4) +(j/4) + 5 * j ) % 7\n",
    "    print('这一天是星期%d'%h)\n",
    "\n",
    "function()"
   ]
  },
  {
   "cell_type": "code",
   "execution_count": 11,
   "metadata": {},
   "outputs": [
    {
     "name": "stdout",
     "output_type": "stream",
     "text": [
      "121\n",
      "回文\n"
     ]
    }
   ],
   "source": [
    "##11。回文数\n",
    "def tishi():\n",
    "    a = input()\n",
    "    gw = a[2]\n",
    "    bw = a[0]\n",
    "    if gw == bw:\n",
    "        print(\"回文\") \n",
    "    else :\n",
    "        print(\"非回文\")   \n",
    "    \n",
    "\n",
    "     \n",
    "tishi()\n",
    "\n"
   ]
  },
  {
   "cell_type": "code",
   "execution_count": 12,
   "metadata": {},
   "outputs": [
    {
     "name": "stdout",
     "output_type": "stream",
     "text": [
      "请输入1\n",
      "请输入1\n",
      "请输入1\n",
      "3\n"
     ]
    }
   ],
   "source": [
    "##12. 计算三角形的周长\n",
    "def tishi():\n",
    "    a = int(input(\"请输入\"))\n",
    "    b = int(input(\"请输入\"))\n",
    "    c = int(input(\"请输入\"))\n",
    "    zhaochang = (a + b + c)\n",
    "\n",
    "    if a + b > c and  a + c > b and b + c > a:\n",
    "        print (zhaochang)\n",
    "    else :\n",
    "        print(\"错了\")\n",
    "\n",
    "\n",
    "     \n",
    "tishi()\n"
   ]
  }
 ],
 "metadata": {
  "kernelspec": {
   "display_name": "Python 3",
   "language": "python",
   "name": "python3"
  },
  "language_info": {
   "codemirror_mode": {
    "name": "ipython",
    "version": 3
   },
   "file_extension": ".py",
   "mimetype": "text/x-python",
   "name": "python",
   "nbconvert_exporter": "python",
   "pygments_lexer": "ipython3",
   "version": "3.7.3"
  }
 },
 "nbformat": 4,
 "nbformat_minor": 2
}
