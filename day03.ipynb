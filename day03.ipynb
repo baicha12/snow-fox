{
 "cells": [
  {
   "cell_type": "code",
   "execution_count": 6,
   "metadata": {
    "scrolled": true
   },
   "outputs": [
    {
     "name": "stdout",
     "output_type": "stream",
     "text": [
      "{1, 2, 3, 4}\n",
      "[1, 2, 3, 4]\n",
      "http://www.baidu.com/?page=1\n",
      "http://www.baidu.com/?page=2\n",
      "http://www.baidu.com/?page=3\n",
      "http://www.baidu.com/?page=4\n",
      "{1: 'http://www.baidu.com/?page=1', 2: 'http://www.baidu.com/?page=2', 3: 'http://www.baidu.com/?page=3', 4: 'http://www.baidu.com/?page=4'}\n"
     ]
    }
   ],
   "source": [
    "url_number = [1,2,3,1,4,4,2]\n",
    "\n",
    "set_url_number = set(url_number) # 将其转换为集合，去重\n",
    "print(set_url_number)\n",
    "change_to_list = list(set_url_number) # 再次转换为列表，因为集合是无序\n",
    "print(change_to_list)\n",
    "url = 'http://www.baidu.com/?page=' # 创建一个初始url\n",
    "dic = {}  # 初始化一个空字典\n",
    "for i in change_to_list:\n",
    "    url_join = url + str(i) # 将字符串进行拼接 注意拼接的类型\n",
    "    print(url_join)\n",
    "    dic[i] = url_join  # 通过键名去加入键值\n",
    "    \n",
    "print(dic)\n"
   ]
  },
  {
   "cell_type": "code",
   "execution_count": 7,
   "metadata": {},
   "outputs": [
    {
     "name": "stdout",
     "output_type": "stream",
     "text": [
      "1 奇数\n",
      "2 偶数\n",
      "3 奇数\n",
      "4 偶数\n",
      "5 奇数\n"
     ]
    }
   ],
   "source": [
    "number = [1,2,3,4,5]\n",
    "for i in number:\n",
    "    if i %2 == 0:\n",
    "        print(i,'偶数')\n",
    "    else:\n",
    "        print(i,'奇数')"
   ]
  },
  {
   "cell_type": "code",
   "execution_count": 12,
   "metadata": {},
   "outputs": [
    {
     "data": {
      "text/plain": [
       "0.0"
      ]
     },
     "execution_count": 12,
     "metadata": {},
     "output_type": "execute_result"
    }
   ],
   "source": [
    "2.0%2"
   ]
  },
  {
   "cell_type": "code",
   "execution_count": 13,
   "metadata": {},
   "outputs": [
    {
     "data": {
      "text/plain": [
       "0"
      ]
     },
     "execution_count": 13,
     "metadata": {},
     "output_type": "execute_result"
    }
   ],
   "source": [
    "2 % 2"
   ]
  },
  {
   "cell_type": "code",
   "execution_count": 19,
   "metadata": {},
   "outputs": [
    {
     "name": "stdout",
     "output_type": "stream",
     "text": [
      "请输入一个数字100.0\n",
      "<class 'float'>\n",
      "偶数\n"
     ]
    }
   ],
   "source": [
    "number_input = eval(input('请输入一个数字'))\n",
    "print(type(number_input))\n",
    "if type(number_input) is int:\n",
    "    if number_input % 2 == 0:\n",
    "        print('偶数')\n",
    "    else:\n",
    "        print('奇数')\n",
    "elif type(number_input) is float:\n",
    "    if number_input % 2 == 0.0:\n",
    "        print('偶数')\n",
    "    else:\n",
    "        print('奇数')"
   ]
  },
  {
   "cell_type": "code",
   "execution_count": 1,
   "metadata": {},
   "outputs": [
    {
     "name": "stdout",
     "output_type": "stream",
     "text": [
      "奇数\n",
      "偶数\n",
      "偶数\n",
      "偶数\n",
      "奇数\n"
     ]
    }
   ],
   "source": [
    "num_list=[1,100,100,500,55]\n",
    "i = 0\n",
    "while i < len(num_list):\n",
    "    if num_list[i] % 2==0:\n",
    "        print('偶数')\n",
    "    else:\n",
    "        print('奇数')\n",
    "    i += 1"
   ]
  },
  {
   "cell_type": "code",
   "execution_count": 5,
   "metadata": {},
   "outputs": [
    {
     "name": "stdout",
     "output_type": "stream",
     "text": [
      "郭雄伟,131123198608024219,M,19860802,裕华区塔北路10号            塔北路专营店                  河北新兴格力电器销售有限公司,050000,15081821162,03183892256,\n",
      "\n",
      "郭雄伟,410901196808122713,M,19680812,河南省濮阳市华龙区胜利东路36号,\n",
      "\n",
      "郭雄伟,362431197406150554,M,19740615,江西省萍乡市莲花县琴亭镇金城大道19号,\n",
      "\n",
      "郭雄伟,422127197503225517,M,19750322,湖北省浠水县白莲镇长湖村三组,\n",
      "\n",
      "郭雄伟,43062619821124421X,M,19821124,湖南省平江县木金乡中和村182号,\n",
      "\n",
      "郭雄伟,610424198507084630,M,19850708,广东省深圳市南山区高新中一道10号生物孵化器大楼2-310室,\n",
      "\n",
      "郭雄伟,511321198212108677,M,19821210,四川省南部县丘娅乡联盟村8组,\n",
      "\n",
      "郭雄伟,320219197205240794,M,19720524,\n",
      "\n",
      "郭雄伟,430211197107295219,M,19710729,湖南省株洲市石峰区龙头铺镇龙头村老街13号,\n",
      "\n",
      "郭雄伟,612723198512154017,M,19851215,陕西省府谷县赵五湾乡粉房沟村郭家嫣自然村9号,\n",
      "\n",
      "郭雄伟,612701198410252654,M,19841025,西安市莲湖区沣镐路二号长航公司,\n",
      "\n",
      "郭雄伟,62280119811122145X,M,19811122,甘肃省兰州市安宁区安宁东路967号,\n",
      "\n",
      "郭雄伟,211381198012024917,M,19801202,\n",
      "\n",
      "郭雄伟,152626198604110110,M,19860411,内蒙古自治区商都县七台镇四街和平街15,\n",
      "\n",
      "郭雄伟,140212198710081516,M,19871008,00,\n",
      "\n",
      "郭雄伟,140212198710081516,M,19871008,00,\n",
      "\n"
     ]
    },
    {
     "ename": "KeyboardInterrupt",
     "evalue": "",
     "output_type": "error",
     "traceback": [
      "\u001b[0;31m---------------------------------------------------------------------------\u001b[0m",
      "\u001b[0;31mKeyboardInterrupt\u001b[0m                         Traceback (most recent call last)",
      "\u001b[0;32m<ipython-input-5-cdab0f248155>\u001b[0m in \u001b[0;36m<module>\u001b[0;34m()\u001b[0m\n\u001b[1;32m      3\u001b[0m \u001b[0;32mwith\u001b[0m \u001b[0mopen\u001b[0m\u001b[0;34m(\u001b[0m\u001b[0mfile\u001b[0m\u001b[0;34m,\u001b[0m\u001b[0mmode\u001b[0m\u001b[0;34m=\u001b[0m\u001b[0;34m'r'\u001b[0m\u001b[0;34m,\u001b[0m\u001b[0mencoding\u001b[0m\u001b[0;34m=\u001b[0m\u001b[0;34m'gbk'\u001b[0m\u001b[0;34m,\u001b[0m\u001b[0merrors\u001b[0m\u001b[0;34m=\u001b[0m\u001b[0;34m'ignore'\u001b[0m\u001b[0;34m)\u001b[0m \u001b[0;32mas\u001b[0m \u001b[0mf\u001b[0m\u001b[0;34m:\u001b[0m\u001b[0;34m\u001b[0m\u001b[0m\n\u001b[1;32m      4\u001b[0m     \u001b[0;32mwhile\u001b[0m \u001b[0;36m1\u001b[0m\u001b[0;34m:\u001b[0m\u001b[0;34m\u001b[0m\u001b[0m\n\u001b[0;32m----> 5\u001b[0;31m         \u001b[0mline\u001b[0m \u001b[0;34m=\u001b[0m \u001b[0mf\u001b[0m\u001b[0;34m.\u001b[0m\u001b[0mreadline\u001b[0m\u001b[0;34m(\u001b[0m\u001b[0;34m)\u001b[0m\u001b[0;34m\u001b[0m\u001b[0m\n\u001b[0m\u001b[1;32m      6\u001b[0m         \u001b[0;32mif\u001b[0m \u001b[0mline\u001b[0m\u001b[0;34m.\u001b[0m\u001b[0mfind\u001b[0m\u001b[0;34m(\u001b[0m\u001b[0;34m'郭雄伟'\u001b[0m\u001b[0;34m)\u001b[0m \u001b[0;34m!=\u001b[0m \u001b[0;34m-\u001b[0m\u001b[0;36m1\u001b[0m\u001b[0;34m:\u001b[0m\u001b[0;34m\u001b[0m\u001b[0m\n\u001b[1;32m      7\u001b[0m             \u001b[0mprint\u001b[0m\u001b[0;34m(\u001b[0m\u001b[0mline\u001b[0m\u001b[0;34m)\u001b[0m\u001b[0;34m\u001b[0m\u001b[0m\n",
      "\u001b[0;31mKeyboardInterrupt\u001b[0m: "
     ]
    }
   ],
   "source": [
    "file = '/Users/huwang/Documents/Case/JokerCase_DATA/python/movies/day01/kaifangX.txt'\n",
    "\n",
    "with open(file,mode='r',encoding='gbk',errors='ignore') as f:\n",
    "    while 1:\n",
    "        line = f.readline()\n",
    "        if line.find('郭雄伟') != -1:\n",
    "            print(line)"
   ]
  },
  {
   "cell_type": "markdown",
   "metadata": {},
   "source": [
    "# 函数"
   ]
  },
  {
   "cell_type": "code",
   "execution_count": 11,
   "metadata": {},
   "outputs": [],
   "source": [
    "def test_0():  # PEP8代码规范\n",
    "    '''\n",
    "    这是我们的\n",
    "    第一个\n",
    "    函数\n",
    "    '''\n",
    "    print('it is a function')"
   ]
  },
  {
   "cell_type": "code",
   "execution_count": 12,
   "metadata": {},
   "outputs": [
    {
     "name": "stdout",
     "output_type": "stream",
     "text": [
      "it is a function\n"
     ]
    }
   ],
   "source": [
    "test_0()"
   ]
  },
  {
   "cell_type": "code",
   "execution_count": 16,
   "metadata": {},
   "outputs": [],
   "source": [
    "def yan(name,name1,name2):\n",
    "    '''\n",
    "    '''\n",
    "    print(name,name1,name2)"
   ]
  },
  {
   "cell_type": "code",
   "execution_count": 17,
   "metadata": {},
   "outputs": [
    {
     "name": "stdout",
     "output_type": "stream",
     "text": [
      "闫喜亚 asd asdf\n"
     ]
    }
   ],
   "source": [
    "yan(name='闫喜亚',name1='asd',name2='asdf')"
   ]
  },
  {
   "cell_type": "markdown",
   "metadata": {},
   "source": [
    "## 默认参数"
   ]
  },
  {
   "cell_type": "code",
   "execution_count": 20,
   "metadata": {},
   "outputs": [],
   "source": [
    "def xi(name='美女'):\n",
    "    '''\n",
    "    '''\n",
    "    print(name)"
   ]
  },
  {
   "cell_type": "code",
   "execution_count": 22,
   "metadata": {},
   "outputs": [
    {
     "name": "stdout",
     "output_type": "stream",
     "text": [
      "丑女\n"
     ]
    }
   ],
   "source": [
    "xi('丑女')"
   ]
  },
  {
   "cell_type": "code",
   "execution_count": 31,
   "metadata": {},
   "outputs": [],
   "source": [
    "def ya(name,name2,name3='美女'):\n",
    "    print(name,name2,name3)"
   ]
  },
  {
   "cell_type": "code",
   "execution_count": 32,
   "metadata": {},
   "outputs": [
    {
     "name": "stdout",
     "output_type": "stream",
     "text": [
      "lala hahah 美女\n"
     ]
    }
   ],
   "source": [
    "ya(name='lala',name2='hahah')"
   ]
  },
  {
   "cell_type": "markdown",
   "metadata": {},
   "source": [
    "## 强制命名参数"
   ]
  },
  {
   "cell_type": "code",
   "execution_count": 33,
   "metadata": {},
   "outputs": [],
   "source": [
    "def guo(name,*,name2,name3):\n",
    "    print(name,name2,name3)"
   ]
  },
  {
   "cell_type": "code",
   "execution_count": 37,
   "metadata": {},
   "outputs": [
    {
     "name": "stdout",
     "output_type": "stream",
     "text": [
      "12 sdf asdfa\n"
     ]
    }
   ],
   "source": [
    "guo('12',name2='sdf',name3='asdfa')"
   ]
  },
  {
   "cell_type": "markdown",
   "metadata": {},
   "source": [
    "# 匿名函数"
   ]
  },
  {
   "cell_type": "code",
   "execution_count": 36,
   "metadata": {},
   "outputs": [
    {
     "name": "stdout",
     "output_type": "stream",
     "text": [
      "100\n"
     ]
    }
   ],
   "source": [
    "(lambda x:print(x))(100)"
   ]
  }
 ],
 "metadata": {
  "kernelspec": {
   "display_name": "Python 3",
   "language": "python",
   "name": "python3"
  },
  "language_info": {
   "codemirror_mode": {
    "name": "ipython",
    "version": 3
   },
   "file_extension": ".py",
   "mimetype": "text/x-python",
   "name": "python",
   "nbconvert_exporter": "python",
   "pygments_lexer": "ipython3",
   "version": "3.6.4"
  }
 },
 "nbformat": 4,
 "nbformat_minor": 2
}
