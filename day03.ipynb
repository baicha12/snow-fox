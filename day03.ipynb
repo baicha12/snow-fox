{
 "cells": [
  {
   "cell_type": "code",
   "execution_count": null,
   "metadata": {},
   "outputs": [],
   "source": [
    "fire_path = 'D:\\\\新建文件夹 (3)\\\\kaifangX.txt'\n",
    "open_file_path = open(fire_path, mode='r', encoding='gbk'errors = 'ignore')\n",
    "fire = 'D:\\\\新建文件夹 (3)\\\\X.txt'\n",
    "open_file = open(fire_path, mode='r', encoding='gbk')\n",
    "for i in range(0,100):\n",
    "    line =open_file.readline() \n",
    "    strip_line =line.strip('\\n')\n",
    "    List.append(strip_line)\n",
    "print(List)    \n",
    "print(len(List))    "
   ]
  }
 ],
 "metadata": {
  "kernelspec": {
   "display_name": "Python 3",
   "language": "python",
   "name": "python3"
  },
  "language_info": {
   "codemirror_mode": {
    "name": "ipython",
    "version": 3
   },
   "file_extension": ".py",
   "mimetype": "text/x-python",
   "name": "python",
   "nbconvert_exporter": "python",
   "pygments_lexer": "ipython3",
   "version": "3.6.4"
  }
 },
 "nbformat": 4,
 "nbformat_minor": 2
}
