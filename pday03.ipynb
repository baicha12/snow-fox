{
 "cells": [
  {
   "cell_type": "code",
   "execution_count": 18,
   "metadata": {},
   "outputs": [
    {
     "name": "stdout",
     "output_type": "stream",
     "text": [
      "请输用户名：baicha\n",
      "请输入口令：123456\n",
      "身份验证失败！\n"
     ]
    }
   ],
   "source": [
    "username = input('请输用户名：')\n",
    "password = input('请输入口令：')\n",
    "if username == 'admin'and password == '123456':\n",
    "    print('身份验证成功！')\n",
    "else:\n",
    "    print('身份验证失败！')\n",
    "\n",
    "    "
   ]
  },
  {
   "cell_type": "code",
   "execution_count": 22,
   "metadata": {},
   "outputs": [
    {
     "name": "stdout",
     "output_type": "stream",
     "text": [
      "x =2\n",
      "f(2.00) = 1.00\n"
     ]
    }
   ],
   "source": [
    "x = float(input('x ='))\n",
    "if x > 1:\n",
    "    y = 3 * x - 5\n",
    "elif x >= -1:\n",
    "    y= x +2\n",
    "else:\n",
    "    y = 5 * x + 3\n",
    "print('f(%.2f) = %.2f' % (x, y))\n",
    "            "
   ]
  },
  {
   "cell_type": "code",
   "execution_count": 26,
   "metadata": {},
   "outputs": [
    {
     "name": "stdout",
     "output_type": "stream",
     "text": [
      "讲冷笑话\n"
     ]
    }
   ],
   "source": [
    "from random import randint\n",
    "face = randint(1,6)\n",
    "if face == 1:\n",
    "    result = '唱首歌'\n",
    "elif face ==2:\n",
    "    result = '跳个舞'\n",
    "elif face ==3:\n",
    "    result = '学狗叫'\n",
    "elif face ==4:\n",
    "    result = '做俯卧撑'\n",
    "elif face ==5:\n",
    "    result = '念绕口令'\n",
    "else:\n",
    "    result = '讲冷笑话'\n",
    "print(result)        "
   ]
  },
  {
   "cell_type": "code",
   "execution_count": 29,
   "metadata": {},
   "outputs": [
    {
     "name": "stdout",
     "output_type": "stream",
     "text": [
      "请输入成绩: 85\n",
      "对应的等级是: B\n"
     ]
    }
   ],
   "source": [
    "score = float(input('请输入成绩: '))\n",
    "if score >= 90:\n",
    "    grade = 'A'\n",
    "elif score >=80:\n",
    "    grade = 'B'\n",
    "elif score >=70:\n",
    "    grade = 'C'\n",
    "elif score >=60:\n",
    "    grade = 'D'\n",
    "else :\n",
    "    grade = 'E'\n",
    "print('对应的等级是:',grade)"
   ]
  },
  {
   "cell_type": "code",
   "execution_count": 33,
   "metadata": {},
   "outputs": [
    {
     "name": "stdout",
     "output_type": "stream",
     "text": [
      "a = 3\n",
      "b = 4\n",
      "c = 5\n",
      "周长： 12.000000\n",
      "面积： 6.000000\n"
     ]
    }
   ],
   "source": [
    "import math\n",
    "a = float(input('a = '))\n",
    "b = float(input('b = '))\n",
    "c = float(input('c = '))\n",
    "if a + b > c and a + c > b and b + c > a:\n",
    "    print('周长： %f' % (a + b + c))\n",
    "    p = (a + b + c) / 2\n",
    "    area = math .sqrt(p * (p - a) * (p - b) * (p - c))\n",
    "    print('面积： %f' % (area))\n",
    "else:\n",
    "    print('不能构成三角形')"
   ]
  },
  {
   "cell_type": "code",
   "execution_count": 34,
   "metadata": {},
   "outputs": [
    {
     "name": "stdout",
     "output_type": "stream",
     "text": [
      "请输入长度: 20\n",
      "请输入单位: cm\n",
      "20.000000厘米 = 7.874016英寸\n"
     ]
    }
   ],
   "source": [
    "value = float(input('请输入长度: '))\n",
    "unit = input('请输入单位: ')\n",
    "if unit == 'in' or unit == '英寸':\n",
    "    print('%f英寸 = %f厘米' % (value, value * 2.54))\n",
    "elif unit == 'cm' or unit == '厘米':\n",
    "    print('%f厘米 = %f英寸' % (value, value / 2.54))\n",
    "else:\n",
    "    print('请输入有效的单位')"
   ]
  },
  {
   "cell_type": "code",
   "execution_count": null,
   "metadata": {},
   "outputs": [],
   "source": []
  }
 ],
 "metadata": {
  "kernelspec": {
   "display_name": "Python 3",
   "language": "python",
   "name": "python3"
  },
  "language_info": {
   "codemirror_mode": {
    "name": "ipython",
    "version": 3
   },
   "file_extension": ".py",
   "mimetype": "text/x-python",
   "name": "python",
   "nbconvert_exporter": "python",
   "pygments_lexer": "ipython3",
   "version": "3.6.4"
  }
 },
 "nbformat": 4,
 "nbformat_minor": 2
}
