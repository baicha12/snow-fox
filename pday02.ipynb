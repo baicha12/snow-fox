{
 "cells": [
  {
   "cell_type": "code",
   "execution_count": null,
   "metadata": {},
   "outputs": [],
   "source": [
    "f = float(input('请输入华氏温度：'))\n",
    "c = (f - 32)/ 1.8\n",
    "print('%.1f华氏度 = %。1f摄氏度' % (f,c))"
   ]
  },
  {
   "cell_type": "code",
   "execution_count": null,
   "metadata": {},
   "outputs": [],
   "source": []
  },
  {
   "cell_type": "code",
   "execution_count": null,
   "metadata": {},
   "outputs": [],
   "source": [
    "import math\n",
    "\n",
    "radius = float(input('请输入圆的半径：'))\n",
    "\n",
    "perimeter = 2 * math.pi * radius\n",
    "area = math.pi * radius * radius \n",
    "print('周长：%.2f'% perimeter)\n",
    "print('面积：%.2f'% area)\n",
    "\n"
   ]
  },
  {
   "cell_type": "code",
   "execution_count": 1,
   "metadata": {},
   "outputs": [
    {
     "name": "stdout",
     "output_type": "stream",
     "text": [
      "请输入年份：2000\n",
      "True\n"
     ]
    }
   ],
   "source": [
    "year = int(input('请输入年份：'))\n",
    "is_leap = (year % 4 == 0 and year % 100 !=0 or year % 400 == 0)\n",
    "print(is_leap)"
   ]
  },
  {
   "cell_type": "code",
   "execution_count": 4,
   "metadata": {},
   "outputs": [
    {
     "name": "stdout",
     "output_type": "stream",
     "text": [
      "a=  9.6\n",
      "flag1 =  True\n",
      "flag2 =  False\n",
      "flag3 =  False\n",
      "flag4 =  True\n",
      "flag5 =  False\n",
      "True\n",
      "False\n"
     ]
    }
   ],
   "source": [
    "a = 5\n",
    "b = 10 \n",
    "c = 3\n",
    "d = 4\n",
    "e = 5\n",
    "a += b\n",
    "a -= c\n",
    "a *= d\n",
    "a /= e\n",
    "print(\"a= \",a)\n",
    "flag1 = 3 > 2\n",
    "flag2 = 2 < 1\n",
    "flag3 = flag1 and flag2\n",
    "flag4 = flag1 or flag2\n",
    "flag5 = not flag1\n",
    "print(\"flag1 = \",flag1)\n",
    "print(\"flag2 = \",flag2)\n",
    "print(\"flag3 = \",flag3)\n",
    "print(\"flag4 = \",flag4)\n",
    "print(\"flag5 = \",flag5)\n",
    "print(flag1 is True)\n",
    "print(flag2 is not False)\n"
   ]
  },
  {
   "cell_type": "code",
   "execution_count": 8,
   "metadata": {},
   "outputs": [
    {
     "name": "stdout",
     "output_type": "stream",
     "text": [
      "字符串的长度是: 13\n",
      "单词首字母大写:  Hello, World!\n",
      "字符串变大写:  HELLO, WORLD!\n",
      "字符串是不是大写:  False\n",
      "字符串是不是以hello开头:  True\n",
      "字符串是不是以hello结尾:  False\n",
      "字符串是不是以感叹号开头:  False\n",
      "字符串是不是一感叹号结尾:  True\n",
      "Hello, World! - 骆昊\n"
     ]
    }
   ],
   "source": [
    "str1 = 'hello, world!'\n",
    "print('字符串的长度是:', len(str1))\n",
    "print('单词首字母大写: ', str1.title())\n",
    "print('字符串变大写: ', str1.upper())\n",
    "# str1 = str1.upper()\n",
    "print('字符串是不是大写: ', str1.isupper())\n",
    "print('字符串是不是以hello开头: ', str1.startswith('hello'))\n",
    "print('字符串是不是以hello结尾: ', str1.endswith('hello'))\n",
    "print('字符串是不是以感叹号开头: ', str1.startswith('!'))\n",
    "print('字符串是不是一感叹号结尾: ', str1.endswith('!'))\n",
    "str2 = '- \\u9a86\\u660a'\n",
    "str3 = str1.title() + ' ' + str2.lower()\n",
    "print(str3)\n"
   ]
  },
  {
   "cell_type": "code",
   "execution_count": 11,
   "metadata": {},
   "outputs": [
    {
     "name": "stdout",
     "output_type": "stream",
     "text": [
      "444\n",
      "198\n",
      "39483\n",
      "2.6097560975609757\n",
      "2\n",
      "75\n",
      "199580904170858944588683464608694075062943107082809027605498347841561605181074274426665986623764972439807786764739130193391688887305693295698132008415537889753720415793877902074665765736230030622222862498385818118244547668141388643750880896837470534556730014314212951333550122949806119583030226121714710874561\n"
     ]
    }
   ],
   "source": [
    "a = 321\n",
    "b = 123\n",
    "print(a + b)\n",
    "print(a - b)\n",
    "print(a * b)\n",
    "print(a / b)\n",
    "print(a // b)\n",
    "print(a % b)\n",
    "print(a ** b)"
   ]
  },
  {
   "cell_type": "code",
   "execution_count": 12,
   "metadata": {},
   "outputs": [
    {
     "name": "stdout",
     "output_type": "stream",
     "text": [
      "a = 123\n",
      "b = 321\n",
      "444\n",
      "-198\n",
      "39483\n",
      "0.38317757009345793\n",
      "0\n",
      "123\n",
      "72367033806371673149109894141163778628811792657571658906010558390395870363798401744095280686155507736404921657070284961721828960592977909542637098897697223102622628566787654091327825453991595140205701412961364188732408936197890553699715836951569999800431957769217006743321026257517932764164662319487914962533302741368207211189494615326552790667720411285474162636765168907211924134973374304496019635376665858559941735703924836467756917247995469583487467791524582153744522107597865277798136080074161485280424274076931083994487111719562249702540362855712911132265966235754355353516703339043001506118520760359577737869472018617942120590873170710805078696371738906375721785723\n"
     ]
    }
   ],
   "source": [
    "a = int(input('a = '))\n",
    "b = int(input('b = '))\n",
    "print(a + b)\n",
    "print(a - b)\n",
    "print(a * b)\n",
    "print(a / b)\n",
    "print(a // b)\n",
    "print(a % b)\n",
    "print(a ** b)"
   ]
  },
  {
   "cell_type": "code",
   "execution_count": 14,
   "metadata": {},
   "outputs": [
    {
     "name": "stdout",
     "output_type": "stream",
     "text": [
      "a = 321\n",
      "b = 123\n",
      "321 + 123 = 444\n",
      "321 - 123 = 198\n",
      "321 * 123 = 39483\n",
      "321 / 123 = 2.609756\n",
      "321 // 123 = 2\n",
      "321 % 123 = 75\n",
      "321 ** 123 = 199580904170858944588683464608694075062943107082809027605498347841561605181074274426665986623764972439807786764739130193391688887305693295698132008415537889753720415793877902074665765736230030622222862498385818118244547668141388643750880896837470534556730014314212951333550122949806119583030226121714710874561\n"
     ]
    }
   ],
   "source": [
    "a = int(input('a = '))\n",
    "b = int(input('b = '))\n",
    "print('%d + %d = %d' % (a, b, a + b))\n",
    "print('%d - %d = %d' % (a, b, a - b))\n",
    "print('%d * %d = %d' % (a, b, a * b))\n",
    "print('%d / %d = %f' % (a, b, a / b))\n",
    "print('%d // %d = %d' % (a, b, a // b))\n",
    "print('%d %% %d = %d' % (a, b, a % b))\n",
    "print('%d ** %d = %d' % (a, b, a ** b))\n"
   ]
  },
  {
   "cell_type": "code",
   "execution_count": 15,
   "metadata": {},
   "outputs": [
    {
     "name": "stdout",
     "output_type": "stream",
     "text": [
      "<class 'int'>\n",
      "<class 'int'>\n",
      "<class 'float'>\n",
      "<class 'complex'>\n",
      "<class 'str'>\n",
      "<class 'str'>\n",
      "<class 'bool'>\n"
     ]
    }
   ],
   "source": [
    "a = 100\n",
    "b = 1000000000000000000\n",
    "c = 12.345\n",
    "d = 1 + 5j\n",
    "e = 'A'\n",
    "f = 'hello, world'\n",
    "g = True\n",
    "print(type(a))\n",
    "print(type(b))\n",
    "print(type(c))\n",
    "print(type(d))\n",
    "print(type(e))\n",
    "print(type(f))\n",
    "print(type(g))"
   ]
  },
  {
   "cell_type": "code",
   "execution_count": 16,
   "metadata": {},
   "outputs": [
    {
     "name": "stdout",
     "output_type": "stream",
     "text": [
      "100\n",
      "<class 'int'>\n",
      "100\n",
      "<class 'str'>\n",
      "12.345\n",
      "<class 'float'>\n",
      "12.345\n",
      "<class 'str'>\n",
      "123\n",
      "<class 'str'>\n",
      "123\n",
      "<class 'int'>\n",
      "123.456\n",
      "<class 'str'>\n",
      "123.456\n",
      "<class 'float'>\n",
      "False\n",
      "<class 'bool'>\n",
      "False\n",
      "<class 'str'>\n",
      "hello\n",
      "<class 'str'>\n",
      "True\n",
      "<class 'bool'>\n"
     ]
    }
   ],
   "source": [
    "a = 100\n",
    "b = str(a)\n",
    "c = 12.345\n",
    "d = str(c)\n",
    "e = '123'\n",
    "f = int(e)\n",
    "g = '123.456'\n",
    "h = float(g)\n",
    "i = False\n",
    "j = str(i)\n",
    "k = 'hello'\n",
    "m = bool(k)\n",
    "print(a)\n",
    "print(type(a))\n",
    "print(b)\n",
    "print(type(b))\n",
    "print(c)\n",
    "print(type(c))\n",
    "print(d)\n",
    "print(type(d))\n",
    "print(e)\n",
    "print(type(e))\n",
    "print(f)\n",
    "print(type(f))\n",
    "print(g)\n",
    "print(type(g))\n",
    "print(h)\n",
    "print(type(h))\n",
    "print(i)\n",
    "print(type(i))\n",
    "print(j)\n",
    "print(type(j))\n",
    "print(k)\n",
    "print(type(k))\n",
    "print(m)\n",
    "print(type(m))"
   ]
  },
  {
   "cell_type": "code",
   "execution_count": null,
   "metadata": {},
   "outputs": [],
   "source": []
  }
 ],
 "metadata": {
  "kernelspec": {
   "display_name": "Python 3",
   "language": "python",
   "name": "python3"
  },
  "language_info": {
   "codemirror_mode": {
    "name": "ipython",
    "version": 3
   },
   "file_extension": ".py",
   "mimetype": "text/x-python",
   "name": "python",
   "nbconvert_exporter": "python",
   "pygments_lexer": "ipython3",
   "version": "3.6.4"
  }
 },
 "nbformat": 4,
 "nbformat_minor": 2
}
