{
 "cells": [
  {
   "cell_type": "markdown",
   "metadata": {},
   "source": [
    "Python语言进阶"
   ]
  },
  {
   "cell_type": "code",
   "execution_count": 9,
   "metadata": {},
   "outputs": [
    {
     "data": {
      "image/png": "[encoded data removed]",
      "text/plain": [
       "<Figure size 432x288 with 1 Axes>"
      ]
     },
     "metadata": {
      "needs_background": "light"
     },
     "output_type": "display_data"
    }
   ],
   "source": [
    "\"\"\"\n",
    "查找 - 顺序查找和二分查找\n",
    "算法：解决问题的方法（步骤）\n",
    "评价一个算法的好坏主要指标：渐进时间复杂度和空间复杂度，通常一个算法很难到时间复杂度和空间复杂度都很低（因为时间和空间是不可调和 的矛盾）\n",
    "表示渐进时间复杂度通常用大o标记\n",
    "o(c):常量时间复杂度 - 哈希存储/布隆过滤器\n",
    "o(log_2 n)：对数时间复杂度 - 折半查找\n",
    "o(n)：线性时间复杂度 - 顺序查找\n",
    "o(n * log_2 n)：对数线性时间复杂度 - 高级排序算法(归并算法，快速排序)\n",
    "o(n ** 2)：平方时间复杂度 - 简单排序算法(冒泡排序。选择排序。插入排序 )\n",
    "o(n ** 3): 立方时间复杂度 - Floyd算法 / 矩阵乘法运算\n",
    "也称为多项式时间复杂度\n",
    "o(2 ** n):几何级数时间复杂度 - 汉诺塔\n",
    "o(3 ** n)：几何级数时间复杂度\n",
    "也称为指数时间复杂度\n",
    "o(n!)：阶乘时间复杂度  \n",
    "\"\"\"\n",
    "from  math import log2,factorial\n",
    "from matplotlib import pyplot\n",
    "\n",
    "import numpy\n",
    "\n",
    "def seq_searth(items:list,elem) -> int:\n",
    "    \"\"\"顺序查找\"\"\"\n",
    "    start,end = 0,len(items) - 1\n",
    "    while start <= end:\n",
    "        mid = (start + end)// 2\n",
    "        if elem > items[mid]:\n",
    "            start = mid + 1\n",
    "        elif elem < items[mid]:\n",
    "            end = mid - 1\n",
    "        else :\n",
    "            return mid\n",
    "    return -1\n",
    "\n",
    "\n",
    "def main():\n",
    "    \"\"\"主函数(程序入口)\"\"\"\n",
    "    num = 6\n",
    "    styles = ['r-.','g-*','b-o','y-x','c-^','m-+','k-d']\n",
    "    \n",
    "    legends = ['对数', '线性', '线性对数', '平方', '立方', '几何级数', '阶乘']\n",
    "    x_data = [x for x in range(1, num + 1)]\n",
    "    y_data1 = [log2(y) for y in range(1,num + 1)]\n",
    "    y_data2 = [y for y in range(1,num + 1)]\n",
    "    y_data3 = [y * log2(y) for y in range(1,num + 1)]\n",
    "    y_data4 = [y ** 2 for y in range(1,num + 1)]\n",
    "    y_data5 = [y ** 3 for y in range(1,num + 1)]\n",
    "    y_data6 = [3 ** y for y in range(1,num + 1)]\n",
    "    y_data7 = [factorial(y) for y in range(1,num + 1) ]\n",
    "    y_datas = [y_data1,y_data2,y_data3,y_data4,y_data5,y_data6,y_data7]\n",
    "    for index, y_data in enumerate(y_datas):\n",
    "   \n",
    "        pyplot.plot(x_data,y_data,styles[index])\n",
    "    pyplot.legend(legends)\n",
    "    pyplot.xticks(numpy.arange(1,7,step=1))\n",
    "    pyplot.yticks(numpy.arange(0,751,step=50))\n",
    "    pyplot.show()\n",
    "    \n",
    "    \n",
    "if __name__ =='__main__':\n",
    "    main()"
   ]
  },
  {
   "cell_type": "code",
   "execution_count": 2,
   "metadata": {},
   "outputs": [
    {
     "data": {
      "text/plain": [
       "<Figure size 640x480 with 1 Axes>"
      ]
     },
     "metadata": {},
     "output_type": "display_data"
    }
   ],
   "source": [
    "\"\"\"\n",
    "查找 - 顺序查找和二分查找\n",
    "算法：解决问题的方法（步骤）\n",
    "评价一个算法的好坏主要有两个指标：渐近时间复杂度和渐近空间复杂度，通常一个算法很难做到时间复杂度和空间复杂度都很低（因为时间和空间是不可调和的矛盾）\n",
    "表示渐近时间复杂度通常使用大O标记\n",
    "O(c)：常量时间复杂度 - 哈希存储 / 布隆过滤器\n",
    "O(log_2 n)：对数时间复杂度 - 折半查找\n",
    "O(n)：线性时间复杂度 - 顺序查找\n",
    "O(n * log_2 n)：- 对数线性时间复杂度 - 高级排序算法（归并排序、快速排序）\n",
    "O(n ** 2)：平方时间复杂度 - 简单排序算法（冒泡排序、选择排序、插入排序）\n",
    "O(n ** 3)：立方时间复杂度 - Floyd算法 / 矩阵乘法运算\n",
    "也称为多项式时间复杂度\n",
    "O(2 ** n)：几何级数时间复杂度 - 汉诺塔\n",
    "O(3 ** n)：几何级数时间复杂度\n",
    "也称为指数时间复杂度\n",
    "O(n!)：阶乘时间复杂度 - 旅行经销商问题 - NP\n",
    "\"\"\"\n",
    "from math import log2, factorial\n",
    "from matplotlib import pyplot\n",
    "\n",
    "import numpy\n",
    "\n",
    "\n",
    "def seq_search(items: list, elem) -> int:\n",
    "    \"\"\"顺序查找\"\"\"\n",
    "    for index, item in enumerate(items):\n",
    "        if elem == item:\n",
    "            return index\n",
    "    return -1\n",
    "\n",
    "\n",
    "def bin_search(items, elem):\n",
    "    \"\"\"二分查找\"\"\"\n",
    "    start, end = 0, len(items) - 1\n",
    "    while start <= end:\n",
    "        mid = (start + end) // 2\n",
    "        if elem > items[mid]:\n",
    "            start = mid + 1\n",
    "        elif elem < items[mid]:\n",
    "            end = mid - 1\n",
    "        else:\n",
    "            return mid\n",
    "    return -1\n",
    "\n",
    "\n",
    "def main():\n",
    "    \"\"\"主函数（程序入口）\"\"\"\n",
    "    num = 6\n",
    "    styles = ['r-.', 'g-*', 'b-o', 'y-x', 'c-^', 'm-+', 'k-d']\n",
    "    legends = ['对数', '线性', '线性对数', '平方', '立方', '几何级数', '阶乘']\n",
    "    x_data = [x for x in range(1, num + 1)]\n",
    "    y_data1 = [log2(y) for y in range(1, num + 1)]\n",
    "    y_data2 = [y for y in range(1, num + 1)]\n",
    "    y_data3 = [y * log2(y) for y in range(1, num + 1)]\n",
    "    y_data4 = [y ** 2 for y in range(1, num + 1)]\n",
    "    y_data5 = [y ** 3 for y in range(1, num + 1)]\n",
    "    y_data6 = [3 ** y for y in range(1, num + 1)]\n",
    "    y_data7 = [factorial(y) for y in range(1, num + 1)]\n",
    "    y_datas = [y_data1, y_data2, y_data3, y_data4, y_data5, y_data6, y_data7]\n",
    "    for index, y_data in enumerate(y_datas):\n",
    "        pyplot.plot(x_data, y_data, styles[index])\n",
    "    pyplot.legend(legends)\n",
    "    pyplot.xticks(numpy.arange(1, 7, step=1))\n",
    "    pyplot.yticks(numpy.arange(0, 751, step=50))\n",
    "    pyplot.show()\n",
    "\n",
    "\n",
    "if __name__ == '__main__':\n",
    "    main()"
   ]
  },
  {
   "cell_type": "code",
   "execution_count": null,
   "metadata": {},
   "outputs": [],
   "source": []
  }
 ],
 "metadata": {
  "kernelspec": {
   "display_name": "Python 3",
   "language": "python",
   "name": "python3"
  },
  "language_info": {
   "codemirror_mode": {
    "name": "ipython",
    "version": 3
   },
   "file_extension": ".py",
   "mimetype": "text/x-python",
   "name": "python",
   "nbconvert_exporter": "python",
   "pygments_lexer": "ipython3",
   "version": "3.7.3"
  }
 },
 "nbformat": 4,
 "nbformat_minor": 2
}
