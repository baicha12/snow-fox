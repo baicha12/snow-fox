{
 "cells": [
  {
   "cell_type": "markdown",
   "metadata": {},
   "source": [
    "# 进程和线程"
   ]
  },
  {
   "cell_type": "markdown",
   "metadata": {},
   "source": [
    "今天我们使用的计算机进入多CPU或多核时代，而我们的操作系统支持多任务。\n",
    "\n",
    "进程：就是操作系统中执行的一个程序，操作系统以进程为单位分配存储空间，每个进程都有自己的地址空间，数据栈以及其他用于跟踪进程执行的辅助数据。一个进程还可以拥有多个并发的执行线索，简单说就是拥有多个可以获得cpu调度的执行单元。\n",
    "\n",
    "线程：执行单元。。。在某个时刻能够获得CPU的只有唯一的一个线程，多个线程共享了CPU的执行时间\n",
    "\n",
    "例子： 在停车场，两辆汽车去停在一个车位，就是并行，两辆车停两个车位，就是并发。"
   ]
  },
  {
   "cell_type": "code",
   "execution_count": 1,
   "metadata": {},
   "outputs": [
    {
     "name": "stdout",
     "output_type": "stream",
     "text": [
      "开始下载Python从入门到住院.pdf...\n",
      "Python从入门到住院.pdf下载完成! 耗费了7秒\n",
      "开始下载Peking Hot.avi...\n",
      "Peking Hot.avi下载完成! 耗费了5秒\n",
      "总共耗费了12.01秒.\n"
     ]
    }
   ],
   "source": [
    "from random import randint\n",
    "from time import time, sleep\n",
    "\n",
    "\n",
    "def download_task(filename):\n",
    "    print('开始下载%s...' % filename)\n",
    "    time_to_download = randint(5, 10)\n",
    "    sleep(time_to_download)\n",
    "    print('%s下载完成! 耗费了%d秒' % (filename, time_to_download))\n",
    "\n",
    "\n",
    "def main():\n",
    "    start = time()\n",
    "    download_task('Python从入门到住院.pdf')\n",
    "    download_task('Peking Hot.avi')\n",
    "    end = time()\n",
    "    print('总共耗费了%.2f秒.' % (end - start))\n",
    "\n",
    "\n",
    "if __name__ == '__main__':\n",
    "    main()"
   ]
  },
  {
   "cell_type": "code",
   "execution_count": 3,
   "metadata": {},
   "outputs": [
    {
     "name": "stdout",
     "output_type": "stream",
     "text": [
      "总共耗费了0.40秒.\n"
     ]
    }
   ],
   "source": [
    "from multiprocessing import Process\n",
    "from os import getpid\n",
    "from random import randint\n",
    "from time import time, sleep\n",
    "\n",
    "\n",
    "def download_task(filename):\n",
    "    print('启动下载进程，进程号[%d].' % getpid())\n",
    "    print('开始下载%s...' % filename)\n",
    "    time_to_download = randint(5, 10)\n",
    "    sleep(time_to_download)\n",
    "    print('%s下载完成! 耗费了%d秒' % (filename, time_to_download))\n",
    "\n",
    "\n",
    "def main():\n",
    "    start = time()\n",
    "    p1 = Process(target=download_task, args=('Python从入门到住院.pdf', ))\n",
    "    p1.start()\n",
    "    p2 = Process(target=download_task, args=('Peking Hot.avi', ))\n",
    "    p2.start()\n",
    "    p1.join()\n",
    "    p2.join()\n",
    "    end = time()\n",
    "    print('总共耗费了%.2f秒.' % (end - start))\n",
    "\n",
    "\n",
    "if __name__ == '__main__':\n",
    "    main()"
   ]
  },
  {
   "cell_type": "markdown",
   "metadata": {},
   "source": [
    "# 装饰器"
   ]
  },
  {
   "cell_type": "code",
   "execution_count": 4,
   "metadata": {},
   "outputs": [],
   "source": [
    "def deco(func):\n",
    "    def wrap(*args,**kwargs):\n",
    "        return func(*args,**kwargs)\n",
    "    return wrap\n",
    "\n",
    "@deco\n",
    "def foo(a,b):\n",
    "    return a ** b"
   ]
  },
  {
   "cell_type": "code",
   "execution_count": null,
   "metadata": {},
   "outputs": [],
   "source": [
    "def deco(n):    \n",
    "    def wrap1(func):        \n",
    "        def wrap2(*args, **kwargs):            \n",
    "            return func(*args, **kwargs)        \n",
    "        return wrap2    \n",
    "    return wrap1\n",
    "\n",
    "# 调用过程\n",
    "wrap1 = deco()\n",
    "wrap2 = wrap1(foo)\n",
    "foo = wrap2\n",
    "foo()\n",
    "\n",
    "# 单行形式\n",
    "check_result(30)(foo)(4,8)"
   ]
  },
  {
   "cell_type": "code",
   "execution_count": 9,
   "metadata": {},
   "outputs": [
    {
     "name": "stdout",
     "output_type": "stream",
     "text": [
      "验证码是：4538\n",
      ">>4538\n",
      "验证密码正确\n"
     ]
    }
   ],
   "source": [
    "import random\n",
    "def deco2(parms):\n",
    "    def deco(func):\n",
    "        def warp(*arg,**kwargs):\n",
    "            if parms:\n",
    "                kwargs['n1'] = -1\n",
    "                return func(*args,**kwargs)\n",
    "            return warp\n",
    "        return deco\n",
    "    \n",
    "@deco(True)\n",
    "def A(n1,n2):\n",
    "    if n1 == n2:\n",
    "        print('验证密码正确')\n",
    "    else : \n",
    "        print('验证码错误')\n",
    "        \n",
    "num = random.randrange(1000,9999)\n",
    "print('验证码是：%d'%num)\n",
    "num2 = int(input('>>'))\n",
    "A(n1 = num, n2 = num)"
   ]
  },
  {
   "cell_type": "code",
   "execution_count": 1,
   "metadata": {},
   "outputs": [
    {
     "name": "stdout",
     "output_type": "stream",
     "text": [
      "长为：3\n",
      "宽为：4\n",
      "面积为：12.00\n",
      "周长为：14.00\n"
     ]
    }
   ],
   "source": [
    "class Rectangle(object):\n",
    "    def __init__(self):\n",
    "        pass\n",
    "    def main(self):\n",
    "        width = float(input(\"长为：\"))\n",
    "        heightd = float(input(\"宽为：\"))\n",
    "        self.getArea(width,heightd)\n",
    "        self.getPerimeter(width,heightd)\n",
    "    def getArea(self,width,heightd):\n",
    "        Area = width * heightd\n",
    "        print('面积为：%.2f'%Area)\n",
    "    def getPerimeter(self,width,heightd):\n",
    "        Perimeter = (width + heightd) * 2\n",
    "        print('周长为：%.2f'%Perimeter)\n",
    "if __name__ == '__main__':\n",
    "    rectangle = Rectangle()\n",
    "    rectangle.main()\n"
   ]
  },
  {
   "cell_type": "code",
   "execution_count": 2,
   "metadata": {},
   "outputs": [
    {
     "name": "stdout",
     "output_type": "stream",
     "text": [
      "1档,2档,3档：2\n",
      "半径为: 5.0 颜色: blue\n"
     ]
    }
   ],
   "source": [
    "class Fan(object):\n",
    "    def __init__(self):\n",
    "        pass\n",
    "    def main(self):\n",
    "        speed = int(input(\"1档,2档,3档：\"))\n",
    "        on = bool()\n",
    "        radius1 = float(5)\n",
    "        radius2 = float(10)\n",
    "        color1 = str('blue')\n",
    "        color2 = str('yellow')\n",
    "        self.gongneng(speed,on,radius1,radius2,color1,color2)\n",
    "    def gongneng (self,speed,on,radius1,radius2,color1,color2):\n",
    "        if speed == 1:\n",
    "            print(on)\n",
    "        elif speed == 2:\n",
    "            print('半径为:',radius1,'颜色:',color1)\n",
    "        elif speed == 3:\n",
    "            print('半径为:',radius2,'颜色:',color2)\n",
    "        else:\n",
    "            pass\n",
    "if __name__ == \"__main__\":\n",
    "    fan =Fan()\n",
    "    fan.main()\n"
   ]
  },
  {
   "cell_type": "code",
   "execution_count": null,
   "metadata": {},
   "outputs": [],
   "source": []
  }
 ],
 "metadata": {
  "kernelspec": {
   "display_name": "Python 3",
   "language": "python",
   "name": "python3"
  },
  "language_info": {
   "codemirror_mode": {
    "name": "ipython",
    "version": 3
   },
   "file_extension": ".py",
   "mimetype": "text/x-python",
   "name": "python",
   "nbconvert_exporter": "python",
   "pygments_lexer": "ipython3",
   "version": "3.7.3"
  }
 },
 "nbformat": 4,
 "nbformat_minor": 2
}
