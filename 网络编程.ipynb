{
 "cells": [
  {
   "cell_type": "markdown",
   "metadata": {},
   "source": [
    "<?xml version = \"1.0\" encoding=\"gbk\"?>\n",
    "<message>\n",
    "         <from>Alice</from>\n",
    "         <to>Bob</to>\n",
    "         <content>Will you marry me?</content>\n",
    "</message>"
   ]
  },
  {
   "cell_type": "markdown",
   "metadata": {},
   "source": [
    "<?xml version=\"1.0\" encoding=\"UTF-8\"?>\n",
    "<message>\n",
    "\t<from>Alice</from>\n",
    "\t<to>Bob</to>\n",
    "\t<content>Will you marry me?</content>\n",
    "</message>"
   ]
  },
  {
   "cell_type": "markdown",
   "metadata": {},
   "source": [
    "{\n",
    "    \"from\":\"Alice\"\n",
    "    \"to\":\"Bob\",\n",
    "    \"content\":\"Will you marry me?\"\n",
    "}"
   ]
  },
  {
   "cell_type": "code",
   "execution_count": 2,
   "metadata": {},
   "outputs": [
    {
     "ename": "KeyError",
     "evalue": "'newslist'",
     "output_type": "error",
     "traceback": [
      "\u001b[1;31m---------------------------------------------------------------------------\u001b[0m",
      "\u001b[1;31mKeyError\u001b[0m                                  Traceback (most recent call last)",
      "\u001b[1;32m<ipython-input-2-83201ef6ec70>\u001b[0m in \u001b[0;36m<module>\u001b[1;34m\u001b[0m\n\u001b[0;32m     32\u001b[0m \u001b[1;33m\u001b[0m\u001b[0m\n\u001b[0;32m     33\u001b[0m \u001b[1;32mif\u001b[0m \u001b[0m__name__\u001b[0m \u001b[1;33m==\u001b[0m \u001b[1;34m'__main__'\u001b[0m\u001b[1;33m:\u001b[0m\u001b[1;33m\u001b[0m\u001b[1;33m\u001b[0m\u001b[0m\n\u001b[1;32m---> 34\u001b[1;33m     \u001b[0mmain\u001b[0m\u001b[1;33m(\u001b[0m\u001b[1;33m)\u001b[0m\u001b[1;33m\u001b[0m\u001b[1;33m\u001b[0m\u001b[0m\n\u001b[0m",
      "\u001b[1;32m<ipython-input-2-83201ef6ec70>\u001b[0m in \u001b[0;36mmain\u001b[1;34m()\u001b[0m\n\u001b[0;32m     25\u001b[0m     \u001b[1;31m#将服务器返回的JSD格式的数据解析为字典\u001b[0m\u001b[1;33m\u001b[0m\u001b[1;33m\u001b[0m\u001b[1;33m\u001b[0m\u001b[0m\n\u001b[0;32m     26\u001b[0m     \u001b[0mdata_model\u001b[0m \u001b[1;33m=\u001b[0m \u001b[0mresp\u001b[0m\u001b[1;33m.\u001b[0m\u001b[0mjson\u001b[0m\u001b[1;33m(\u001b[0m\u001b[1;33m)\u001b[0m\u001b[1;33m\u001b[0m\u001b[1;33m\u001b[0m\u001b[0m\n\u001b[1;32m---> 27\u001b[1;33m     \u001b[1;32mfor\u001b[0m \u001b[0mmm_dict\u001b[0m \u001b[1;32min\u001b[0m \u001b[0mdata_model\u001b[0m\u001b[1;33m[\u001b[0m\u001b[1;34m'newslist'\u001b[0m\u001b[1;33m]\u001b[0m\u001b[1;33m:\u001b[0m\u001b[1;33m\u001b[0m\u001b[1;33m\u001b[0m\u001b[0m\n\u001b[0m\u001b[0;32m     28\u001b[0m         \u001b[0murl\u001b[0m \u001b[1;33m=\u001b[0m \u001b[0mmm_dict\u001b[0m\u001b[1;33m[\u001b[0m\u001b[1;34m'picUrl'\u001b[0m\u001b[1;33m]\u001b[0m\u001b[1;33m\u001b[0m\u001b[1;33m\u001b[0m\u001b[0m\n\u001b[0;32m     29\u001b[0m         \u001b[1;31m# 通过多线程的方式实现图片下载\u001b[0m\u001b[1;33m\u001b[0m\u001b[1;33m\u001b[0m\u001b[1;33m\u001b[0m\u001b[0m\n",
      "\u001b[1;31mKeyError\u001b[0m: 'newslist'"
     ]
    }
   ],
   "source": [
    "from time import time\n",
    "from threading import Thread\n",
    "\n",
    "import requests\n",
    "\n",
    "#继承Thread类创建的自定义的线程类\n",
    "class DownloadHanlder(Thread):\n",
    "    \n",
    "    def __init__(self,url):\n",
    "        super().__init__()\n",
    "        self.url = url\n",
    "        \n",
    "    def run(self):\n",
    "        filename = self.url[self.url.rfind('/') + 1:]\n",
    "        resp = requests.get(self.url)\n",
    "        with open('/Users/Hao/' + filename, 'wb') as f:\n",
    "            f.write(resp.content)\n",
    "            \n",
    "def main():\n",
    "    #通过requests模块的get函数获取网络资源\n",
    "    #下面的代码中使用了天行数据接口提供的网络API\n",
    "    #要使用该数据接口需要在天行数据的网站上注册\n",
    "    #然后将自己的key替换下面代码中的APIkey即可\n",
    "    resp = requests.get('http://api.tianapi.com/meinv/?key=APIKey&num=10')\n",
    "    #将服务器返回的JSD格式的数据解析为字典\n",
    "    data_model = resp.json()\n",
    "    for mm_dict in data_model['newslist']:\n",
    "        url = mm_dict['picUrl']\n",
    "        # 通过多线程的方式实现图片下载\n",
    "        DownloadHanlder(url).start()\n",
    "\n",
    "\n",
    "if __name__ == '__main__':\n",
    "    main()"
   ]
  },
  {
   "cell_type": "code",
   "execution_count": null,
   "metadata": {},
   "outputs": [],
   "source": []
  }
 ],
 "metadata": {
  "kernelspec": {
   "display_name": "Python 3",
   "language": "python",
   "name": "python3"
  },
  "language_info": {
   "codemirror_mode": {
    "name": "ipython",
    "version": 3
   },
   "file_extension": ".py",
   "mimetype": "text/x-python",
   "name": "python",
   "nbconvert_exporter": "python",
   "pygments_lexer": "ipython3",
   "version": "3.7.3"
  }
 },
 "nbformat": 4,
 "nbformat_minor": 2
}
