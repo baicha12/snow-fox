{
 "cells": [
  {
   "cell_type": "markdown",
   "metadata": {},
   "source": [
    "# 字符串和常用数据结构"
   ]
  },
  {
   "cell_type": "markdown",
   "metadata": {},
   "source": [
    "字符串：就是由零个或多个字符组成的有限序列"
   ]
  },
  {
   "cell_type": "code",
   "execution_count": 1,
   "metadata": {},
   "outputs": [
    {
     "name": "stdout",
     "output_type": "stream",
     "text": [
      "12\n",
      "Hello,world!\n",
      "HELLO,WORLD!\n",
      "7\n",
      "-1\n",
      "False\n",
      "True\n",
      "True\n",
      "*******************hello,world!*******************\n",
      "                                      hello,world!\n",
      "c\n",
      "c12\n",
      "c123456\n",
      "c246\n",
      "ac246\n",
      "654321cba\n",
      "45\n",
      "False\n",
      "False\n",
      "True\n",
      "  jackfrued@126.com \n",
      "jackfrued@126.com\n",
      "jackfrued@126.com \n",
      "  jackfrued@126.com\n"
     ]
    }
   ],
   "source": [
    "def main():\n",
    "    str1 = 'hello,world!'\n",
    "    ####通过len函数计算字符串的长度\n",
    "    print(len(str1)) # 12\n",
    "    ####获得字符串首字母大写的拷贝\n",
    "    print(str1.capitalize())\n",
    "    ####获得字符串变大写后的拷贝\n",
    "    print(str1.upper())\n",
    "    ####从字符串中查找字串所在位置\n",
    "    print(str1.find('or'))\n",
    "    print(str1.find('shit'))\n",
    "    ####检查字符串是以指定的字符串结尾\n",
    "    print(str1.startswith('He'))\n",
    "    print(str1.startswith('hel'))\n",
    "    ####检查字符串是否以指定的字符串结尾\n",
    "    print(str1.endswith('!'))\n",
    "    # 将字符串以指定的宽度居中并在两侧填充指定的字符\n",
    "    print(str1.center(50, '*'))\n",
    "    # 将字符串以指定的宽度靠右放置左侧填充指定的字符\n",
    "    print(str1.rjust(50, ' '))\n",
    "    str2 = 'abc123456'\n",
    "    # 从字符串中取出指定位置的字符(下标运算)\n",
    "    print(str2[2])  # c\n",
    "    # 字符串切片(从指定的开始索引到指定的结束索引)\n",
    "    print(str2[2:5])  # c12\n",
    "    print(str2[2:])  # c123456\n",
    "    print(str2[2::2])  # c246\n",
    "    print(str2[::2])  # ac246\n",
    "    print(str2[::-1])  # 654321cba\n",
    "    print(str2[-3:-1])  # 45\n",
    "    # 检查字符串是否由数字构成\n",
    "    print(str2.isdigit())  # False\n",
    "    # 检查字符串是否以字母构成\n",
    "    print(str2.isalpha())  # False\n",
    "    # 检查字符串是否以数字和字母构成\n",
    "    print(str2.isalnum())  # True\n",
    "    str3 = '  jackfrued@126.com '\n",
    "    print(str3)\n",
    "    # 获得字符串修剪左右两侧空格的拷贝\n",
    "    print(str3.strip())\n",
    "    print(str3.lstrip())\n",
    "    print(str3.rstrip())\n",
    "\n",
    "\n",
    "    \n",
    "main()"
   ]
  },
  {
   "cell_type": "markdown",
   "metadata": {},
   "source": [
    "# 列表"
   ]
  },
  {
   "cell_type": "code",
   "execution_count": 2,
   "metadata": {},
   "outputs": [
    {
     "name": "stdout",
     "output_type": "stream",
     "text": [
      "[1, 3, 5, 7, 100]\n",
      "['hello', 'hello', 'hello', 'hello', 'hello']\n",
      "5\n",
      "1\n",
      "100\n",
      "100\n",
      "5\n",
      "[1, 3, 300, 7, 100]\n",
      "[1, 400, 3, 300, 7, 100, 200, 1000, 2000]\n",
      "9\n",
      "[400, 300, 7, 100, 200, 1000, 2000]\n",
      "[]\n"
     ]
    }
   ],
   "source": [
    "def main():\n",
    "    list1 = [1, 3, 5, 7, 100]\n",
    "    print(list1)\n",
    "    list2 = ['hello'] * 5\n",
    "    print(list2)\n",
    "    # 计算列表长度(元素个数)\n",
    "    print(len(list1))\n",
    "    # 下标(索引)运算\n",
    "    print(list1[0])\n",
    "    print(list1[4])\n",
    "    # print(list1[5])  # IndexError: list index out of range\n",
    "    print(list1[-1])\n",
    "    print(list1[-3])\n",
    "    list1[2] = 300\n",
    "    print(list1)\n",
    "    # 添加元素\n",
    "    list1.append(200)\n",
    "    list1.insert(1, 400)\n",
    "    list1 += [1000, 2000]\n",
    "    print(list1)\n",
    "    print(len(list1))\n",
    "    # 删除元素\n",
    "    list1.remove(3)\n",
    "    if 1234 in list1:\n",
    "        list1.remove(1234)\n",
    "    del list1[0]\n",
    "    print(list1)\n",
    "    # 清空列表元素\n",
    "    list1.clear()\n",
    "    print(list1)\n",
    "\n",
    "\n",
    "if __name__ == '__main__':\n",
    "    main()"
   ]
  },
  {
   "cell_type": "markdown",
   "metadata": {},
   "source": [
    "# 元组"
   ]
  },
  {
   "cell_type": "code",
   "execution_count": 3,
   "metadata": {},
   "outputs": [
    {
     "name": "stdout",
     "output_type": "stream",
     "text": [
      "('骆昊', 38, True, '四川成都')\n",
      "骆昊\n",
      "四川成都\n",
      "骆昊\n",
      "38\n",
      "True\n",
      "四川成都\n",
      "('王大锤', 20, True, '云南昆明')\n",
      "['王大锤', 20, True, '云南昆明']\n",
      "['李小龙', 25, True, '云南昆明']\n",
      "('apple', 'banana', 'orange')\n"
     ]
    }
   ],
   "source": [
    "def main():\n",
    "    # 定义元组\n",
    "    \n",
    "    t = ('骆昊', 38, True, '四川成都')\n",
    "    print(t)\n",
    "    # 获取元组中的元素\n",
    "    print(t[0])\n",
    "    print(t[3])\n",
    "    # 遍历元组中的值\n",
    "    for member in t:\n",
    "        print(member)\n",
    "    # 重新给元组赋值\n",
    "    # t[0] = '王大锤'  # TypeError\n",
    "    # 变量t重新引用了新的元组原来的元组将被垃圾回收\n",
    "    t = ('王大锤', 20, True, '云南昆明')\n",
    "    print(t)\n",
    "    # 将元组转换成列表\n",
    "    person = list(t)\n",
    "    print(person)\n",
    "    # 列表是可以修改它的元素的\n",
    "    person[0] = '李小龙'\n",
    "    person[1] = 25\n",
    "    print(person)\n",
    "    # 将列表转换成元组\n",
    "    fruits_list = ['apple', 'banana', 'orange']\n",
    "    fruits_tuple = tuple(fruits_list)\n",
    "    print(fruits_tuple)\n",
    "\n",
    "\n",
    "if __name__ == '__main__':\n",
    "    main()"
   ]
  },
  {
   "cell_type": "markdown",
   "metadata": {},
   "source": [
    "# 集合"
   ]
  },
  {
   "cell_type": "code",
   "execution_count": 4,
   "metadata": {},
   "outputs": [
    {
     "name": "stdout",
     "output_type": "stream",
     "text": [
      "{1, 2, 3}\n",
      "Length = 3\n",
      "{1, 2, 3, 4, 5, 6, 7, 8, 9}\n",
      "{1, 2, 3, 4, 5}\n",
      "{1, 2, 3, 4, 5, 6, 7, 8, 9, 11, 12}\n",
      "{1, 2, 3, 6, 7, 8, 9, 11, 12}\n",
      "1 4 9 36 49 64 81 121 144 \n",
      "1\n",
      "{2, 3}\n",
      "{1, 2, 3}\n",
      "{1, 2, 3, 4, 5, 6, 7, 8, 9, 11, 12}\n",
      "{4, 5}\n",
      "{4, 5, 6, 7, 8, 9, 11, 12}\n",
      "False\n",
      "True\n",
      "False\n",
      "True\n"
     ]
    }
   ],
   "source": [
    "def main():\n",
    "    set1 = {1, 2, 3, 3, 3, 2}\n",
    "    print(set1)\n",
    "    print('Length =', len(set1))\n",
    "    set2 = set(range(1, 10))\n",
    "    print(set2)\n",
    "    set1.add(4)\n",
    "    set1.add(5)\n",
    "    set2.update([11, 12])\n",
    "    print(set1)\n",
    "    print(set2)\n",
    "    set2.discard(5)\n",
    "    # remove的元素如果不存在会引发KeyError\n",
    "    if 4 in set2:\n",
    "        set2.remove(4)\n",
    "    print(set2)\n",
    "    # 遍历集合容器\n",
    "    for elem in set2:\n",
    "        print(elem ** 2, end=' ')\n",
    "    print()\n",
    "    # 将元组转换成集合\n",
    "    set3 = set((1, 2, 3, 3, 2, 1))\n",
    "    print(set3.pop())\n",
    "    print(set3)\n",
    "    # 集合的交集、并集、差集、对称差运算\n",
    "    print(set1 & set2)\n",
    "    # print(set1.intersection(set2))\n",
    "    print(set1 | set2)\n",
    "    # print(set1.union(set2))\n",
    "    print(set1 - set2)\n",
    "    # print(set1.difference(set2))\n",
    "    print(set1 ^ set2)\n",
    "    # print(set1.symmetric_difference(set2))\n",
    "    # 判断子集和超集\n",
    "    print(set2 <= set1)\n",
    "    # print(set2.issubset(set1))\n",
    "    print(set3 <= set1)\n",
    "    # print(set3.issubset(set1))\n",
    "    print(set1 >= set2)\n",
    "    # print(set1.issuperset(set2))\n",
    "    print(set1 >= set3)\n",
    "    # print(set1.issuperset(set3))\n",
    "\n",
    "\n",
    "if __name__ == '__main__':\n",
    "    main()"
   ]
  },
  {
   "cell_type": "markdown",
   "metadata": {},
   "source": [
    "# 使用字典"
   ]
  },
  {
   "cell_type": "code",
   "execution_count": 2,
   "metadata": {},
   "outputs": [
    {
     "name": "stdout",
     "output_type": "stream",
     "text": [
      "95\n",
      "82\n",
      "骆昊\t--->\t95\n",
      "白元芳\t--->\t78\n",
      "狄仁杰\t--->\t82\n",
      "{'骆昊': 95, '白元芳': 65, '狄仁杰': 82, '诸葛王朗': 71, '冷面': 67, '方启鹤': 85}\n",
      "None\n",
      "60\n",
      "('方启鹤', 85)\n",
      "('冷面', 67)\n",
      "95\n",
      "{}\n"
     ]
    }
   ],
   "source": [
    "# 字典的一切操作都是通过键名操作键值!!!!!!\n",
    "# 字典是无序的,没有索引操作,除非转换成有序字典,\n",
    "\n",
    "def main():\n",
    "    scores = {'骆昊': 95, '白元芳': 78, '狄仁杰': 82}\n",
    "    # 通过键可以获取字典中对应的值\n",
    "    print(scores['骆昊'])\n",
    "    print(scores['狄仁杰'])\n",
    "    # 对字典进行遍历(遍历的其实是键再通过键取对应的值)\n",
    "    for elem in scores:\n",
    "        print('%s\\t--->\\t%d' % (elem, scores[elem]))\n",
    "    # 更新字典中的元素\n",
    "    scores['白元芳'] = 65\n",
    "    scores['诸葛王朗'] = 71\n",
    "    scores.update(冷面=67, 方启鹤=85)\n",
    "    print(scores)\n",
    "    if '武则天' in scores:\n",
    "        print(scores['武则天'])\n",
    "    print(scores.get('武则天'))\n",
    "    # get方法也是通过键获取对应的值但是可以设置默认值\n",
    "    print(scores.get('武则天', 60))\n",
    "    # 删除字典中的元素\n",
    "    print(scores.popitem())\n",
    "    print(scores.popitem())\n",
    "    print(scores.pop('骆昊', 100))\n",
    "    # 清空字典\n",
    "    scores.clear()\n",
    "    print(scores)\n",
    "\n",
    "\n",
    "if __name__ == '__main__':\n",
    "    main()"
   ]
  },
  {
   "cell_type": "code",
   "execution_count": 4,
   "metadata": {},
   "outputs": [
    {
     "name": "stdout",
     "output_type": "stream",
     "text": [
      "请输入数字：1\n",
      "请输入数字：2\n",
      "请输入数字：-1\n",
      "请输入数字：0\n",
      "2.000000和0.666667均值\n"
     ]
    }
   ],
   "source": [
    "def first():\n",
    "    sum_ = 0\n",
    "    errorsum_ = 0\n",
    "    number1 = 0\n",
    "    number2 = 0\n",
    "    while True:\n",
    "        number = int(input('请输入数字：'))\n",
    "      \n",
    "        if number > 0:\n",
    "            sum_ += 1\n",
    "            number1 = number + number1 \n",
    "          \n",
    "        elif number < 0:\n",
    "            errorsum_ += 1\n",
    "            number2 = number + number2 \n",
    "            sum__ = number1 + number2\n",
    "            error = sum__ / (sum_+errorsum_)\n",
    "        else:\n",
    "            break\n",
    "    print(\"%f和%f均值\" % (sum__,error))\n",
    "first()"
   ]
  },
  {
   "cell_type": "code",
   "execution_count": 6,
   "metadata": {},
   "outputs": [
    {
     "name": "stdout",
     "output_type": "stream",
     "text": [
      "第1年的学费:10500.0\n",
      "第2年的学费:11025.0\n",
      "第3年的学费:11576.25\n",
      "第4年的学费:12155.0625\n",
      "第5年的学费:12762.815625\n",
      "第6年的学费:13400.95640625\n",
      "第7年的学费:14071.0042265625\n",
      "第8年的学费:14774.554437890625\n",
      "第9年的学费:15513.282159785156\n",
      "第10年的学费:16288.946267774414\n",
      "第11年的学费:17103.393581163135\n",
      "第12年的学费:17958.56326022129\n",
      "第13年的学费:18856.491423232354\n",
      "[10500.0, 11025.0, 11576.25, 12155.0625, 12762.815625, 13400.95640625, 14071.0042265625, 14774.554437890625, 15513.282159785156, 16288.946267774414, 17103.393581163135, 17958.56326022129, 18856.491423232354]\n",
      "学费：45256.312500\n"
     ]
    }
   ],
   "source": [
    "def Second():\n",
    "    money = 10000\n",
    "    list = []\n",
    "    for i in range(1,14):\n",
    "        money = money * 0.05 + money\n",
    "        money_ = str(money)\n",
    "        str_ = str(i)\n",
    "        list.append(money)\n",
    "      \n",
    "        print('第' + str_ + '年的学费:'+money_)\n",
    "    print(list)\n",
    " \n",
    "    xuefei = list[0]+list[1]+list[2]+list[3]\n",
    "    print('学费：%f' % xuefei)\n",
    "Second()\n"
   ]
  },
  {
   "cell_type": "code",
   "execution_count": 8,
   "metadata": {},
   "outputs": [
    {
     "name": "stdout",
     "output_type": "stream",
     "text": [
      "120 150 180 210 240 270 300 330 360 390 \n",
      "420 450 480 510 540 570 600 630 660 690 \n",
      "720 750 780 810 840 870 900 930 960 990 \n"
     ]
    }
   ],
   "source": [
    "def Therd():\n",
    "    count_ = 0\n",
    "    for i in range(100,1001):\n",
    "        if i % 5 == 0 and i % 6 == 0 :\n",
    "            count_ = count_ + 1\n",
    "            print(i,end=' ')\n",
    "            if count_ % 10 == 0:\n",
    "                print()\n",
    "Therd()"
   ]
  },
  {
   "cell_type": "code",
   "execution_count": 9,
   "metadata": {},
   "outputs": [
    {
     "name": "stdout",
     "output_type": "stream",
     "text": [
      "110\n",
      "23\n"
     ]
    }
   ],
   "source": [
    "def Four():\n",
    "    n = 0\n",
    "    while n**2 < 12000:\n",
    "        n += 1\n",
    "    print (n)\n",
    "Four()\n",
    "  \n",
    "def Four_():\n",
    "    n = 0\n",
    "    while n**3 < 12000:\n",
    "        n += 1\n",
    "    print(n)\n",
    "Four_()"
   ]
  },
  {
   "cell_type": "code",
   "execution_count": 12,
   "metadata": {},
   "outputs": [
    {
     "name": "stdout",
     "output_type": "stream",
     "text": [
      "11.397003949278504\n"
     ]
    }
   ],
   "source": [
    "def five():\n",
    "    \n",
    "    sumber_ = 0\n",
    "    for i in range(1,50001,1):\n",
    "            sumber_ += 1/i\n",
    "    print(sumber_)\n",
    "five()"
   ]
  },
  {
   "cell_type": "code",
   "execution_count": 13,
   "metadata": {},
   "outputs": [
    {
     "name": "stdout",
     "output_type": "stream",
     "text": [
      "45.124450303050196\n"
     ]
    }
   ],
   "source": [
    "def six():\n",
    "    sumb = 0\n",
    "    for i in range(1,98,2):\n",
    "        sumb += i / (i + 2)\n",
    "    print(sumb)\n",
    "six()"
   ]
  },
  {
   "cell_type": "code",
   "execution_count": 14,
   "metadata": {},
   "outputs": [
    {
     "name": "stdout",
     "output_type": "stream",
     "text": [
      "3.1416026536897204\n"
     ]
    }
   ],
   "source": [
    "def seven():\n",
    "    sumb = 0 \n",
    "    for i in range(1,100000):\n",
    "        sumb += 4 * (-1)**(i-1)/(2*i - 1)\n",
    "    print(sumb)\n",
    "seven()"
   ]
  },
  {
   "cell_type": "code",
   "execution_count": 15,
   "metadata": {},
   "outputs": [
    {
     "name": "stdout",
     "output_type": "stream",
     "text": [
      "6\n",
      "24\n",
      "28\n",
      "496\n",
      "2016\n",
      "8128\n",
      "8190\n"
     ]
    }
   ],
   "source": [
    "def eight():\n",
    "    for i in range(1,10001):\n",
    "        k = 0\n",
    "        for j in range(1,i):\n",
    "            if (i%j==0):\n",
    "                k+=j\n",
    "            if i == k:\n",
    "                print(i)\n",
    "                break\n",
    "eight()"
   ]
  },
  {
   "cell_type": "code",
   "execution_count": 16,
   "metadata": {},
   "outputs": [
    {
     "name": "stdout",
     "output_type": "stream",
     "text": [
      "11\n",
      "12\n",
      "13\n",
      "14\n",
      "15\n",
      "16\n",
      "17\n",
      "21\n",
      "22\n",
      "23\n",
      "24\n",
      "25\n",
      "26\n",
      "27\n",
      "31\n",
      "32\n",
      "33\n",
      "34\n",
      "35\n",
      "36\n",
      "37\n",
      "41\n",
      "42\n",
      "43\n",
      "44\n",
      "45\n",
      "46\n",
      "47\n",
      "51\n",
      "52\n",
      "53\n",
      "54\n",
      "55\n",
      "56\n",
      "57\n",
      "61\n",
      "62\n",
      "63\n",
      "64\n",
      "65\n",
      "66\n",
      "67\n",
      "71\n",
      "72\n",
      "73\n",
      "74\n",
      "75\n",
      "76\n",
      "77\n",
      "个数：49.000000\n"
     ]
    }
   ],
   "source": [
    "def nine():\n",
    "    count_ = 0\n",
    "    for i in range(1,8,1):\n",
    "        for j in range(1,8,1):\n",
    "            sumb = i*10 + j\n",
    "            count_ += 1\n",
    "            print(sumb)\n",
    "    print('个数：%f'%count_)\n",
    "nine()"
   ]
  },
  {
   "cell_type": "code",
   "execution_count": null,
   "metadata": {},
   "outputs": [],
   "source": []
  }
 ],
 "metadata": {
  "kernelspec": {
   "display_name": "Python 3",
   "language": "python",
   "name": "python3"
  },
  "language_info": {
   "codemirror_mode": {
    "name": "ipython",
    "version": 3
   },
   "file_extension": ".py",
   "mimetype": "text/x-python",
   "name": "python",
   "nbconvert_exporter": "python",
   "pygments_lexer": "ipython3",
   "version": "3.7.3"
  }
 },
 "nbformat": 4,
 "nbformat_minor": 2
}
